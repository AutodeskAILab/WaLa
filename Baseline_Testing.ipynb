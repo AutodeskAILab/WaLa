{
 "cells": [
  {
   "cell_type": "code",
   "execution_count": 16,
   "metadata": {},
   "outputs": [],
   "source": [
    "from pathlib import Path\n",
    "import open3d as o3d\n",
    "import os\n",
    "\n",
    "from pytorch_lightning import seed_everything\n",
    "\n",
    "from src.dataset_utils import (\n",
    "    get_singleview_data,\n",
    "    get_multiview_data,\n",
    "    get_voxel_data_json,\n",
    "    get_image_transform_latent_model,\n",
    "    get_pointcloud_data,\n",
    "    get_mv_dm_data,\n",
    "    get_sv_dm_data,\n",
    "    get_sketch_data\n",
    ")\n",
    "from src.model_utils import Model\n",
    "from src.mvdream_utils import load_mvdream_model\n",
    "import argparse\n",
    "from PIL import Image\n"
   ]
  },
  {
   "cell_type": "code",
   "execution_count": null,
   "metadata": {},
   "outputs": [],
   "source": []
  },
  {
   "cell_type": "code",
   "execution_count": 17,
   "metadata": {},
   "outputs": [
    {
     "name": "stderr",
     "output_type": "stream",
     "text": [
      "\u001b[1;38;5;39mCOMET INFO:\u001b[0m An experiment with the same configuration options is already running and will be reused.\n"
     ]
    }
   ],
   "source": [
    "from comet_ml import start\n",
    "from comet_ml.integration.pytorch import log_model\n",
    "\n",
    "experiment = start(\n",
    "  api_key=\"mqrUAXjKBRul24uX6pxR3gRHX*eyJiYXNlVXJsIjoiaHR0cHM6Ly9jb21ldC5kZXYuY2xvdWRvcy5hdXRvZGVzay5jb20ifQ\",\n",
    "  project_name=\"wala-time-checks\",\n",
    "  workspace=\"alessandro-giuliano\"\n",
    ")"
   ]
  },
  {
   "cell_type": "code",
   "execution_count": 18,
   "metadata": {},
   "outputs": [],
   "source": [
    "\n",
    "def simplify_mesh(obj_path, target_num_faces=1000):\n",
    "    mesh = o3d.io.read_triangle_mesh(obj_path)\n",
    "    simplified_mesh = mesh.simplify_quadric_decimation(target_num_faces)\n",
    "    o3d.io.write_triangle_mesh(obj_path, simplified_mesh)\n",
    "\n",
    "\n",
    "def generate_3d_object(\n",
    "    model,\n",
    "    data,\n",
    "    data_idx,\n",
    "    scale,\n",
    "    diffusion_rescale_timestep,\n",
    "    save_dir=\"examples\",\n",
    "    output_format=\"obj\",\n",
    "    target_num_faces=None,\n",
    "    seed=42,\n",
    "    \n",
    "):\n",
    "    # Set seed\n",
    "    seed_everything(seed, workers=True)\n",
    "\n",
    "    save_dir.mkdir(parents=True, exist_ok=True)\n",
    "    model.set_inference_fusion_params(scale, diffusion_rescale_timestep)\n",
    "    output_path = model.test_inference(\n",
    "        data, data_idx, experiment, save_dir=save_dir, output_format=output_format\n",
    "    )\n",
    "\n",
    "    if output_format == \"obj\" and target_num_faces:\n",
    "        simplify_mesh(output_path, target_num_faces=target_num_faces)\n"
   ]
  },
  {
   "cell_type": "code",
   "execution_count": 19,
   "metadata": {},
   "outputs": [],
   "source": [
    "model_name = 'ADSKAILab/WaLa-SV-1B'\n",
    "images_path = Path('examples/single_view/')\n",
    "single_image = ['examples/single_view/table.png']\n",
    "\n",
    "output_dir = 'examples/Test_Gen'\n",
    "output_format = 'obj'\n",
    "target_num_faces = None\n",
    "scale = 1.8\n",
    "seed = 42\n",
    "diffusion_rescale_timestep = 5\n",
    "\n"
   ]
  },
  {
   "cell_type": "code",
   "execution_count": 20,
   "metadata": {},
   "outputs": [
    {
     "name": "stdout",
     "output_type": "stream",
     "text": [
      "Loading model\n",
      "'DotDict' object has no attribute 'dataset_path'\n",
      "'DotDict' object has no attribute 'low_avg'\n",
      "'DotDict' object has no attribute 'low_avg'\n",
      "Low avg used : None high value: 63\n"
     ]
    },
    {
     "name": "stderr",
     "output_type": "stream",
     "text": [
      "/opt/miniconda/envs/wala/lib/python3.10/site-packages/pytorch_lightning/utilities/migration/utils.py:55: The loaded checkpoint was produced with Lightning v2.3.3, which is newer than your current Lightning version: v2.1.0\n",
      "Using cache found in /home/ray/.cache/torch/hub/facebookresearch_dinov2_main\n",
      "/home/ray/.cache/torch/hub/facebookresearch_dinov2_main/dinov2/layers/swiglu_ffn.py:43: UserWarning: xFormers is available (SwiGLU)\n",
      "  warnings.warn(\"xFormers is available (SwiGLU)\")\n",
      "/home/ray/.cache/torch/hub/facebookresearch_dinov2_main/dinov2/layers/attention.py:27: UserWarning: xFormers is available (Attention)\n",
      "  warnings.warn(\"xFormers is available (Attention)\")\n",
      "/home/ray/.cache/torch/hub/facebookresearch_dinov2_main/dinov2/layers/block.py:33: UserWarning: xFormers is available (Block)\n",
      "  warnings.warn(\"xFormers is available (Block)\")\n"
     ]
    },
    {
     "name": "stdout",
     "output_type": "stream",
     "text": [
      "cond_emb_dim: 1024\n",
      "Input resolution: 224\n",
      "Vocab size: N/A\n",
      "'DotDict' object has no attribute 'use_multiple_views_inferences'\n",
      "'DotDict' object has no attribute 'use_multiple_views_inferences'\n",
      "'DotDict' object has no attribute 'use_multiple_views_inferences'\n",
      "'DotDict' object has no attribute 'use_multiple_views_inferences'\n"
     ]
    },
    {
     "name": "stderr",
     "output_type": "stream",
     "text": [
      "Seed set to 42\n"
     ]
    },
    {
     "name": "stdout",
     "output_type": "stream",
     "text": [
      "Processing image: examples/single_view/table.png\n",
      "Extract Image 0.12564563751220703 s\n",
      "'DotDict' object has no attribute 'use_multiple_views_inferences'\n",
      "'DotDict' object has no attribute 'use_multiple_views_inferences'\n"
     ]
    },
    {
     "data": {
      "application/vnd.jupyter.widget-view+json": {
       "model_id": "e5112e385d0d4664955313d987c52f23",
       "version_major": 2,
       "version_minor": 0
      },
      "text/plain": [
       "  0%|          | 0/5 [00:00<?, ?it/s]"
      ]
     },
     "metadata": {},
     "output_type": "display_data"
    },
    {
     "name": "stdout",
     "output_type": "stream",
     "text": [
      "Latent Diffusion Time 2.402419090270996 s\n",
      "Latent Decoding Time 0.0975334644317627 s\n",
      "Wavelet Preparation Time 0.0002522468566894531 s\n",
      "Low to Highs conversion 0.2680997848510742 s\n",
      "Inverse DWT time elapsed 0.010677576065063477 s\n",
      "mcubes.marching_cubes time 0.5867412090301514 s\n",
      "export obj time 2.3584489822387695 s\n",
      "Time to save visualization from high lows to obj 2.9565439224243164 s\n"
     ]
    }
   ],
   "source": [
    "print(f\"Loading model\")\n",
    "\n",
    "model = Model.from_pretrained(pretrained_model_name_or_path=model_name)\n",
    "image_transform = get_image_transform_latent_model()\n",
    "\n",
    "for image_path in single_image:\n",
    "    print(f\"Processing image: {image_path}\")\n",
    "    data = get_singleview_data(\n",
    "        image_file=Path(image_path),\n",
    "        image_transform=image_transform,\n",
    "        device=model.device,\n",
    "        image_over_white=False,\n",
    "    )\n",
    "    data_idx = 0\n",
    "    save_dir = Path(output_dir) / Path(image_path).stem\n",
    "\n",
    "    model.set_inference_fusion_params(\n",
    "        scale, diffusion_rescale_timestep\n",
    "    )\n",
    "\n",
    "    generate_3d_object(\n",
    "        model,\n",
    "        data,\n",
    "        data_idx,\n",
    "        scale,\n",
    "        diffusion_rescale_timestep,\n",
    "        save_dir,\n",
    "        output_format,\n",
    "        target_num_faces,\n",
    "        seed\n",
    "    )\n",
    "\n",
    "\n",
    "    "
   ]
  },
  {
   "cell_type": "code",
   "execution_count": 6,
   "metadata": {},
   "outputs": [
    {
     "name": "stderr",
     "output_type": "stream",
     "text": [
      "Seed set to 42\n"
     ]
    },
    {
     "name": "stdout",
     "output_type": "stream",
     "text": [
      "Processing image: examples/single_view/table.png\n",
      "Extract Image 0.016147613525390625 s\n",
      "'DotDict' object has no attribute 'use_multiple_views_inferences'\n",
      "'DotDict' object has no attribute 'use_multiple_views_inferences'\n"
     ]
    },
    {
     "data": {
      "application/vnd.jupyter.widget-view+json": {
       "model_id": "545991d8976d42cfa965097c76f01011",
       "version_major": 2,
       "version_minor": 0
      },
      "text/plain": [
       "  0%|          | 0/5 [00:00<?, ?it/s]"
      ]
     },
     "metadata": {},
     "output_type": "display_data"
    },
    {
     "name": "stdout",
     "output_type": "stream",
     "text": [
      "Latent Diffusion Time 2.348755121231079 s\n",
      "Latent Decoding Time 0.005625724792480469 s\n",
      "Wavelet Preparation Time 0.00020551681518554688 s\n",
      "Low to Highs conversion 0.27273058891296387 s\n",
      "Inverse DWT time elapsed 0.0033140182495117188 s\n",
      "mcubes.marching_cubes time 0.5861926078796387 s\n"
     ]
    },
    {
     "name": "stderr",
     "output_type": "stream",
     "text": [
      "Seed set to 42\n"
     ]
    },
    {
     "name": "stdout",
     "output_type": "stream",
     "text": [
      "export obj time 2.3593924045562744 s\n",
      "Time to save visualization from high lows to obj 2.9496212005615234 s\n",
      "Total Inference time 5.6073362827301025\n",
      "Processing image: examples/single_view/apple.jpeg\n",
      "Extract Image 0.014613866806030273 s\n",
      "'DotDict' object has no attribute 'use_multiple_views_inferences'\n",
      "'DotDict' object has no attribute 'use_multiple_views_inferences'\n"
     ]
    },
    {
     "data": {
      "application/vnd.jupyter.widget-view+json": {
       "model_id": "310c9514d5d04b8f8a94f60430dfe7fb",
       "version_major": 2,
       "version_minor": 0
      },
      "text/plain": [
       "  0%|          | 0/5 [00:00<?, ?it/s]"
      ]
     },
     "metadata": {},
     "output_type": "display_data"
    },
    {
     "name": "stdout",
     "output_type": "stream",
     "text": [
      "Latent Diffusion Time 2.353048324584961 s\n",
      "Latent Decoding Time 0.0043375492095947266 s\n",
      "Wavelet Preparation Time 0.0001518726348876953 s\n",
      "Low to Highs conversion 0.2792699337005615 s\n",
      "Inverse DWT time elapsed 0.004033088684082031 s\n",
      "mcubes.marching_cubes time 0.5573968887329102 s\n"
     ]
    },
    {
     "name": "stderr",
     "output_type": "stream",
     "text": [
      "Seed set to 42\n"
     ]
    },
    {
     "name": "stdout",
     "output_type": "stream",
     "text": [
      "export obj time 2.0231595039367676 s\n",
      "Time to save visualization from high lows to obj 2.5854058265686035 s\n",
      "Total Inference time 5.2440409660339355\n",
      "Processing image: examples/single_view/pear.jpeg\n",
      "Extract Image 0.014765024185180664 s\n",
      "'DotDict' object has no attribute 'use_multiple_views_inferences'\n",
      "'DotDict' object has no attribute 'use_multiple_views_inferences'\n"
     ]
    },
    {
     "data": {
      "application/vnd.jupyter.widget-view+json": {
       "model_id": "c97171004398444f95c6dcb01904b852",
       "version_major": 2,
       "version_minor": 0
      },
      "text/plain": [
       "  0%|          | 0/5 [00:00<?, ?it/s]"
      ]
     },
     "metadata": {},
     "output_type": "display_data"
    },
    {
     "name": "stdout",
     "output_type": "stream",
     "text": [
      "Latent Diffusion Time 2.3535726070404053 s\n",
      "Latent Decoding Time 0.004456758499145508 s\n",
      "Wavelet Preparation Time 0.00014972686767578125 s\n",
      "Low to Highs conversion 0.24218201637268066 s\n",
      "Inverse DWT time elapsed 0.0028891563415527344 s\n",
      "mcubes.marching_cubes time 0.5516839027404785 s\n"
     ]
    },
    {
     "name": "stderr",
     "output_type": "stream",
     "text": [
      "\u001b[1;38;5;39mCOMET INFO:\u001b[0m ---------------------------------------------------------------------------------------\n",
      "\u001b[1;38;5;39mCOMET INFO:\u001b[0m Comet.ml Experiment Summary\n",
      "\u001b[1;38;5;39mCOMET INFO:\u001b[0m ---------------------------------------------------------------------------------------\n",
      "\u001b[1;38;5;39mCOMET INFO:\u001b[0m   Data:\n",
      "\u001b[1;38;5;39mCOMET INFO:\u001b[0m     display_summary_level : 1\n",
      "\u001b[1;38;5;39mCOMET INFO:\u001b[0m     name                  : fashionable_durian_9726\n",
      "\u001b[1;38;5;39mCOMET INFO:\u001b[0m     url                   : https://comet.dev.cloudos.autodesk.com/alessandro-giuliano/wala-time-checks/b8a38b6c4e3749158d63843fccbaea46\n",
      "\u001b[1;38;5;39mCOMET INFO:\u001b[0m   Metrics [count] (min, max):\n",
      "\u001b[1;38;5;39mCOMET INFO:\u001b[0m     Default Delta [3]                                    : (4.964773178100586, 5.6073362827301025)\n",
      "\u001b[1;38;5;39mCOMET INFO:\u001b[0m     Extract Image [4]                                    : (0.014613866806030273, 0.12229490280151367)\n",
      "\u001b[1;38;5;39mCOMET INFO:\u001b[0m     Inverse DWT time elapsed [4]                         : (0.0028891563415527344, 0.011530399322509766)\n",
      "\u001b[1;38;5;39mCOMET INFO:\u001b[0m     Latent Decoding Time [4]                             : (0.0043375492095947266, 0.08470869064331055)\n",
      "\u001b[1;38;5;39mCOMET INFO:\u001b[0m     Latent Diffusion Time [4]                            : (2.348755121231079, 2.4014265537261963)\n",
      "\u001b[1;38;5;39mCOMET INFO:\u001b[0m     Low to Highs conversion [4]                          : (0.24218201637268066, 0.27984070777893066)\n",
      "\u001b[1;38;5;39mCOMET INFO:\u001b[0m     Time to save visualization from high lows to obj [4] : (1747763584.134627, 1747763600.814722)\n",
      "\u001b[1;38;5;39mCOMET INFO:\u001b[0m     Wavelet Preparation Time [4]                         : (0.00014972686767578125, 0.00024509429931640625)\n",
      "\u001b[1;38;5;39mCOMET INFO:\u001b[0m     export obj time [4]                                  : (1.7861897945404053, 2.406677484512329)\n",
      "\u001b[1;38;5;39mCOMET INFO:\u001b[0m     mcubes.marching_cubes time [4]                       : (0.5516839027404785, 0.6026129722595215)\n",
      "\u001b[1;38;5;39mCOMET INFO:\u001b[0m   Uploads:\n",
      "\u001b[1;38;5;39mCOMET INFO:\u001b[0m     conda-environment-definition : 1\n",
      "\u001b[1;38;5;39mCOMET INFO:\u001b[0m     conda-info                   : 1\n",
      "\u001b[1;38;5;39mCOMET INFO:\u001b[0m     conda-specification          : 1\n",
      "\u001b[1;38;5;39mCOMET INFO:\u001b[0m     environment details          : 1\n",
      "\u001b[1;38;5;39mCOMET INFO:\u001b[0m     filename                     : 1\n",
      "\u001b[1;38;5;39mCOMET INFO:\u001b[0m     git metadata                 : 1\n",
      "\u001b[1;38;5;39mCOMET INFO:\u001b[0m     git-patch (uncompressed)     : 1 (148.26 KB)\n",
      "\u001b[1;38;5;39mCOMET INFO:\u001b[0m     installed packages           : 1\n",
      "\u001b[1;38;5;39mCOMET INFO:\u001b[0m     notebook                     : 1\n",
      "\u001b[1;38;5;39mCOMET INFO:\u001b[0m     os packages                  : 1\n",
      "\u001b[1;38;5;39mCOMET INFO:\u001b[0m     source_code                  : 1\n",
      "\u001b[1;38;5;39mCOMET INFO:\u001b[0m \n",
      "\u001b[1;38;5;214mCOMET WARNING:\u001b[0m To get all data logged automatically, import comet_ml before the following modules: torch, sklearn.\n"
     ]
    },
    {
     "name": "stdout",
     "output_type": "stream",
     "text": [
      "export obj time 1.786191463470459 s\n",
      "Time to save visualization from high lows to obj 2.3415040969848633 s\n",
      "Total Inference time 4.964773178100586\n"
     ]
    }
   ],
   "source": [
    "import time\n",
    "\n",
    "\n",
    "for idx, image_path in enumerate(images_path.iterdir()):  # Enumerate to get the index\n",
    "    timer1 = time.time()\n",
    "    print(f\"Processing image: {image_path}\")\n",
    "    data = get_singleview_data(\n",
    "        image_file=Path(image_path),\n",
    "        image_transform=image_transform,\n",
    "        device=model.device,\n",
    "        image_over_white=False,\n",
    "    )\n",
    "    data_idx = 0\n",
    "    save_dir = Path(output_dir) \n",
    "\n",
    "    model.set_inference_fusion_params(\n",
    "        scale, diffusion_rescale_timestep\n",
    "    )\n",
    "\n",
    "    generate_3d_object(\n",
    "        model,\n",
    "        data,\n",
    "        data_idx,\n",
    "        scale,\n",
    "        diffusion_rescale_timestep,\n",
    "        save_dir,\n",
    "        output_format,\n",
    "        target_num_faces,\n",
    "        seed,\n",
    "    )\n",
    "    delta = time.time() - timer1\n",
    "    experiment.log_metric(\"Default Delta\", delta)\n",
    "    print('Total Inference time', delta)\n",
    "\n",
    "experiment.end()"
   ]
  },
  {
   "cell_type": "markdown",
   "metadata": {},
   "source": [
    "## Dataset Extraction and Utilization for Benchmarking"
   ]
  },
  {
   "cell_type": "markdown",
   "metadata": {},
   "source": [
    "### Dataset download and extraction"
   ]
  },
  {
   "cell_type": "code",
   "execution_count": null,
   "metadata": {},
   "outputs": [],
   "source": [
    "import zipfile\n",
    "from pathlib import Path\n",
    "import os\n",
    "import shutil\n",
    "\n",
    "zip_dir = '/home/ray/WaLa/Raw_data'         # Folder with zip files\n",
    "output_dir = '/home/ray/WaLa/test_images'  # Where to save extracted thumbnails\n",
    "os.makedirs(output_dir, exist_ok=True)\n",
    "\n",
    "for zip_path in Path(zip_dir).glob('*.zip'):\n",
    "    with zipfile.ZipFile(zip_path, 'r') as z:\n",
    "        # Find files in the 'thumbnail' folder (not subfolders)\n",
    "        thumbnail_files = [f for f in z.namelist() if f.startswith('thumbnails/') and not f.endswith('/')]\n",
    "        if thumbnail_files:\n",
    "            thumb_file = thumbnail_files[0]  # Pick the first one\n",
    "            ext = Path(thumb_file).suffix\n",
    "            out_name = zip_path.stem + ext\n",
    "            out_path = Path(output_dir) / out_name\n",
    "            with z.open(thumb_file) as source, open(out_path, 'wb') as target:\n",
    "                shutil.copyfileobj(source, target)\n",
    "            print(f\"Extracted {thumb_file} from {zip_path.name} as {out_name}\")"
   ]
  },
  {
   "cell_type": "code",
   "execution_count": null,
   "metadata": {},
   "outputs": [
    {
     "name": "stdout",
     "output_type": "stream",
     "text": [
      "Extracted images: 0\n"
     ]
    }
   ],
   "source": [
    "from pathlib import Path\n",
    "\n",
    "def count_extracted_images(target_folder, extensions={'.jpg', '.jpeg', '.png', '.bmp', '.gif', '.tiff'}):\n",
    "    \"\"\"\n",
    "    Counts the number of image files in the target folder.\n",
    "    Args:\n",
    "        target_folder (str or Path): Path to the folder to check.\n",
    "        extensions (set): Set of file extensions to consider as images.\n",
    "    Returns:\n",
    "        int: Number of image files found.\n",
    "    \"\"\"\n",
    "    target_folder = Path(target_folder)\n",
    "    return sum(1 for f in target_folder.iterdir() if f.suffix.lower() in extensions and f.is_file())\n",
    "\n",
    "num_images = count_extracted_images('/home/ray/WaLa/test_images')  # Where to save extracted thumbnails\n",
    "print(f\"Extracted images: {num_images}\")"
   ]
  },
  {
   "cell_type": "code",
   "execution_count": null,
   "metadata": {},
   "outputs": [],
   "source": []
  },
  {
   "cell_type": "markdown",
   "metadata": {},
   "source": [
    "### Dataset Inference Tests"
   ]
  },
  {
   "cell_type": "code",
   "execution_count": 25,
   "metadata": {},
   "outputs": [
    {
     "name": "stderr",
     "output_type": "stream",
     "text": [
      "\u001b[1;38;5;214mCOMET WARNING:\u001b[0m As you are running in a Jupyter environment, you will need to call `experiment.end()` when finished to ensure all metrics and code are logged before exiting.\n",
      "\u001b[1;38;5;39mCOMET INFO:\u001b[0m Experiment is live on comet.com https://comet.dev.cloudos.autodesk.com/alessandro-giuliano/wala-time-checks/1bf42d8c3ee545628968903512893acf\n",
      "\n"
     ]
    }
   ],
   "source": [
    "from comet_ml import start\n",
    "from comet_ml.integration.pytorch import log_model\n",
    "import time\n",
    "\n",
    "experiment = start(\n",
    "  api_key=\"mqrUAXjKBRul24uX6pxR3gRHX*eyJiYXNlVXJsIjoiaHR0cHM6Ly9jb21ldC5kZXYuY2xvdWRvcy5hdXRvZGVzay5jb20ifQ\",\n",
    "  project_name=\"wala-time-checks\",\n",
    "  workspace=\"alessandro-giuliano\")\n",
    "\n",
    "\n",
    "  # Define the hyperparameters\n",
    "hyperparameters = {\n",
    "    \"model_name\": \"ADSKAILab/WaLa-SV-1B\",\n",
    "    \"images_path\": str(Path(\"examples/single_view/\")),\n",
    "    \"single_image\": [\"examples/single_view/table.png\"],\n",
    "    \"output_dir\": \"examples/Test_Gen\",\n",
    "    \"output_format\": \"obj\",\n",
    "    \"target_num_faces\": None,\n",
    "    \"scale\": 1.8,\n",
    "    \"seed\": 42,\n",
    "    \"diffusion_rescale_timestep\": 5\n",
    "}\n",
    "\n",
    "# Log the hyperparameters to Comet\n",
    "experiment.log_parameters(hyperparameters)"
   ]
  },
  {
   "cell_type": "code",
   "execution_count": null,
   "metadata": {},
   "outputs": [
    {
     "name": "stderr",
     "output_type": "stream",
     "text": [
      "Seed set to 42\n"
     ]
    },
    {
     "name": "stdout",
     "output_type": "stream",
     "text": [
      "Processing image 1: /home/ray/test_images/2_of_Jenga_Classic_Game.jpg\n",
      "Extract Image 0.015231847763061523 s\n",
      "'DotDict' object has no attribute 'use_multiple_views_inferences'\n",
      "'DotDict' object has no attribute 'use_multiple_views_inferences'\n"
     ]
    },
    {
     "data": {
      "application/vnd.jupyter.widget-view+json": {
       "model_id": "29570e12c38f44e2817d88fff37c0d73",
       "version_major": 2,
       "version_minor": 0
      },
      "text/plain": [
       "  0%|          | 0/5 [00:00<?, ?it/s]"
      ]
     },
     "metadata": {},
     "output_type": "display_data"
    },
    {
     "name": "stdout",
     "output_type": "stream",
     "text": [
      "Latent Diffusion Time 2.3450021743774414 s\n",
      "Latent Decoding Time 0.00432586669921875 s\n",
      "Wavelet Preparation Time 0.00014734268188476562 s\n",
      "Low to Highs conversion 0.055942535400390625 s\n",
      "Inverse DWT time elapsed 0.0028400421142578125 s\n",
      "mcubes.marching_cubes time 0.5419051647186279 s\n"
     ]
    },
    {
     "name": "stderr",
     "output_type": "stream",
     "text": [
      "Seed set to 42\n"
     ]
    },
    {
     "name": "stdout",
     "output_type": "stream",
     "text": [
      "export obj time 0.6504092216491699 s\n",
      "Time to save visualization from high lows to obj 1.1957454681396484 s\n",
      "Total Inference time 3.626725435256958\n",
      "Processing image 2: /home/ray/test_images/50_BLOCKS.jpg\n",
      "Extract Image 0.01565718650817871 s\n",
      "'DotDict' object has no attribute 'use_multiple_views_inferences'\n",
      "'DotDict' object has no attribute 'use_multiple_views_inferences'\n"
     ]
    },
    {
     "data": {
      "application/vnd.jupyter.widget-view+json": {
       "model_id": "bf4526ac09be4f9298f6a15a6ad813a0",
       "version_major": 2,
       "version_minor": 0
      },
      "text/plain": [
       "  0%|          | 0/5 [00:00<?, ?it/s]"
      ]
     },
     "metadata": {},
     "output_type": "display_data"
    },
    {
     "name": "stdout",
     "output_type": "stream",
     "text": [
      "Latent Diffusion Time 2.3487496376037598 s\n",
      "Latent Decoding Time 0.004271984100341797 s\n",
      "Wavelet Preparation Time 0.00013828277587890625 s\n",
      "Low to Highs conversion 0.055728912353515625 s\n",
      "Inverse DWT time elapsed 0.002806425094604492 s\n",
      "mcubes.marching_cubes time 0.5856587886810303 s\n"
     ]
    },
    {
     "name": "stderr",
     "output_type": "stream",
     "text": [
      "Seed set to 42\n"
     ]
    },
    {
     "name": "stdout",
     "output_type": "stream",
     "text": [
      "export obj time 1.7209019660949707 s\n",
      "Time to save visualization from high lows to obj 2.3100316524505615 s\n",
      "Total Inference time 4.743534803390503\n",
      "Processing image 3: /home/ray/test_images/5_HTP.jpg\n",
      "Extract Image 0.01614832878112793 s\n",
      "'DotDict' object has no attribute 'use_multiple_views_inferences'\n",
      "'DotDict' object has no attribute 'use_multiple_views_inferences'\n"
     ]
    },
    {
     "data": {
      "application/vnd.jupyter.widget-view+json": {
       "model_id": "df746a0b6b2f4203a48a13d78afb62ed",
       "version_major": 2,
       "version_minor": 0
      },
      "text/plain": [
       "  0%|          | 0/5 [00:00<?, ?it/s]"
      ]
     },
     "metadata": {},
     "output_type": "display_data"
    },
    {
     "name": "stdout",
     "output_type": "stream",
     "text": [
      "Latent Diffusion Time 2.3486950397491455 s\n",
      "Latent Decoding Time 0.0042269229888916016 s\n",
      "Wavelet Preparation Time 0.00014972686767578125 s\n",
      "Low to Highs conversion 0.05632948875427246 s\n",
      "Inverse DWT time elapsed 0.002691507339477539 s\n",
      "mcubes.marching_cubes time 0.5546431541442871 s\n"
     ]
    },
    {
     "name": "stderr",
     "output_type": "stream",
     "text": [
      "Seed set to 42\n"
     ]
    },
    {
     "name": "stdout",
     "output_type": "stream",
     "text": [
      "export obj time 3.2628061771392822 s\n",
      "Time to save visualization from high lows to obj 3.8208158016204834 s\n",
      "Total Inference time 6.25624680519104\n",
      "Processing image 4: /home/ray/test_images/ASICS_GELAce_Pro_Pearl_WhitePink.jpg\n",
      "Extract Image 0.015290260314941406 s\n",
      "'DotDict' object has no attribute 'use_multiple_views_inferences'\n",
      "'DotDict' object has no attribute 'use_multiple_views_inferences'\n"
     ]
    },
    {
     "data": {
      "application/vnd.jupyter.widget-view+json": {
       "model_id": "906fa431f9bf4d0e8e592640aee1f910",
       "version_major": 2,
       "version_minor": 0
      },
      "text/plain": [
       "  0%|          | 0/5 [00:00<?, ?it/s]"
      ]
     },
     "metadata": {},
     "output_type": "display_data"
    },
    {
     "name": "stdout",
     "output_type": "stream",
     "text": [
      "Latent Diffusion Time 2.3521902561187744 s\n",
      "Latent Decoding Time 0.004426717758178711 s\n",
      "Wavelet Preparation Time 0.00014281272888183594 s\n",
      "Low to Highs conversion 0.056540489196777344 s\n",
      "Inverse DWT time elapsed 0.004151105880737305 s\n",
      "mcubes.marching_cubes time 0.5502538681030273 s\n"
     ]
    },
    {
     "name": "stderr",
     "output_type": "stream",
     "text": [
      "Seed set to 42\n"
     ]
    },
    {
     "name": "stdout",
     "output_type": "stream",
     "text": [
      "export obj time 2.0073347091674805 s\n",
      "Time to save visualization from high lows to obj 2.562471389770508 s\n",
      "Total Inference time 5.00045108795166\n",
      "Processing image 5: /home/ray/test_images/ASICS_GELBlur33_20_GS_BlackWhiteSafety_Orange.jpg\n",
      "Extract Image 0.014790534973144531 s\n",
      "'DotDict' object has no attribute 'use_multiple_views_inferences'\n",
      "'DotDict' object has no attribute 'use_multiple_views_inferences'\n"
     ]
    },
    {
     "data": {
      "application/vnd.jupyter.widget-view+json": {
       "model_id": "c0a59f708525444aaf256e44b21067ca",
       "version_major": 2,
       "version_minor": 0
      },
      "text/plain": [
       "  0%|          | 0/5 [00:00<?, ?it/s]"
      ]
     },
     "metadata": {},
     "output_type": "display_data"
    },
    {
     "name": "stdout",
     "output_type": "stream",
     "text": [
      "Latent Diffusion Time 2.3549349308013916 s\n",
      "Latent Decoding Time 0.004199504852294922 s\n",
      "Wavelet Preparation Time 0.00015783309936523438 s\n",
      "Low to Highs conversion 0.05626320838928223 s\n",
      "Inverse DWT time elapsed 0.003087759017944336 s\n",
      "mcubes.marching_cubes time 0.5510866641998291 s\n"
     ]
    },
    {
     "name": "stderr",
     "output_type": "stream",
     "text": [
      "Seed set to 42\n"
     ]
    },
    {
     "name": "stdout",
     "output_type": "stream",
     "text": [
      "export obj time 1.905125379562378 s\n",
      "Time to save visualization from high lows to obj 2.4598329067230225 s\n",
      "Total Inference time 4.9002790451049805\n",
      "Processing image 6: /home/ray/test_images/Asus_M5A78LMUSB3_Motherboard_Micro_ATX_Socket_AM3.jpg\n",
      "Extract Image 0.022942781448364258 s\n",
      "'DotDict' object has no attribute 'use_multiple_views_inferences'\n",
      "'DotDict' object has no attribute 'use_multiple_views_inferences'\n"
     ]
    },
    {
     "data": {
      "application/vnd.jupyter.widget-view+json": {
       "model_id": "1b69bd6305c64ba9ac7ef3dbec2fd35b",
       "version_major": 2,
       "version_minor": 0
      },
      "text/plain": [
       "  0%|          | 0/5 [00:00<?, ?it/s]"
      ]
     },
     "metadata": {},
     "output_type": "display_data"
    },
    {
     "name": "stdout",
     "output_type": "stream",
     "text": [
      "Latent Diffusion Time 2.3623037338256836 s\n",
      "Latent Decoding Time 0.004249095916748047 s\n",
      "Wavelet Preparation Time 0.00014638900756835938 s\n",
      "Low to Highs conversion 0.05631136894226074 s\n",
      "Inverse DWT time elapsed 0.0030982494354248047 s\n",
      "mcubes.marching_cubes time 0.5532784461975098 s\n"
     ]
    },
    {
     "name": "stderr",
     "output_type": "stream",
     "text": [
      "Seed set to 42\n"
     ]
    },
    {
     "name": "stdout",
     "output_type": "stream",
     "text": [
      "export obj time 2.7566452026367188 s\n",
      "Time to save visualization from high lows to obj 3.3137435913085938 s\n",
      "Total Inference time 5.772340297698975\n",
      "Processing image 7: /home/ray/test_images/Asus_M5A99FX_PRO_R20_Motherboard_ATX_Socket_AM3.jpg\n",
      "Extract Image 0.014304876327514648 s\n",
      "'DotDict' object has no attribute 'use_multiple_views_inferences'\n",
      "'DotDict' object has no attribute 'use_multiple_views_inferences'\n"
     ]
    },
    {
     "data": {
      "application/vnd.jupyter.widget-view+json": {
       "model_id": "ada39c9e50044f3f903d155e17668ed7",
       "version_major": 2,
       "version_minor": 0
      },
      "text/plain": [
       "  0%|          | 0/5 [00:00<?, ?it/s]"
      ]
     },
     "metadata": {},
     "output_type": "display_data"
    },
    {
     "name": "stdout",
     "output_type": "stream",
     "text": [
      "Latent Diffusion Time 2.359206438064575 s\n",
      "Latent Decoding Time 0.004752159118652344 s\n",
      "Wavelet Preparation Time 0.0001506805419921875 s\n",
      "Low to Highs conversion 0.056252241134643555 s\n",
      "Inverse DWT time elapsed 0.0030074119567871094 s\n",
      "mcubes.marching_cubes time 0.553455114364624 s\n"
     ]
    },
    {
     "name": "stderr",
     "output_type": "stream",
     "text": [
      "Seed set to 42\n"
     ]
    },
    {
     "name": "stdout",
     "output_type": "stream",
     "text": [
      "export obj time 3.3156492710113525 s\n",
      "Time to save visualization from high lows to obj 3.8728880882263184 s\n",
      "Total Inference time 6.318109512329102\n",
      "Processing image 8: /home/ray/test_images/Asus_Sabertooth_990FX_20_Motherboard_ATX_Socket_AM3.jpg\n",
      "Extract Image 0.014948606491088867 s\n",
      "'DotDict' object has no attribute 'use_multiple_views_inferences'\n",
      "'DotDict' object has no attribute 'use_multiple_views_inferences'\n"
     ]
    },
    {
     "data": {
      "application/vnd.jupyter.widget-view+json": {
       "model_id": "fe224614479b4ead9f1c9106140dfe07",
       "version_major": 2,
       "version_minor": 0
      },
      "text/plain": [
       "  0%|          | 0/5 [00:00<?, ?it/s]"
      ]
     },
     "metadata": {},
     "output_type": "display_data"
    },
    {
     "name": "stdout",
     "output_type": "stream",
     "text": [
      "Latent Diffusion Time 2.3669867515563965 s\n",
      "Latent Decoding Time 0.0049285888671875 s\n",
      "Wavelet Preparation Time 0.00016045570373535156 s\n",
      "Low to Highs conversion 0.056097984313964844 s\n",
      "Inverse DWT time elapsed 0.0031456947326660156 s\n",
      "mcubes.marching_cubes time 0.5523548126220703 s\n"
     ]
    },
    {
     "name": "stderr",
     "output_type": "stream",
     "text": [
      "Seed set to 42\n"
     ]
    },
    {
     "name": "stdout",
     "output_type": "stream",
     "text": [
      "export obj time 3.2503561973571777 s\n",
      "Time to save visualization from high lows to obj 3.806323289871216 s\n",
      "Total Inference time 6.2600648403167725\n",
      "Processing image 9: /home/ray/test_images/Asus_Sabertooth_Z97_MARK_1_Motherboard_ATX_LGA1150_Socket.jpg\n",
      "Extract Image 0.014257431030273438 s\n",
      "'DotDict' object has no attribute 'use_multiple_views_inferences'\n",
      "'DotDict' object has no attribute 'use_multiple_views_inferences'\n"
     ]
    },
    {
     "data": {
      "application/vnd.jupyter.widget-view+json": {
       "model_id": "037fe925c83f4fc6b738a07e99f3a163",
       "version_major": 2,
       "version_minor": 0
      },
      "text/plain": [
       "  0%|          | 0/5 [00:00<?, ?it/s]"
      ]
     },
     "metadata": {},
     "output_type": "display_data"
    },
    {
     "name": "stdout",
     "output_type": "stream",
     "text": [
      "Latent Diffusion Time 2.348590850830078 s\n",
      "Latent Decoding Time 0.0041866302490234375 s\n",
      "Wavelet Preparation Time 0.0001583099365234375 s\n",
      "Low to Highs conversion 0.08074808120727539 s\n",
      "Inverse DWT time elapsed 0.0029821395874023438 s\n",
      "mcubes.marching_cubes time 0.5572426319122314 s\n"
     ]
    },
    {
     "name": "stderr",
     "output_type": "stream",
     "text": [
      "Seed set to 42\n"
     ]
    },
    {
     "name": "stdout",
     "output_type": "stream",
     "text": [
      "export obj time 3.2549471855163574 s\n",
      "Time to save visualization from high lows to obj 3.8159070014953613 s\n",
      "Total Inference time 6.274153709411621\n",
      "Processing image 10: /home/ray/test_images/BlackBlack_Nintendo_3DSXL.jpg\n",
      "Extract Image 0.014626502990722656 s\n",
      "'DotDict' object has no attribute 'use_multiple_views_inferences'\n",
      "'DotDict' object has no attribute 'use_multiple_views_inferences'\n"
     ]
    },
    {
     "data": {
      "application/vnd.jupyter.widget-view+json": {
       "model_id": "f7061ba4ef694759be208b2ae7e48533",
       "version_major": 2,
       "version_minor": 0
      },
      "text/plain": [
       "  0%|          | 0/5 [00:00<?, ?it/s]"
      ]
     },
     "metadata": {},
     "output_type": "display_data"
    },
    {
     "name": "stdout",
     "output_type": "stream",
     "text": [
      "Latent Diffusion Time 2.3481616973876953 s\n",
      "Latent Decoding Time 0.004220247268676758 s\n",
      "Wavelet Preparation Time 0.0001544952392578125 s\n",
      "Low to Highs conversion 0.05594515800476074 s\n",
      "Inverse DWT time elapsed 0.003106832504272461 s\n",
      "mcubes.marching_cubes time 0.5517411231994629 s\n"
     ]
    },
    {
     "name": "stderr",
     "output_type": "stream",
     "text": [
      "Seed set to 42\n"
     ]
    },
    {
     "name": "stdout",
     "output_type": "stream",
     "text": [
      "export obj time 2.7246596813201904 s\n",
      "Time to save visualization from high lows to obj 3.2802510261535645 s\n",
      "Total Inference time 5.713447093963623\n",
      "Processing image 11: /home/ray/test_images/Black_Decker_Stainless_Steel_Toaster_4_Slice.jpg\n",
      "Extract Image 0.014329910278320312 s\n",
      "'DotDict' object has no attribute 'use_multiple_views_inferences'\n",
      "'DotDict' object has no attribute 'use_multiple_views_inferences'\n"
     ]
    },
    {
     "data": {
      "application/vnd.jupyter.widget-view+json": {
       "model_id": "05cc68f7ff7b4bfaa5824120118dcf34",
       "version_major": 2,
       "version_minor": 0
      },
      "text/plain": [
       "  0%|          | 0/5 [00:00<?, ?it/s]"
      ]
     },
     "metadata": {},
     "output_type": "display_data"
    },
    {
     "name": "stdout",
     "output_type": "stream",
     "text": [
      "Latent Diffusion Time 2.3490147590637207 s\n",
      "Latent Decoding Time 0.004899740219116211 s\n",
      "Wavelet Preparation Time 0.00017881393432617188 s\n",
      "Low to Highs conversion 0.05592203140258789 s\n",
      "Inverse DWT time elapsed 0.0030930042266845703 s\n",
      "mcubes.marching_cubes time 0.5635592937469482 s\n"
     ]
    },
    {
     "name": "stderr",
     "output_type": "stream",
     "text": [
      "Seed set to 42\n"
     ]
    },
    {
     "name": "stdout",
     "output_type": "stream",
     "text": [
      "export obj time 2.9431257247924805 s\n",
      "Time to save visualization from high lows to obj 3.510486364364624 s\n",
      "Total Inference time 5.946115732192993\n",
      "Processing image 12: /home/ray/test_images/Black_Elderberry_Syrup_54_oz_Gaia_Herbs.jpg\n",
      "Extract Image 0.014976024627685547 s\n",
      "'DotDict' object has no attribute 'use_multiple_views_inferences'\n",
      "'DotDict' object has no attribute 'use_multiple_views_inferences'\n"
     ]
    },
    {
     "data": {
      "application/vnd.jupyter.widget-view+json": {
       "model_id": "62d62e7496c544feb473aa5aa24eeb4e",
       "version_major": 2,
       "version_minor": 0
      },
      "text/plain": [
       "  0%|          | 0/5 [00:00<?, ?it/s]"
      ]
     },
     "metadata": {},
     "output_type": "display_data"
    },
    {
     "name": "stdout",
     "output_type": "stream",
     "text": [
      "Latent Diffusion Time 2.350112199783325 s\n",
      "Latent Decoding Time 0.004488468170166016 s\n",
      "Wavelet Preparation Time 0.0001513957977294922 s\n",
      "Low to Highs conversion 0.055954933166503906 s\n",
      "Inverse DWT time elapsed 0.002975940704345703 s\n",
      "mcubes.marching_cubes time 0.5540039539337158 s\n"
     ]
    },
    {
     "name": "stderr",
     "output_type": "stream",
     "text": [
      "Seed set to 42\n"
     ]
    },
    {
     "name": "stdout",
     "output_type": "stream",
     "text": [
      "export obj time 3.8448541164398193 s\n",
      "Time to save visualization from high lows to obj 4.4025022983551025 s\n",
      "Total Inference time 6.838487386703491\n",
      "Processing image 13: /home/ray/test_images/BlueBlack_Nintendo_3DSXL.jpg\n",
      "Extract Image 0.015073060989379883 s\n",
      "'DotDict' object has no attribute 'use_multiple_views_inferences'\n",
      "'DotDict' object has no attribute 'use_multiple_views_inferences'\n"
     ]
    },
    {
     "data": {
      "application/vnd.jupyter.widget-view+json": {
       "model_id": "30d6e4c17011448781f7d3071afc6cec",
       "version_major": 2,
       "version_minor": 0
      },
      "text/plain": [
       "  0%|          | 0/5 [00:00<?, ?it/s]"
      ]
     },
     "metadata": {},
     "output_type": "display_data"
    },
    {
     "name": "stdout",
     "output_type": "stream",
     "text": [
      "Latent Diffusion Time 2.3523993492126465 s\n",
      "Latent Decoding Time 0.004608631134033203 s\n",
      "Wavelet Preparation Time 0.0001583099365234375 s\n",
      "Low to Highs conversion 0.05580854415893555 s\n",
      "Inverse DWT time elapsed 0.0028228759765625 s\n",
      "mcubes.marching_cubes time 0.5530571937561035 s\n"
     ]
    },
    {
     "name": "stderr",
     "output_type": "stream",
     "text": [
      "Seed set to 42\n"
     ]
    },
    {
     "name": "stdout",
     "output_type": "stream",
     "text": [
      "export obj time 2.788827419281006 s\n",
      "Time to save visualization from high lows to obj 3.3453829288482666 s\n",
      "Total Inference time 5.783800840377808\n",
      "Processing image 14: /home/ray/test_images/Blue_Jasmine_Includes_Digital_Copy_UltraViolet_DVD.jpg\n",
      "Extract Image 0.015248537063598633 s\n",
      "'DotDict' object has no attribute 'use_multiple_views_inferences'\n",
      "'DotDict' object has no attribute 'use_multiple_views_inferences'\n"
     ]
    },
    {
     "data": {
      "application/vnd.jupyter.widget-view+json": {
       "model_id": "18794b90b0034d86b881ea6305e140ae",
       "version_major": 2,
       "version_minor": 0
      },
      "text/plain": [
       "  0%|          | 0/5 [00:00<?, ?it/s]"
      ]
     },
     "metadata": {},
     "output_type": "display_data"
    },
    {
     "name": "stdout",
     "output_type": "stream",
     "text": [
      "Latent Diffusion Time 2.3518447875976562 s\n",
      "Latent Decoding Time 0.004469156265258789 s\n",
      "Wavelet Preparation Time 0.00016617774963378906 s\n",
      "Low to Highs conversion 0.0561368465423584 s\n",
      "Inverse DWT time elapsed 0.002996683120727539 s\n",
      "mcubes.marching_cubes time 0.5432908535003662 s\n"
     ]
    },
    {
     "name": "stderr",
     "output_type": "stream",
     "text": [
      "Seed set to 42\n"
     ]
    },
    {
     "name": "stdout",
     "output_type": "stream",
     "text": [
      "export obj time 0.4699079990386963 s\n",
      "Time to save visualization from high lows to obj 1.016840934753418 s\n",
      "Total Inference time 3.4539830684661865\n",
      "Processing image 15: /home/ray/test_images/Cootie_Game.jpg\n",
      "Extract Image 0.015288352966308594 s\n",
      "'DotDict' object has no attribute 'use_multiple_views_inferences'\n",
      "'DotDict' object has no attribute 'use_multiple_views_inferences'\n"
     ]
    },
    {
     "data": {
      "application/vnd.jupyter.widget-view+json": {
       "model_id": "8d57f0b55d554c18bd1555c374390b49",
       "version_major": 2,
       "version_minor": 0
      },
      "text/plain": [
       "  0%|          | 0/5 [00:00<?, ?it/s]"
      ]
     },
     "metadata": {},
     "output_type": "display_data"
    },
    {
     "name": "stdout",
     "output_type": "stream",
     "text": [
      "Latent Diffusion Time 2.3529748916625977 s\n",
      "Latent Decoding Time 0.004134416580200195 s\n",
      "Wavelet Preparation Time 0.0001614093780517578 s\n",
      "Low to Highs conversion 0.055887699127197266 s\n",
      "Inverse DWT time elapsed 0.0029609203338623047 s\n",
      "mcubes.marching_cubes time 0.5529615879058838 s\n"
     ]
    },
    {
     "name": "stderr",
     "output_type": "stream",
     "text": [
      "Seed set to 42\n"
     ]
    },
    {
     "name": "stdout",
     "output_type": "stream",
     "text": [
      "export obj time 1.5537910461425781 s\n",
      "Time to save visualization from high lows to obj 2.1104068756103516 s\n",
      "Total Inference time 4.548365354537964\n",
      "Processing image 16: /home/ray/test_images/Dell_Series_9_Color_Ink_Cartridge_MK993_High_Yield.jpg\n",
      "Extract Image 0.014858484268188477 s\n",
      "'DotDict' object has no attribute 'use_multiple_views_inferences'\n",
      "'DotDict' object has no attribute 'use_multiple_views_inferences'\n"
     ]
    },
    {
     "data": {
      "application/vnd.jupyter.widget-view+json": {
       "model_id": "87c59f1e3dae4797863164dc31add8ea",
       "version_major": 2,
       "version_minor": 0
      },
      "text/plain": [
       "  0%|          | 0/5 [00:00<?, ?it/s]"
      ]
     },
     "metadata": {},
     "output_type": "display_data"
    },
    {
     "name": "stdout",
     "output_type": "stream",
     "text": [
      "Latent Diffusion Time 2.35003399848938 s\n",
      "Latent Decoding Time 0.004239559173583984 s\n",
      "Wavelet Preparation Time 0.00014400482177734375 s\n",
      "Low to Highs conversion 0.055782318115234375 s\n",
      "Inverse DWT time elapsed 0.0029304027557373047 s\n",
      "mcubes.marching_cubes time 0.5490565299987793 s\n"
     ]
    },
    {
     "name": "stderr",
     "output_type": "stream",
     "text": [
      "Seed set to 42\n"
     ]
    },
    {
     "name": "stdout",
     "output_type": "stream",
     "text": [
      "export obj time 1.6043035984039307 s\n",
      "Time to save visualization from high lows to obj 2.1570472717285156 s\n",
      "Total Inference time 4.592358827590942\n",
      "Processing image 17: /home/ray/test_images/Frozen_Scrabble_Jr.jpg\n",
      "Extract Image 0.020386219024658203 s\n",
      "'DotDict' object has no attribute 'use_multiple_views_inferences'\n",
      "'DotDict' object has no attribute 'use_multiple_views_inferences'\n"
     ]
    },
    {
     "data": {
      "application/vnd.jupyter.widget-view+json": {
       "model_id": "6bae1019d6b64c60acd89a4c72e29fc6",
       "version_major": 2,
       "version_minor": 0
      },
      "text/plain": [
       "  0%|          | 0/5 [00:00<?, ?it/s]"
      ]
     },
     "metadata": {},
     "output_type": "display_data"
    },
    {
     "name": "stdout",
     "output_type": "stream",
     "text": [
      "Latent Diffusion Time 2.3517725467681885 s\n",
      "Latent Decoding Time 0.00470280647277832 s\n",
      "Wavelet Preparation Time 0.00016164779663085938 s\n",
      "Low to Highs conversion 0.05603337287902832 s\n",
      "Inverse DWT time elapsed 0.003023386001586914 s\n",
      "mcubes.marching_cubes time 0.5587458610534668 s\n"
     ]
    },
    {
     "name": "stderr",
     "output_type": "stream",
     "text": [
      "Seed set to 42\n"
     ]
    },
    {
     "name": "stdout",
     "output_type": "stream",
     "text": [
      "export obj time 3.0714521408081055 s\n",
      "Time to save visualization from high lows to obj 3.6338443756103516 s\n",
      "Total Inference time 6.0785627365112305\n",
      "Processing image 18: /home/ray/test_images/Google_Cardboard_Original_package.jpg\n",
      "Extract Image 0.015352249145507812 s\n",
      "'DotDict' object has no attribute 'use_multiple_views_inferences'\n",
      "'DotDict' object has no attribute 'use_multiple_views_inferences'\n"
     ]
    },
    {
     "data": {
      "application/vnd.jupyter.widget-view+json": {
       "model_id": "4bc06c1c57104ec5a73312657b64f893",
       "version_major": 2,
       "version_minor": 0
      },
      "text/plain": [
       "  0%|          | 0/5 [00:00<?, ?it/s]"
      ]
     },
     "metadata": {},
     "output_type": "display_data"
    },
    {
     "name": "stdout",
     "output_type": "stream",
     "text": [
      "Latent Diffusion Time 2.349238395690918 s\n",
      "Latent Decoding Time 0.004400491714477539 s\n",
      "Wavelet Preparation Time 0.00015163421630859375 s\n",
      "Low to Highs conversion 0.05602002143859863 s\n",
      "Inverse DWT time elapsed 0.0029561519622802734 s\n",
      "mcubes.marching_cubes time 0.5495994091033936 s\n"
     ]
    },
    {
     "name": "stderr",
     "output_type": "stream",
     "text": [
      "Seed set to 42\n"
     ]
    },
    {
     "name": "stdout",
     "output_type": "stream",
     "text": [
      "export obj time 2.0720138549804688 s\n",
      "Time to save visualization from high lows to obj 2.6250174045562744 s\n",
      "Total Inference time 5.059616327285767\n",
      "Processing image 19: /home/ray/test_images/HP_Card_Invitation_Kit.jpg\n",
      "Extract Image 0.014932632446289062 s\n",
      "'DotDict' object has no attribute 'use_multiple_views_inferences'\n",
      "'DotDict' object has no attribute 'use_multiple_views_inferences'\n"
     ]
    },
    {
     "data": {
      "application/vnd.jupyter.widget-view+json": {
       "model_id": "e78ff24100e7412d9a5b4344f0ded5ef",
       "version_major": 2,
       "version_minor": 0
      },
      "text/plain": [
       "  0%|          | 0/5 [00:00<?, ?it/s]"
      ]
     },
     "metadata": {},
     "output_type": "display_data"
    },
    {
     "name": "stdout",
     "output_type": "stream",
     "text": [
      "Latent Diffusion Time 2.347461462020874 s\n",
      "Latent Decoding Time 0.004212379455566406 s\n",
      "Wavelet Preparation Time 0.0001938343048095703 s\n",
      "Low to Highs conversion 0.056108713150024414 s\n",
      "Inverse DWT time elapsed 0.0029811859130859375 s\n",
      "mcubes.marching_cubes time 0.5527758598327637 s\n"
     ]
    },
    {
     "name": "stderr",
     "output_type": "stream",
     "text": [
      "Seed set to 42\n"
     ]
    },
    {
     "name": "stdout",
     "output_type": "stream",
     "text": [
      "export obj time 3.8121140003204346 s\n",
      "Time to save visualization from high lows to obj 4.368519306182861 s\n",
      "Total Inference time 6.801607370376587\n",
      "Processing image 20: /home/ray/test_images/Hyaluronic_Acid.jpg\n",
      "Extract Image 0.014890909194946289 s\n",
      "'DotDict' object has no attribute 'use_multiple_views_inferences'\n",
      "'DotDict' object has no attribute 'use_multiple_views_inferences'\n"
     ]
    },
    {
     "data": {
      "application/vnd.jupyter.widget-view+json": {
       "model_id": "46da647ddce0449fa4c0e472e7b0ac23",
       "version_major": 2,
       "version_minor": 0
      },
      "text/plain": [
       "  0%|          | 0/5 [00:00<?, ?it/s]"
      ]
     },
     "metadata": {},
     "output_type": "display_data"
    },
    {
     "name": "stdout",
     "output_type": "stream",
     "text": [
      "Latent Diffusion Time 2.350668430328369 s\n",
      "Latent Decoding Time 0.004378318786621094 s\n",
      "Wavelet Preparation Time 0.00016427040100097656 s\n",
      "Low to Highs conversion 0.055771589279174805 s\n",
      "Inverse DWT time elapsed 0.0030040740966796875 s\n",
      "mcubes.marching_cubes time 0.563352108001709 s\n"
     ]
    },
    {
     "name": "stderr",
     "output_type": "stream",
     "text": [
      "Seed set to 42\n"
     ]
    },
    {
     "name": "stdout",
     "output_type": "stream",
     "text": [
      "export obj time 3.1216580867767334 s\n",
      "Time to save visualization from high lows to obj 3.688723564147949 s\n",
      "Total Inference time 6.1237101554870605\n",
      "Processing image 21: /home/ray/test_images/LEGO_Creationary_Game.jpg\n",
      "Extract Image 0.014740943908691406 s\n",
      "'DotDict' object has no attribute 'use_multiple_views_inferences'\n",
      "'DotDict' object has no attribute 'use_multiple_views_inferences'\n"
     ]
    },
    {
     "data": {
      "application/vnd.jupyter.widget-view+json": {
       "model_id": "ae85069ad6624aba8b9011a3fa94b687",
       "version_major": 2,
       "version_minor": 0
      },
      "text/plain": [
       "  0%|          | 0/5 [00:00<?, ?it/s]"
      ]
     },
     "metadata": {},
     "output_type": "display_data"
    },
    {
     "name": "stdout",
     "output_type": "stream",
     "text": [
      "Latent Diffusion Time 2.3532702922821045 s\n",
      "Latent Decoding Time 0.004207611083984375 s\n",
      "Wavelet Preparation Time 0.00013971328735351562 s\n",
      "Low to Highs conversion 0.05585289001464844 s\n",
      "Inverse DWT time elapsed 0.0029032230377197266 s\n",
      "mcubes.marching_cubes time 0.5505516529083252 s\n"
     ]
    },
    {
     "name": "stderr",
     "output_type": "stream",
     "text": [
      "Seed set to 42\n"
     ]
    },
    {
     "name": "stdout",
     "output_type": "stream",
     "text": [
      "export obj time 1.7336673736572266 s\n",
      "Time to save visualization from high lows to obj 2.287745952606201 s\n",
      "Total Inference time 4.725428342819214\n",
      "Processing image 22: /home/ray/test_images/LEGO_Creationary_Game_ZJa163wlWp2.jpg\n",
      "Extract Image 0.015202999114990234 s\n",
      "'DotDict' object has no attribute 'use_multiple_views_inferences'\n",
      "'DotDict' object has no attribute 'use_multiple_views_inferences'\n"
     ]
    },
    {
     "data": {
      "application/vnd.jupyter.widget-view+json": {
       "model_id": "4a9e12a17411413ea8d4c9373fbd8ed4",
       "version_major": 2,
       "version_minor": 0
      },
      "text/plain": [
       "  0%|          | 0/5 [00:00<?, ?it/s]"
      ]
     },
     "metadata": {},
     "output_type": "display_data"
    },
    {
     "name": "stdout",
     "output_type": "stream",
     "text": [
      "Latent Diffusion Time 2.3512423038482666 s\n",
      "Latent Decoding Time 0.004245758056640625 s\n",
      "Wavelet Preparation Time 0.0001583099365234375 s\n",
      "Low to Highs conversion 0.056191444396972656 s\n",
      "Inverse DWT time elapsed 0.002915620803833008 s\n",
      "mcubes.marching_cubes time 0.5582537651062012 s\n"
     ]
    },
    {
     "name": "stderr",
     "output_type": "stream",
     "text": [
      "Seed set to 42\n"
     ]
    },
    {
     "name": "stdout",
     "output_type": "stream",
     "text": [
      "export obj time 2.8807146549224854 s\n",
      "Time to save visualization from high lows to obj 3.4426796436309814 s\n",
      "Total Inference time 5.879030466079712\n",
      "Processing image 23: /home/ray/test_images/Lenovo_Yoga_2_11.jpg\n",
      "Extract Image 0.020250797271728516 s\n",
      "'DotDict' object has no attribute 'use_multiple_views_inferences'\n",
      "'DotDict' object has no attribute 'use_multiple_views_inferences'\n"
     ]
    },
    {
     "data": {
      "application/vnd.jupyter.widget-view+json": {
       "model_id": "51462a5f7b214ca8b48a67c187dd4556",
       "version_major": 2,
       "version_minor": 0
      },
      "text/plain": [
       "  0%|          | 0/5 [00:00<?, ?it/s]"
      ]
     },
     "metadata": {},
     "output_type": "display_data"
    },
    {
     "name": "stdout",
     "output_type": "stream",
     "text": [
      "Latent Diffusion Time 2.353867530822754 s\n",
      "Latent Decoding Time 0.004312992095947266 s\n",
      "Wavelet Preparation Time 0.00017142295837402344 s\n",
      "Low to Highs conversion 0.05626535415649414 s\n",
      "Inverse DWT time elapsed 0.002683877944946289 s\n",
      "mcubes.marching_cubes time 0.550483226776123 s\n"
     ]
    },
    {
     "name": "stderr",
     "output_type": "stream",
     "text": [
      "Seed set to 42\n"
     ]
    },
    {
     "name": "stdout",
     "output_type": "stream",
     "text": [
      "export obj time 2.4105589389801025 s\n",
      "Time to save visualization from high lows to obj 2.964362144470215 s\n",
      "Total Inference time 5.4115447998046875\n",
      "Processing image 24: /home/ray/test_images/Logitech_Ultimate_Ears_Boom_Wireless_Speaker_Night_Black.jpg\n",
      "Extract Image 0.014847993850708008 s\n",
      "'DotDict' object has no attribute 'use_multiple_views_inferences'\n",
      "'DotDict' object has no attribute 'use_multiple_views_inferences'\n"
     ]
    },
    {
     "data": {
      "application/vnd.jupyter.widget-view+json": {
       "model_id": "cfa3d35ad9e340ddb4f776235d101d6a",
       "version_major": 2,
       "version_minor": 0
      },
      "text/plain": [
       "  0%|          | 0/5 [00:00<?, ?it/s]"
      ]
     },
     "metadata": {},
     "output_type": "display_data"
    },
    {
     "name": "stdout",
     "output_type": "stream",
     "text": [
      "Latent Diffusion Time 2.3550844192504883 s\n",
      "Latent Decoding Time 0.004594564437866211 s\n",
      "Wavelet Preparation Time 0.00016498565673828125 s\n",
      "Low to Highs conversion 0.055739641189575195 s\n",
      "Inverse DWT time elapsed 0.0029315948486328125 s\n",
      "mcubes.marching_cubes time 0.5528326034545898 s\n"
     ]
    },
    {
     "name": "stderr",
     "output_type": "stream",
     "text": [
      "Seed set to 42\n"
     ]
    },
    {
     "name": "stdout",
     "output_type": "stream",
     "text": [
      "export obj time 1.9994194507598877 s\n",
      "Time to save visualization from high lows to obj 2.555924415588379 s\n",
      "Total Inference time 4.995710134506226\n",
      "Processing image 25: /home/ray/test_images/Lovestruck_Tieks_Glittery_Rose_Gold_Italian_Leather_Ballet_Flats.jpg\n",
      "Extract Image 0.015247344970703125 s\n",
      "'DotDict' object has no attribute 'use_multiple_views_inferences'\n",
      "'DotDict' object has no attribute 'use_multiple_views_inferences'\n"
     ]
    },
    {
     "data": {
      "application/vnd.jupyter.widget-view+json": {
       "model_id": "e112ae232fe240879f867eaf0f2b1c9e",
       "version_major": 2,
       "version_minor": 0
      },
      "text/plain": [
       "  0%|          | 0/5 [00:00<?, ?it/s]"
      ]
     },
     "metadata": {},
     "output_type": "display_data"
    },
    {
     "name": "stdout",
     "output_type": "stream",
     "text": [
      "Latent Diffusion Time 2.350853443145752 s\n",
      "Latent Decoding Time 0.004248619079589844 s\n",
      "Wavelet Preparation Time 0.000148773193359375 s\n",
      "Low to Highs conversion 0.05609130859375 s\n",
      "Inverse DWT time elapsed 0.0029144287109375 s\n",
      "mcubes.marching_cubes time 0.5496294498443604 s\n"
     ]
    },
    {
     "name": "stderr",
     "output_type": "stream",
     "text": [
      "Seed set to 42\n"
     ]
    },
    {
     "name": "stdout",
     "output_type": "stream",
     "text": [
      "export obj time 2.4351441860198975 s\n",
      "Time to save visualization from high lows to obj 2.9883744716644287 s\n",
      "Total Inference time 5.425294399261475\n",
      "Processing image 26: /home/ray/test_images/Luigis_Mansion_Dark_Moon_Nintendo_3DS_Game.jpg\n",
      "Extract Image 0.015146493911743164 s\n",
      "'DotDict' object has no attribute 'use_multiple_views_inferences'\n",
      "'DotDict' object has no attribute 'use_multiple_views_inferences'\n"
     ]
    },
    {
     "data": {
      "application/vnd.jupyter.widget-view+json": {
       "model_id": "90303ba7181341abbfb1ffc46b2b6822",
       "version_major": 2,
       "version_minor": 0
      },
      "text/plain": [
       "  0%|          | 0/5 [00:00<?, ?it/s]"
      ]
     },
     "metadata": {},
     "output_type": "display_data"
    },
    {
     "name": "stdout",
     "output_type": "stream",
     "text": [
      "Latent Diffusion Time 2.356614351272583 s\n",
      "Latent Decoding Time 0.004526853561401367 s\n",
      "Wavelet Preparation Time 0.0001442432403564453 s\n",
      "Low to Highs conversion 0.055908918380737305 s\n",
      "Inverse DWT time elapsed 0.0030198097229003906 s\n",
      "mcubes.marching_cubes time 0.5587968826293945 s\n"
     ]
    },
    {
     "name": "stderr",
     "output_type": "stream",
     "text": [
      "Seed set to 42\n"
     ]
    },
    {
     "name": "stdout",
     "output_type": "stream",
     "text": [
      "export obj time 2.0363502502441406 s\n",
      "Time to save visualization from high lows to obj 2.5987884998321533 s\n",
      "Total Inference time 5.0410120487213135\n",
      "Processing image 27: /home/ray/test_images/Mens_ASV_Billfish_Boat_Shoe_in_Dark_Brown_Leather_zdHVHXueI3w.jpg\n",
      "Extract Image 0.014337539672851562 s\n",
      "'DotDict' object has no attribute 'use_multiple_views_inferences'\n",
      "'DotDict' object has no attribute 'use_multiple_views_inferences'\n"
     ]
    },
    {
     "data": {
      "application/vnd.jupyter.widget-view+json": {
       "model_id": "1b6bf2ae92714980822c0e2564765847",
       "version_major": 2,
       "version_minor": 0
      },
      "text/plain": [
       "  0%|          | 0/5 [00:00<?, ?it/s]"
      ]
     },
     "metadata": {},
     "output_type": "display_data"
    },
    {
     "name": "stdout",
     "output_type": "stream",
     "text": [
      "Latent Diffusion Time 2.3532140254974365 s\n",
      "Latent Decoding Time 0.004246234893798828 s\n",
      "Wavelet Preparation Time 0.00013947486877441406 s\n",
      "Low to Highs conversion 0.055965423583984375 s\n",
      "Inverse DWT time elapsed 0.0028176307678222656 s\n",
      "mcubes.marching_cubes time 0.5546145439147949 s\n"
     ]
    },
    {
     "name": "stderr",
     "output_type": "stream",
     "text": [
      "Seed set to 42\n"
     ]
    },
    {
     "name": "stdout",
     "output_type": "stream",
     "text": [
      "export obj time 2.3312230110168457 s\n",
      "Time to save visualization from high lows to obj 2.8893203735351562 s\n",
      "Total Inference time 5.326311349868774\n",
      "Processing image 28: /home/ray/test_images/Mens_Authentic_Original_Boat_Shoe_in_Navy_Leather_xgoEcZtRNmH.jpg\n",
      "Extract Image 0.014604806900024414 s\n",
      "'DotDict' object has no attribute 'use_multiple_views_inferences'\n",
      "'DotDict' object has no attribute 'use_multiple_views_inferences'\n"
     ]
    },
    {
     "data": {
      "application/vnd.jupyter.widget-view+json": {
       "model_id": "25f4d64fc34a4e94a226abd7c402a23f",
       "version_major": 2,
       "version_minor": 0
      },
      "text/plain": [
       "  0%|          | 0/5 [00:00<?, ?it/s]"
      ]
     },
     "metadata": {},
     "output_type": "display_data"
    },
    {
     "name": "stdout",
     "output_type": "stream",
     "text": [
      "Latent Diffusion Time 2.355764627456665 s\n",
      "Latent Decoding Time 0.004342079162597656 s\n",
      "Wavelet Preparation Time 0.00014710426330566406 s\n",
      "Low to Highs conversion 0.0559389591217041 s\n",
      "Inverse DWT time elapsed 0.00293731689453125 s\n",
      "mcubes.marching_cubes time 0.5540556907653809 s\n"
     ]
    },
    {
     "name": "stderr",
     "output_type": "stream",
     "text": [
      "Seed set to 42\n"
     ]
    },
    {
     "name": "stdout",
     "output_type": "stream",
     "text": [
      "export obj time 2.6056742668151855 s\n",
      "Time to save visualization from high lows to obj 3.1635003089904785 s\n",
      "Total Inference time 5.604512929916382\n",
      "Processing image 29: /home/ray/test_images/Mens_Striper_Sneaker_in_White_rnp8HUli59Y.jpg\n",
      "Extract Image 0.0230562686920166 s\n",
      "'DotDict' object has no attribute 'use_multiple_views_inferences'\n",
      "'DotDict' object has no attribute 'use_multiple_views_inferences'\n"
     ]
    },
    {
     "data": {
      "application/vnd.jupyter.widget-view+json": {
       "model_id": "cc14674e43e04b4295aed0f5a9ac0ec1",
       "version_major": 2,
       "version_minor": 0
      },
      "text/plain": [
       "  0%|          | 0/5 [00:00<?, ?it/s]"
      ]
     },
     "metadata": {},
     "output_type": "display_data"
    },
    {
     "name": "stdout",
     "output_type": "stream",
     "text": [
      "Latent Diffusion Time 2.3566551208496094 s\n",
      "Latent Decoding Time 0.004349946975708008 s\n",
      "Wavelet Preparation Time 0.00014710426330566406 s\n",
      "Low to Highs conversion 0.08069348335266113 s\n",
      "Inverse DWT time elapsed 0.0030350685119628906 s\n",
      "mcubes.marching_cubes time 0.5534367561340332 s\n"
     ]
    },
    {
     "name": "stderr",
     "output_type": "stream",
     "text": [
      "Seed set to 42\n"
     ]
    },
    {
     "name": "stdout",
     "output_type": "stream",
     "text": [
      "export obj time 2.954514980316162 s\n",
      "Time to save visualization from high lows to obj 3.5117251873016357 s\n",
      "Total Inference time 5.987604141235352\n",
      "Processing image 30: /home/ray/test_images/Womens_Audrey_Slip_On_Boat_Shoe_in_Graphite_Nubuck_xWVkCJ5vxZe.jpg\n",
      "Extract Image 0.014403581619262695 s\n",
      "'DotDict' object has no attribute 'use_multiple_views_inferences'\n",
      "'DotDict' object has no attribute 'use_multiple_views_inferences'\n"
     ]
    },
    {
     "data": {
      "application/vnd.jupyter.widget-view+json": {
       "model_id": "9ec86ae2c6664b459fb62d4ec6b379a1",
       "version_major": 2,
       "version_minor": 0
      },
      "text/plain": [
       "  0%|          | 0/5 [00:00<?, ?it/s]"
      ]
     },
     "metadata": {},
     "output_type": "display_data"
    },
    {
     "name": "stdout",
     "output_type": "stream",
     "text": [
      "Latent Diffusion Time 2.3511431217193604 s\n",
      "Latent Decoding Time 0.004674673080444336 s\n",
      "Wavelet Preparation Time 0.00017380714416503906 s\n",
      "Low to Highs conversion 0.05579972267150879 s\n",
      "Inverse DWT time elapsed 0.0030074119567871094 s\n",
      "mcubes.marching_cubes time 0.5587959289550781 s\n"
     ]
    },
    {
     "name": "stderr",
     "output_type": "stream",
     "text": [
      "Seed set to 42\n"
     ]
    },
    {
     "name": "stdout",
     "output_type": "stream",
     "text": [
      "export obj time 2.163771867752075 s\n",
      "Time to save visualization from high lows to obj 2.7262723445892334 s\n",
      "Total Inference time 5.16238808631897\n",
      "Processing image 31: /home/ray/test_images/Womens_Betty_Chukka_Boot_in_Grey_Jersey_Sequin.jpg\n",
      "Extract Image 0.015032052993774414 s\n",
      "'DotDict' object has no attribute 'use_multiple_views_inferences'\n",
      "'DotDict' object has no attribute 'use_multiple_views_inferences'\n"
     ]
    },
    {
     "data": {
      "application/vnd.jupyter.widget-view+json": {
       "model_id": "d2ac0a5bda8440aaa11842f884a3bbfa",
       "version_major": 2,
       "version_minor": 0
      },
      "text/plain": [
       "  0%|          | 0/5 [00:00<?, ?it/s]"
      ]
     },
     "metadata": {},
     "output_type": "display_data"
    },
    {
     "name": "stdout",
     "output_type": "stream",
     "text": [
      "Latent Diffusion Time 2.3505263328552246 s\n",
      "Latent Decoding Time 0.004266023635864258 s\n",
      "Wavelet Preparation Time 0.00014019012451171875 s\n",
      "Low to Highs conversion 0.055737972259521484 s\n",
      "Inverse DWT time elapsed 0.0030066967010498047 s\n",
      "mcubes.marching_cubes time 0.5466659069061279 s\n"
     ]
    },
    {
     "name": "stderr",
     "output_type": "stream",
     "text": [
      "Seed set to 42\n"
     ]
    },
    {
     "name": "stdout",
     "output_type": "stream",
     "text": [
      "export obj time 1.9762423038482666 s\n",
      "Time to save visualization from high lows to obj 2.526576042175293 s\n",
      "Total Inference time 4.961576700210571\n",
      "Processing image 32: /home/ray/test_images/Womens_Betty_Chukka_Boot_in_Salt_Washed_Red_AL2YrOt9CRy.jpg\n",
      "Extract Image 0.016759157180786133 s\n",
      "'DotDict' object has no attribute 'use_multiple_views_inferences'\n",
      "'DotDict' object has no attribute 'use_multiple_views_inferences'\n"
     ]
    },
    {
     "data": {
      "application/vnd.jupyter.widget-view+json": {
       "model_id": "e014c10028c449db829d2416cb82d948",
       "version_major": 2,
       "version_minor": 0
      },
      "text/plain": [
       "  0%|          | 0/5 [00:00<?, ?it/s]"
      ]
     },
     "metadata": {},
     "output_type": "display_data"
    },
    {
     "name": "stdout",
     "output_type": "stream",
     "text": [
      "Latent Diffusion Time 2.348534345626831 s\n",
      "Latent Decoding Time 0.004183530807495117 s\n",
      "Wavelet Preparation Time 0.00015163421630859375 s\n",
      "Low to Highs conversion 0.055887699127197266 s\n",
      "Inverse DWT time elapsed 0.0028867721557617188 s\n",
      "mcubes.marching_cubes time 0.5465312004089355 s\n"
     ]
    },
    {
     "name": "stderr",
     "output_type": "stream",
     "text": [
      "Seed set to 42\n"
     ]
    },
    {
     "name": "stdout",
     "output_type": "stream",
     "text": [
      "export obj time 1.600099802017212 s\n",
      "Time to save visualization from high lows to obj 2.1501569747924805 s\n",
      "Total Inference time 4.585694313049316\n",
      "Processing image 33: /home/ray/test_images/Womens_Bluefish_2Eye_Boat_Shoe_in_White_Tumbled_YG44xIePRHw.jpg\n",
      "Extract Image 0.014978647232055664 s\n",
      "'DotDict' object has no attribute 'use_multiple_views_inferences'\n",
      "'DotDict' object has no attribute 'use_multiple_views_inferences'\n"
     ]
    },
    {
     "data": {
      "application/vnd.jupyter.widget-view+json": {
       "model_id": "7ee173923f3947d4bb026f2855e6e81d",
       "version_major": 2,
       "version_minor": 0
      },
      "text/plain": [
       "  0%|          | 0/5 [00:00<?, ?it/s]"
      ]
     },
     "metadata": {},
     "output_type": "display_data"
    },
    {
     "name": "stdout",
     "output_type": "stream",
     "text": [
      "Latent Diffusion Time 2.349186420440674 s\n",
      "Latent Decoding Time 0.0043451786041259766 s\n",
      "Wavelet Preparation Time 0.00014209747314453125 s\n",
      "Low to Highs conversion 0.05571889877319336 s\n",
      "Inverse DWT time elapsed 0.0030069351196289062 s\n",
      "mcubes.marching_cubes time 0.5537071228027344 s\n"
     ]
    },
    {
     "name": "stderr",
     "output_type": "stream",
     "text": [
      "Seed set to 42\n"
     ]
    },
    {
     "name": "stdout",
     "output_type": "stream",
     "text": [
      "export obj time 2.380228042602539 s\n",
      "Time to save visualization from high lows to obj 2.9376513957977295 s\n",
      "Total Inference time 5.371420621871948\n",
      "Processing image 34: /home/ray/test_images/30_CONSTRUCTION_SET.jpg\n",
      "Extract Image 0.014609098434448242 s\n",
      "'DotDict' object has no attribute 'use_multiple_views_inferences'\n",
      "'DotDict' object has no attribute 'use_multiple_views_inferences'\n"
     ]
    },
    {
     "data": {
      "application/vnd.jupyter.widget-view+json": {
       "model_id": "2fa5f622f61e48b3948579e6eedb1b0d",
       "version_major": 2,
       "version_minor": 0
      },
      "text/plain": [
       "  0%|          | 0/5 [00:00<?, ?it/s]"
      ]
     },
     "metadata": {},
     "output_type": "display_data"
    },
    {
     "name": "stdout",
     "output_type": "stream",
     "text": [
      "Latent Diffusion Time 2.3550448417663574 s\n",
      "Latent Decoding Time 0.00465846061706543 s\n",
      "Wavelet Preparation Time 0.00015401840209960938 s\n",
      "Low to Highs conversion 0.05589723587036133 s\n",
      "Inverse DWT time elapsed 0.0030364990234375 s\n",
      "mcubes.marching_cubes time 0.5503060817718506 s\n"
     ]
    },
    {
     "name": "stderr",
     "output_type": "stream",
     "text": [
      "Seed set to 42\n"
     ]
    },
    {
     "name": "stdout",
     "output_type": "stream",
     "text": [
      "export obj time 2.1300532817840576 s\n",
      "Time to save visualization from high lows to obj 2.6841330528259277 s\n",
      "Total Inference time 5.124803304672241\n",
      "Processing image 35: /home/ray/test_images/3D_Dollhouse_Swing.jpg\n",
      "Extract Image 0.01920175552368164 s\n",
      "'DotDict' object has no attribute 'use_multiple_views_inferences'\n",
      "'DotDict' object has no attribute 'use_multiple_views_inferences'\n"
     ]
    },
    {
     "data": {
      "application/vnd.jupyter.widget-view+json": {
       "model_id": "b5c2a80a7ef04f1b94f9e86819111127",
       "version_major": 2,
       "version_minor": 0
      },
      "text/plain": [
       "  0%|          | 0/5 [00:00<?, ?it/s]"
      ]
     },
     "metadata": {},
     "output_type": "display_data"
    },
    {
     "name": "stdout",
     "output_type": "stream",
     "text": [
      "Latent Diffusion Time 2.3531579971313477 s\n",
      "Latent Decoding Time 0.0042896270751953125 s\n",
      "Wavelet Preparation Time 0.00015878677368164062 s\n",
      "Low to Highs conversion 0.05543804168701172 s\n",
      "Inverse DWT time elapsed 0.0032510757446289062 s\n",
      "mcubes.marching_cubes time 0.5563852787017822 s\n"
     ]
    },
    {
     "name": "stderr",
     "output_type": "stream",
     "text": [
      "Seed set to 42\n"
     ]
    },
    {
     "name": "stdout",
     "output_type": "stream",
     "text": [
      "export obj time 3.265408515930176 s\n",
      "Time to save visualization from high lows to obj 3.825742483139038 s\n",
      "Total Inference time 6.269457817077637\n",
      "Processing image 36: /home/ray/test_images/3M_Antislip_Surfacing_Light_Duty_White.jpg\n",
      "Extract Image 0.014901161193847656 s\n",
      "'DotDict' object has no attribute 'use_multiple_views_inferences'\n",
      "'DotDict' object has no attribute 'use_multiple_views_inferences'\n"
     ]
    },
    {
     "data": {
      "application/vnd.jupyter.widget-view+json": {
       "model_id": "aa0646223b224c56984ef09b6b2d69f6",
       "version_major": 2,
       "version_minor": 0
      },
      "text/plain": [
       "  0%|          | 0/5 [00:00<?, ?it/s]"
      ]
     },
     "metadata": {},
     "output_type": "display_data"
    },
    {
     "name": "stdout",
     "output_type": "stream",
     "text": [
      "Latent Diffusion Time 2.3509223461151123 s\n",
      "Latent Decoding Time 0.0045757293701171875 s\n",
      "Wavelet Preparation Time 0.00014901161193847656 s\n",
      "Low to Highs conversion 0.05590486526489258 s\n",
      "Inverse DWT time elapsed 0.002913236618041992 s\n",
      "mcubes.marching_cubes time 0.5544116497039795 s\n"
     ]
    },
    {
     "name": "stderr",
     "output_type": "stream",
     "text": [
      "Seed set to 42\n"
     ]
    },
    {
     "name": "stdout",
     "output_type": "stream",
     "text": [
      "export obj time 1.938173532485962 s\n",
      "Time to save visualization from high lows to obj 2.4962010383605957 s\n",
      "Total Inference time 4.932059049606323\n",
      "Processing image 37: /home/ray/test_images/3M_Vinyl_Tape_Green_1_x_36_yd.jpg\n",
      "Extract Image 0.014075756072998047 s\n",
      "'DotDict' object has no attribute 'use_multiple_views_inferences'\n",
      "'DotDict' object has no attribute 'use_multiple_views_inferences'\n"
     ]
    },
    {
     "data": {
      "application/vnd.jupyter.widget-view+json": {
       "model_id": "a3717bc6ba4d45d78f2347ee05cd4df9",
       "version_major": 2,
       "version_minor": 0
      },
      "text/plain": [
       "  0%|          | 0/5 [00:00<?, ?it/s]"
      ]
     },
     "metadata": {},
     "output_type": "display_data"
    },
    {
     "name": "stdout",
     "output_type": "stream",
     "text": [
      "Latent Diffusion Time 2.352041721343994 s\n",
      "Latent Decoding Time 0.004160165786743164 s\n",
      "Wavelet Preparation Time 0.0001430511474609375 s\n",
      "Low to Highs conversion 0.055879831314086914 s\n",
      "Inverse DWT time elapsed 0.0029840469360351562 s\n",
      "mcubes.marching_cubes time 0.553074836730957 s\n"
     ]
    },
    {
     "name": "stderr",
     "output_type": "stream",
     "text": [
      "Seed set to 42\n"
     ]
    },
    {
     "name": "stdout",
     "output_type": "stream",
     "text": [
      "export obj time 2.068549394607544 s\n",
      "Time to save visualization from high lows to obj 2.625342607498169 s\n",
      "Total Inference time 5.0609049797058105\n",
      "Processing image 38: /home/ray/test_images/Animal_Planet_Foam_2Headed_Dragon.jpg\n",
      "Extract Image 0.015140056610107422 s\n",
      "'DotDict' object has no attribute 'use_multiple_views_inferences'\n",
      "'DotDict' object has no attribute 'use_multiple_views_inferences'\n"
     ]
    },
    {
     "data": {
      "application/vnd.jupyter.widget-view+json": {
       "model_id": "01df9b028b2e4b109dbd408367e7bd30",
       "version_major": 2,
       "version_minor": 0
      },
      "text/plain": [
       "  0%|          | 0/5 [00:00<?, ?it/s]"
      ]
     },
     "metadata": {},
     "output_type": "display_data"
    },
    {
     "name": "stdout",
     "output_type": "stream",
     "text": [
      "Latent Diffusion Time 2.354820728302002 s\n",
      "Latent Decoding Time 0.00425410270690918 s\n",
      "Wavelet Preparation Time 0.000152587890625 s\n",
      "Low to Highs conversion 0.05630326271057129 s\n",
      "Inverse DWT time elapsed 0.0029010772705078125 s\n",
      "mcubes.marching_cubes time 0.5499963760375977 s\n"
     ]
    },
    {
     "name": "stderr",
     "output_type": "stream",
     "text": [
      "Seed set to 42\n"
     ]
    },
    {
     "name": "stdout",
     "output_type": "stream",
     "text": [
      "export obj time 1.4121558666229248 s\n",
      "Time to save visualization from high lows to obj 1.9657106399536133 s\n",
      "Total Inference time 4.405819654464722\n",
      "Processing image 39: /home/ray/test_images/Avengers_Thor_PLlrpYniaeB.jpg\n",
      "Extract Image 0.015031099319458008 s\n",
      "'DotDict' object has no attribute 'use_multiple_views_inferences'\n",
      "'DotDict' object has no attribute 'use_multiple_views_inferences'\n"
     ]
    },
    {
     "data": {
      "application/vnd.jupyter.widget-view+json": {
       "model_id": "ebe8a31381734786afb85835675bc394",
       "version_major": 2,
       "version_minor": 0
      },
      "text/plain": [
       "  0%|          | 0/5 [00:00<?, ?it/s]"
      ]
     },
     "metadata": {},
     "output_type": "display_data"
    },
    {
     "name": "stdout",
     "output_type": "stream",
     "text": [
      "Latent Diffusion Time 2.355381488800049 s\n",
      "Latent Decoding Time 0.004148721694946289 s\n",
      "Wavelet Preparation Time 0.0001456737518310547 s\n",
      "Low to Highs conversion 0.056157588958740234 s\n",
      "Inverse DWT time elapsed 0.002988100051879883 s\n",
      "mcubes.marching_cubes time 0.5622410774230957 s\n"
     ]
    },
    {
     "name": "stderr",
     "output_type": "stream",
     "text": [
      "Seed set to 42\n"
     ]
    },
    {
     "name": "stdout",
     "output_type": "stream",
     "text": [
      "export obj time 4.048223972320557 s\n",
      "Time to save visualization from high lows to obj 4.614073991775513 s\n",
      "Total Inference time 7.05416464805603\n",
      "Processing image 40: /home/ray/test_images/BEDROOM_CLASSIC.jpg\n",
      "Extract Image 0.014503717422485352 s\n",
      "'DotDict' object has no attribute 'use_multiple_views_inferences'\n",
      "'DotDict' object has no attribute 'use_multiple_views_inferences'\n"
     ]
    },
    {
     "data": {
      "application/vnd.jupyter.widget-view+json": {
       "model_id": "2ce8e7cb9a3b426abaf34151416ee1f3",
       "version_major": 2,
       "version_minor": 0
      },
      "text/plain": [
       "  0%|          | 0/5 [00:00<?, ?it/s]"
      ]
     },
     "metadata": {},
     "output_type": "display_data"
    },
    {
     "name": "stdout",
     "output_type": "stream",
     "text": [
      "Latent Diffusion Time 2.3568241596221924 s\n",
      "Latent Decoding Time 0.0043048858642578125 s\n",
      "Wavelet Preparation Time 0.0001442432403564453 s\n",
      "Low to Highs conversion 0.055767059326171875 s\n",
      "Inverse DWT time elapsed 0.002829313278198242 s\n",
      "mcubes.marching_cubes time 0.5494050979614258 s\n"
     ]
    },
    {
     "name": "stderr",
     "output_type": "stream",
     "text": [
      "Seed set to 42\n"
     ]
    },
    {
     "name": "stdout",
     "output_type": "stream",
     "text": [
      "export obj time 1.8583133220672607 s\n",
      "Time to save visualization from high lows to obj 2.411289930343628 s\n",
      "Total Inference time 4.852104663848877\n",
      "Processing image 41: /home/ray/test_images/BIA_Cordon_Bleu_White_Porcelain_Utensil_Holder_900028.jpg\n",
      "Extract Image 0.0202639102935791 s\n",
      "'DotDict' object has no attribute 'use_multiple_views_inferences'\n",
      "'DotDict' object has no attribute 'use_multiple_views_inferences'\n"
     ]
    },
    {
     "data": {
      "application/vnd.jupyter.widget-view+json": {
       "model_id": "7a8b41dc06064364a6401ee3ecd047a8",
       "version_major": 2,
       "version_minor": 0
      },
      "text/plain": [
       "  0%|          | 0/5 [00:00<?, ?it/s]"
      ]
     },
     "metadata": {},
     "output_type": "display_data"
    },
    {
     "name": "stdout",
     "output_type": "stream",
     "text": [
      "Latent Diffusion Time 2.3567333221435547 s\n",
      "Latent Decoding Time 0.0046291351318359375 s\n",
      "Wavelet Preparation Time 0.00015926361083984375 s\n",
      "Low to Highs conversion 0.05587649345397949 s\n",
      "Inverse DWT time elapsed 0.002956390380859375 s\n",
      "mcubes.marching_cubes time 0.5880327224731445 s\n"
     ]
    },
    {
     "name": "stderr",
     "output_type": "stream",
     "text": [
      "Seed set to 42\n"
     ]
    },
    {
     "name": "stdout",
     "output_type": "stream",
     "text": [
      "export obj time 5.180178642272949 s\n",
      "Time to save visualization from high lows to obj 5.771925210952759 s\n",
      "Total Inference time 8.220974206924438\n",
      "Processing image 42: /home/ray/test_images/CONE_SORTING.jpg\n",
      "Extract Image 0.01548314094543457 s\n",
      "'DotDict' object has no attribute 'use_multiple_views_inferences'\n",
      "'DotDict' object has no attribute 'use_multiple_views_inferences'\n"
     ]
    },
    {
     "data": {
      "application/vnd.jupyter.widget-view+json": {
       "model_id": "faef105920d2400889c44094dd7e980e",
       "version_major": 2,
       "version_minor": 0
      },
      "text/plain": [
       "  0%|          | 0/5 [00:00<?, ?it/s]"
      ]
     },
     "metadata": {},
     "output_type": "display_data"
    },
    {
     "name": "stdout",
     "output_type": "stream",
     "text": [
      "Latent Diffusion Time 2.3533923625946045 s\n",
      "Latent Decoding Time 0.004766941070556641 s\n",
      "Wavelet Preparation Time 0.00019669532775878906 s\n",
      "Low to Highs conversion 0.05580449104309082 s\n",
      "Inverse DWT time elapsed 0.002913236618041992 s\n",
      "mcubes.marching_cubes time 0.5566766262054443 s\n"
     ]
    },
    {
     "name": "stderr",
     "output_type": "stream",
     "text": [
      "Seed set to 42\n"
     ]
    },
    {
     "name": "stdout",
     "output_type": "stream",
     "text": [
      "export obj time 3.176663875579834 s\n",
      "Time to save visualization from high lows to obj 3.7369420528411865 s\n",
      "Total Inference time 6.176496505737305\n",
      "Processing image 43: /home/ray/test_images/Clorox_Premium_Choice_Gloves_SM_1_pair.jpg\n",
      "Extract Image 0.01526784896850586 s\n",
      "'DotDict' object has no attribute 'use_multiple_views_inferences'\n",
      "'DotDict' object has no attribute 'use_multiple_views_inferences'\n"
     ]
    },
    {
     "data": {
      "application/vnd.jupyter.widget-view+json": {
       "model_id": "d7b3c6d703fd4425836ab1834de8d413",
       "version_major": 2,
       "version_minor": 0
      },
      "text/plain": [
       "  0%|          | 0/5 [00:00<?, ?it/s]"
      ]
     },
     "metadata": {},
     "output_type": "display_data"
    },
    {
     "name": "stdout",
     "output_type": "stream",
     "text": [
      "Latent Diffusion Time 2.354827404022217 s\n",
      "Latent Decoding Time 0.004322052001953125 s\n",
      "Wavelet Preparation Time 0.00016355514526367188 s\n",
      "Low to Highs conversion 0.055921316146850586 s\n",
      "Inverse DWT time elapsed 0.002858877182006836 s\n",
      "mcubes.marching_cubes time 0.5434553623199463 s\n"
     ]
    },
    {
     "name": "stderr",
     "output_type": "stream",
     "text": [
      "Seed set to 42\n"
     ]
    },
    {
     "name": "stdout",
     "output_type": "stream",
     "text": [
      "export obj time 0.5419182777404785 s\n",
      "Time to save visualization from high lows to obj 1.0889055728912354 s\n",
      "Total Inference time 3.5289108753204346\n",
      "Processing image 44: /home/ray/test_images/Cole_Hardware_Deep_Bowl_Good_Earth_1075.jpg\n",
      "Extract Image 0.01565837860107422 s\n",
      "'DotDict' object has no attribute 'use_multiple_views_inferences'\n",
      "'DotDict' object has no attribute 'use_multiple_views_inferences'\n"
     ]
    },
    {
     "data": {
      "application/vnd.jupyter.widget-view+json": {
       "model_id": "3a480a84951c4ca0b3e8574e487caa30",
       "version_major": 2,
       "version_minor": 0
      },
      "text/plain": [
       "  0%|          | 0/5 [00:00<?, ?it/s]"
      ]
     },
     "metadata": {},
     "output_type": "display_data"
    },
    {
     "name": "stdout",
     "output_type": "stream",
     "text": [
      "Latent Diffusion Time 2.353266477584839 s\n",
      "Latent Decoding Time 0.004178047180175781 s\n",
      "Wavelet Preparation Time 0.0001392364501953125 s\n",
      "Low to Highs conversion 0.05613970756530762 s\n",
      "Inverse DWT time elapsed 0.0031585693359375 s\n",
      "mcubes.marching_cubes time 0.5550599098205566 s\n"
     ]
    },
    {
     "name": "stderr",
     "output_type": "stream",
     "text": [
      "Seed set to 42\n"
     ]
    },
    {
     "name": "stdout",
     "output_type": "stream",
     "text": [
      "export obj time 3.432619571685791 s\n",
      "Time to save visualization from high lows to obj 3.991490602493286 s\n",
      "Total Inference time 6.4302146434783936\n",
      "Processing image 45: /home/ray/test_images/Cole_Hardware_Dishtowel_BlueWhite.jpg\n",
      "Extract Image 0.01460409164428711 s\n",
      "'DotDict' object has no attribute 'use_multiple_views_inferences'\n",
      "'DotDict' object has no attribute 'use_multiple_views_inferences'\n"
     ]
    },
    {
     "data": {
      "application/vnd.jupyter.widget-view+json": {
       "model_id": "c5e23a737c3f4ea1a80e8351eab84662",
       "version_major": 2,
       "version_minor": 0
      },
      "text/plain": [
       "  0%|          | 0/5 [00:00<?, ?it/s]"
      ]
     },
     "metadata": {},
     "output_type": "display_data"
    },
    {
     "name": "stdout",
     "output_type": "stream",
     "text": [
      "Latent Diffusion Time 2.3558895587921143 s\n",
      "Latent Decoding Time 0.004945993423461914 s\n",
      "Wavelet Preparation Time 0.0001590251922607422 s\n",
      "Low to Highs conversion 0.05609917640686035 s\n",
      "Inverse DWT time elapsed 0.0029065608978271484 s\n",
      "mcubes.marching_cubes time 0.5520391464233398 s\n"
     ]
    },
    {
     "name": "stderr",
     "output_type": "stream",
     "text": [
      "Seed set to 42\n"
     ]
    },
    {
     "name": "stdout",
     "output_type": "stream",
     "text": [
      "export obj time 1.6614205837249756 s\n",
      "Time to save visualization from high lows to obj 2.217078924179077 s\n",
      "Total Inference time 4.6579694747924805\n",
      "Processing image 46: /home/ray/test_images/Cole_Hardware_Hammer_Black.jpg\n",
      "Extract Image 0.014914751052856445 s\n",
      "'DotDict' object has no attribute 'use_multiple_views_inferences'\n",
      "'DotDict' object has no attribute 'use_multiple_views_inferences'\n"
     ]
    },
    {
     "data": {
      "application/vnd.jupyter.widget-view+json": {
       "model_id": "089622cdba7c44af9657fdca4703ef2e",
       "version_major": 2,
       "version_minor": 0
      },
      "text/plain": [
       "  0%|          | 0/5 [00:00<?, ?it/s]"
      ]
     },
     "metadata": {},
     "output_type": "display_data"
    },
    {
     "name": "stdout",
     "output_type": "stream",
     "text": [
      "Latent Diffusion Time 2.3532416820526123 s\n",
      "Latent Decoding Time 0.00458526611328125 s\n",
      "Wavelet Preparation Time 0.00015497207641601562 s\n",
      "Low to Highs conversion 0.05582404136657715 s\n",
      "Inverse DWT time elapsed 0.0030798912048339844 s\n",
      "mcubes.marching_cubes time 0.5478291511535645 s\n"
     ]
    },
    {
     "name": "stderr",
     "output_type": "stream",
     "text": [
      "Seed set to 42\n"
     ]
    },
    {
     "name": "stdout",
     "output_type": "stream",
     "text": [
      "export obj time 0.9925849437713623 s\n",
      "Time to save visualization from high lows to obj 1.5442049503326416 s\n",
      "Total Inference time 3.9825007915496826\n",
      "Processing image 47: /home/ray/test_images/Cole_Hardware_Mini_Honey_Dipper.jpg\n",
      "Extract Image 0.014352560043334961 s\n",
      "'DotDict' object has no attribute 'use_multiple_views_inferences'\n",
      "'DotDict' object has no attribute 'use_multiple_views_inferences'\n"
     ]
    },
    {
     "data": {
      "application/vnd.jupyter.widget-view+json": {
       "model_id": "13064ec2af754aa5b75f83330a3d7842",
       "version_major": 2,
       "version_minor": 0
      },
      "text/plain": [
       "  0%|          | 0/5 [00:00<?, ?it/s]"
      ]
     },
     "metadata": {},
     "output_type": "display_data"
    },
    {
     "name": "stdout",
     "output_type": "stream",
     "text": [
      "Latent Diffusion Time 2.353260040283203 s\n",
      "Latent Decoding Time 0.004601001739501953 s\n",
      "Wavelet Preparation Time 0.00013756752014160156 s\n",
      "Low to Highs conversion 0.055512189865112305 s\n",
      "Inverse DWT time elapsed 0.0028581619262695312 s\n",
      "mcubes.marching_cubes time 0.5482735633850098 s\n"
     ]
    },
    {
     "name": "stderr",
     "output_type": "stream",
     "text": [
      "Seed set to 42\n"
     ]
    },
    {
     "name": "stdout",
     "output_type": "stream",
     "text": [
      "export obj time 0.6013455390930176 s\n",
      "Time to save visualization from high lows to obj 1.153111219406128 s\n",
      "Total Inference time 3.5905659198760986\n",
      "Processing image 48: /home/ray/test_images/Cole_Hardware_Plant_Saucer_Brown_125.jpg\n",
      "Extract Image 0.014986038208007812 s\n",
      "'DotDict' object has no attribute 'use_multiple_views_inferences'\n",
      "'DotDict' object has no attribute 'use_multiple_views_inferences'\n"
     ]
    },
    {
     "data": {
      "application/vnd.jupyter.widget-view+json": {
       "model_id": "843168fee28e4346b2b303f46d9ca4a1",
       "version_major": 2,
       "version_minor": 0
      },
      "text/plain": [
       "  0%|          | 0/5 [00:00<?, ?it/s]"
      ]
     },
     "metadata": {},
     "output_type": "display_data"
    },
    {
     "name": "stdout",
     "output_type": "stream",
     "text": [
      "Latent Diffusion Time 2.3529202938079834 s\n",
      "Latent Decoding Time 0.004221916198730469 s\n",
      "Wavelet Preparation Time 0.0001506805419921875 s\n",
      "Low to Highs conversion 0.05615592002868652 s\n",
      "Inverse DWT time elapsed 0.0029299259185791016 s\n",
      "mcubes.marching_cubes time 0.5489253997802734 s\n"
     ]
    },
    {
     "name": "stderr",
     "output_type": "stream",
     "text": [
      "Seed set to 42\n"
     ]
    },
    {
     "name": "stdout",
     "output_type": "stream",
     "text": [
      "export obj time 2.138789415359497 s\n",
      "Time to save visualization from high lows to obj 2.691359519958496 s\n",
      "Total Inference time 5.128753662109375\n",
      "Processing image 49: /home/ray/test_images/Deskstar_Desk_Top_Hard_Drive_1_TB.jpg\n",
      "Extract Image 0.014842033386230469 s\n",
      "'DotDict' object has no attribute 'use_multiple_views_inferences'\n",
      "'DotDict' object has no attribute 'use_multiple_views_inferences'\n"
     ]
    },
    {
     "data": {
      "application/vnd.jupyter.widget-view+json": {
       "model_id": "edd84b8ff15842b0923212d7e636c239",
       "version_major": 2,
       "version_minor": 0
      },
      "text/plain": [
       "  0%|          | 0/5 [00:00<?, ?it/s]"
      ]
     },
     "metadata": {},
     "output_type": "display_data"
    },
    {
     "name": "stdout",
     "output_type": "stream",
     "text": [
      "Latent Diffusion Time 2.35329270362854 s\n",
      "Latent Decoding Time 0.0041446685791015625 s\n",
      "Wavelet Preparation Time 0.00014209747314453125 s\n",
      "Low to Highs conversion 0.05622363090515137 s\n",
      "Inverse DWT time elapsed 0.002933025360107422 s\n",
      "mcubes.marching_cubes time 0.5527262687683105 s\n"
     ]
    },
    {
     "name": "stderr",
     "output_type": "stream",
     "text": [
      "Seed set to 42\n"
     ]
    },
    {
     "name": "stdout",
     "output_type": "stream",
     "text": [
      "export obj time 3.3717880249023438 s\n",
      "Time to save visualization from high lows to obj 3.9281725883483887 s\n",
      "Total Inference time 6.366357088088989\n",
      "Processing image 50: /home/ray/test_images/Cole_Hardware_Saucer_Glazed_6.jpg\n",
      "Extract Image 0.014752626419067383 s\n",
      "'DotDict' object has no attribute 'use_multiple_views_inferences'\n",
      "'DotDict' object has no attribute 'use_multiple_views_inferences'\n"
     ]
    },
    {
     "data": {
      "application/vnd.jupyter.widget-view+json": {
       "model_id": "fc7b898e1e414ab6b2eaba3099d16d48",
       "version_major": 2,
       "version_minor": 0
      },
      "text/plain": [
       "  0%|          | 0/5 [00:00<?, ?it/s]"
      ]
     },
     "metadata": {},
     "output_type": "display_data"
    },
    {
     "name": "stdout",
     "output_type": "stream",
     "text": [
      "Latent Diffusion Time 2.355135440826416 s\n",
      "Latent Decoding Time 0.0041615962982177734 s\n",
      "Wavelet Preparation Time 0.0001392364501953125 s\n",
      "Low to Highs conversion 0.0562283992767334 s\n",
      "Inverse DWT time elapsed 0.003656148910522461 s\n",
      "mcubes.marching_cubes time 0.5516979694366455 s\n"
     ]
    },
    {
     "name": "stderr",
     "output_type": "stream",
     "text": [
      "Seed set to 42\n"
     ]
    },
    {
     "name": "stdout",
     "output_type": "stream",
     "text": [
      "export obj time 2.371485710144043 s\n",
      "Time to save visualization from high lows to obj 2.9275436401367188 s\n",
      "Total Inference time 5.367474317550659\n",
      "Processing image 51: /home/ray/test_images/Diet_Pepsi_Soda_Cola12_Pack_12_oz_Cans.jpg\n",
      "Extract Image 0.014754056930541992 s\n",
      "'DotDict' object has no attribute 'use_multiple_views_inferences'\n",
      "'DotDict' object has no attribute 'use_multiple_views_inferences'\n"
     ]
    },
    {
     "data": {
      "application/vnd.jupyter.widget-view+json": {
       "model_id": "a79f99fb66864ecdba9546720a1c5a3a",
       "version_major": 2,
       "version_minor": 0
      },
      "text/plain": [
       "  0%|          | 0/5 [00:00<?, ?it/s]"
      ]
     },
     "metadata": {},
     "output_type": "display_data"
    },
    {
     "name": "stdout",
     "output_type": "stream",
     "text": [
      "Latent Diffusion Time 2.3572068214416504 s\n",
      "Latent Decoding Time 0.004093647003173828 s\n",
      "Wavelet Preparation Time 0.0001430511474609375 s\n",
      "Low to Highs conversion 0.05611824989318848 s\n",
      "Inverse DWT time elapsed 0.0029566287994384766 s\n",
      "mcubes.marching_cubes time 0.5487256050109863 s\n"
     ]
    },
    {
     "name": "stderr",
     "output_type": "stream",
     "text": [
      "Seed set to 42\n"
     ]
    },
    {
     "name": "stdout",
     "output_type": "stream",
     "text": [
      "export obj time 2.014925241470337 s\n",
      "Time to save visualization from high lows to obj 2.567324638366699 s\n",
      "Total Inference time 5.008929014205933\n",
      "Processing image 52: /home/ray/test_images/Ecoforms_Cup_B4_SAN.jpg\n",
      "Extract Image 0.014896631240844727 s\n",
      "'DotDict' object has no attribute 'use_multiple_views_inferences'\n",
      "'DotDict' object has no attribute 'use_multiple_views_inferences'\n"
     ]
    },
    {
     "data": {
      "application/vnd.jupyter.widget-view+json": {
       "model_id": "c4d06efe7bca41efa238879cc192e70e",
       "version_major": 2,
       "version_minor": 0
      },
      "text/plain": [
       "  0%|          | 0/5 [00:00<?, ?it/s]"
      ]
     },
     "metadata": {},
     "output_type": "display_data"
    },
    {
     "name": "stdout",
     "output_type": "stream",
     "text": [
      "Latent Diffusion Time 2.352043628692627 s\n",
      "Latent Decoding Time 0.0042896270751953125 s\n",
      "Wavelet Preparation Time 0.0001595020294189453 s\n",
      "Low to Highs conversion 0.05624818801879883 s\n",
      "Inverse DWT time elapsed 0.0030167102813720703 s\n",
      "mcubes.marching_cubes time 0.5786333084106445 s\n"
     ]
    },
    {
     "name": "stderr",
     "output_type": "stream",
     "text": [
      "Seed set to 42\n"
     ]
    },
    {
     "name": "stdout",
     "output_type": "stream",
     "text": [
      "export obj time 4.540149450302124 s\n",
      "Time to save visualization from high lows to obj 5.1224565505981445 s\n",
      "Total Inference time 7.560487508773804\n",
      "Processing image 53: /home/ray/test_images/Ecoforms_Plant_Container_B4_Har.jpg\n",
      "Extract Image 0.02047133445739746 s\n",
      "'DotDict' object has no attribute 'use_multiple_views_inferences'\n",
      "'DotDict' object has no attribute 'use_multiple_views_inferences'\n"
     ]
    },
    {
     "data": {
      "application/vnd.jupyter.widget-view+json": {
       "model_id": "71bcd21ef1f744fdba993c602879deb9",
       "version_major": 2,
       "version_minor": 0
      },
      "text/plain": [
       "  0%|          | 0/5 [00:00<?, ?it/s]"
      ]
     },
     "metadata": {},
     "output_type": "display_data"
    },
    {
     "name": "stdout",
     "output_type": "stream",
     "text": [
      "Latent Diffusion Time 2.355973243713379 s\n",
      "Latent Decoding Time 0.004998683929443359 s\n",
      "Wavelet Preparation Time 0.00016927719116210938 s\n",
      "Low to Highs conversion 0.05626058578491211 s\n",
      "Inverse DWT time elapsed 0.0028591156005859375 s\n",
      "mcubes.marching_cubes time 0.5665032863616943 s\n"
     ]
    },
    {
     "name": "stderr",
     "output_type": "stream",
     "text": [
      "Seed set to 42\n"
     ]
    },
    {
     "name": "stdout",
     "output_type": "stream",
     "text": [
      "export obj time 4.512454032897949 s\n",
      "Time to save visualization from high lows to obj 5.082268476486206 s\n",
      "Total Inference time 7.531422138214111\n",
      "Processing image 54: /home/ray/test_images/Ecoforms_Plant_Container_GP16AMOCHA.jpg\n",
      "Extract Image 0.014238595962524414 s\n",
      "'DotDict' object has no attribute 'use_multiple_views_inferences'\n",
      "'DotDict' object has no attribute 'use_multiple_views_inferences'\n"
     ]
    },
    {
     "data": {
      "application/vnd.jupyter.widget-view+json": {
       "model_id": "710d92d215734d62bec7662bd18090d4",
       "version_major": 2,
       "version_minor": 0
      },
      "text/plain": [
       "  0%|          | 0/5 [00:00<?, ?it/s]"
      ]
     },
     "metadata": {},
     "output_type": "display_data"
    },
    {
     "name": "stdout",
     "output_type": "stream",
     "text": [
      "Latent Diffusion Time 2.3557307720184326 s\n",
      "Latent Decoding Time 0.0040740966796875 s\n",
      "Wavelet Preparation Time 0.00013899803161621094 s\n",
      "Low to Highs conversion 0.05586743354797363 s\n",
      "Inverse DWT time elapsed 0.0029036998748779297 s\n",
      "mcubes.marching_cubes time 0.5645246505737305 s\n"
     ]
    },
    {
     "name": "stderr",
     "output_type": "stream",
     "text": [
      "Seed set to 42\n"
     ]
    },
    {
     "name": "stdout",
     "output_type": "stream",
     "text": [
      "export obj time 5.246342897415161 s\n",
      "Time to save visualization from high lows to obj 5.814448356628418 s\n",
      "Total Inference time 8.254611730575562\n",
      "Processing image 55: /home/ray/test_images/Ecoforms_Plant_Container_GP16A_Coral.jpg\n",
      "Extract Image 0.014976978302001953 s\n",
      "'DotDict' object has no attribute 'use_multiple_views_inferences'\n",
      "'DotDict' object has no attribute 'use_multiple_views_inferences'\n"
     ]
    },
    {
     "data": {
      "application/vnd.jupyter.widget-view+json": {
       "model_id": "edbcb01906c64a5c9d4eab80bb723087",
       "version_major": 2,
       "version_minor": 0
      },
      "text/plain": [
       "  0%|          | 0/5 [00:00<?, ?it/s]"
      ]
     },
     "metadata": {},
     "output_type": "display_data"
    },
    {
     "name": "stdout",
     "output_type": "stream",
     "text": [
      "Latent Diffusion Time 2.3599014282226562 s\n",
      "Latent Decoding Time 0.004482746124267578 s\n",
      "Wavelet Preparation Time 0.00015735626220703125 s\n",
      "Low to Highs conversion 0.05606365203857422 s\n",
      "Inverse DWT time elapsed 0.0029714107513427734 s\n",
      "mcubes.marching_cubes time 0.5882389545440674 s\n"
     ]
    },
    {
     "name": "stderr",
     "output_type": "stream",
     "text": [
      "Seed set to 42\n"
     ]
    },
    {
     "name": "stdout",
     "output_type": "stream",
     "text": [
      "export obj time 5.206094264984131 s\n",
      "Time to save visualization from high lows to obj 5.797962427139282 s\n",
      "Total Inference time 8.243938446044922\n",
      "Processing image 56: /home/ray/test_images/Ecoforms_Plant_Container_QP6HARVEST.jpg\n",
      "Extract Image 0.0142059326171875 s\n",
      "'DotDict' object has no attribute 'use_multiple_views_inferences'\n",
      "'DotDict' object has no attribute 'use_multiple_views_inferences'\n"
     ]
    },
    {
     "data": {
      "application/vnd.jupyter.widget-view+json": {
       "model_id": "5ba33e3279c6465b90cd981c7108ce0e",
       "version_major": 2,
       "version_minor": 0
      },
      "text/plain": [
       "  0%|          | 0/5 [00:00<?, ?it/s]"
      ]
     },
     "metadata": {},
     "output_type": "display_data"
    },
    {
     "name": "stdout",
     "output_type": "stream",
     "text": [
      "Latent Diffusion Time 2.362151622772217 s\n",
      "Latent Decoding Time 0.0047304630279541016 s\n",
      "Wavelet Preparation Time 0.0001537799835205078 s\n",
      "Low to Highs conversion 0.05600261688232422 s\n",
      "Inverse DWT time elapsed 0.003044605255126953 s\n",
      "mcubes.marching_cubes time 0.5548069477081299 s\n"
     ]
    },
    {
     "name": "stderr",
     "output_type": "stream",
     "text": [
      "Seed set to 42\n"
     ]
    },
    {
     "name": "stdout",
     "output_type": "stream",
     "text": [
      "export obj time 4.294008731842041 s\n",
      "Time to save visualization from high lows to obj 4.852608919143677 s\n",
      "Total Inference time 7.299972295761108\n",
      "Processing image 57: /home/ray/test_images/Ecoforms_Plant_Container_URN_NAT.jpg\n",
      "Extract Image 0.020450353622436523 s\n",
      "'DotDict' object has no attribute 'use_multiple_views_inferences'\n",
      "'DotDict' object has no attribute 'use_multiple_views_inferences'\n"
     ]
    },
    {
     "data": {
      "application/vnd.jupyter.widget-view+json": {
       "model_id": "d06f67ff38b442e9af7bf2238855eb55",
       "version_major": 2,
       "version_minor": 0
      },
      "text/plain": [
       "  0%|          | 0/5 [00:00<?, ?it/s]"
      ]
     },
     "metadata": {},
     "output_type": "display_data"
    },
    {
     "name": "stdout",
     "output_type": "stream",
     "text": [
      "Latent Diffusion Time 2.3637166023254395 s\n",
      "Latent Decoding Time 0.004720211029052734 s\n",
      "Wavelet Preparation Time 0.00022649765014648438 s\n",
      "Low to Highs conversion 0.05611252784729004 s\n",
      "Inverse DWT time elapsed 0.0029916763305664062 s\n",
      "mcubes.marching_cubes time 0.5619668960571289 s\n"
     ]
    },
    {
     "name": "stderr",
     "output_type": "stream",
     "text": [
      "Seed set to 42\n"
     ]
    },
    {
     "name": "stdout",
     "output_type": "stream",
     "text": [
      "export obj time 4.850686073303223 s\n",
      "Time to save visualization from high lows to obj 5.416301012039185 s\n",
      "Total Inference time 7.87278151512146\n",
      "Processing image 58: /home/ray/test_images/Ecoforms_Plant_Container_Urn_55_Mocha.jpg\n",
      "Extract Image 0.014650821685791016 s\n",
      "'DotDict' object has no attribute 'use_multiple_views_inferences'\n",
      "'DotDict' object has no attribute 'use_multiple_views_inferences'\n"
     ]
    },
    {
     "data": {
      "application/vnd.jupyter.widget-view+json": {
       "model_id": "a31e62a1453d435ebee29bfb41b91ecc",
       "version_major": 2,
       "version_minor": 0
      },
      "text/plain": [
       "  0%|          | 0/5 [00:00<?, ?it/s]"
      ]
     },
     "metadata": {},
     "output_type": "display_data"
    },
    {
     "name": "stdout",
     "output_type": "stream",
     "text": [
      "Latent Diffusion Time 2.359809160232544 s\n",
      "Latent Decoding Time 0.004163503646850586 s\n",
      "Wavelet Preparation Time 0.0001533031463623047 s\n",
      "Low to Highs conversion 0.055954694747924805 s\n",
      "Inverse DWT time elapsed 0.002911090850830078 s\n",
      "mcubes.marching_cubes time 0.5626955032348633 s\n"
     ]
    },
    {
     "name": "stderr",
     "output_type": "stream",
     "text": [
      "Seed set to 42\n"
     ]
    },
    {
     "name": "stdout",
     "output_type": "stream",
     "text": [
      "export obj time 4.747308254241943 s\n",
      "Time to save visualization from high lows to obj 5.31364631652832 s\n",
      "Total Inference time 7.757789373397827\n",
      "Processing image 59: /home/ray/test_images/Ecoforms_Plant_Pot_GP9_SAND.jpg\n",
      "Extract Image 0.014792442321777344 s\n",
      "'DotDict' object has no attribute 'use_multiple_views_inferences'\n",
      "'DotDict' object has no attribute 'use_multiple_views_inferences'\n"
     ]
    },
    {
     "data": {
      "application/vnd.jupyter.widget-view+json": {
       "model_id": "560d642ba10b4dfda2c999deb48274e7",
       "version_major": 2,
       "version_minor": 0
      },
      "text/plain": [
       "  0%|          | 0/5 [00:00<?, ?it/s]"
      ]
     },
     "metadata": {},
     "output_type": "display_data"
    },
    {
     "name": "stdout",
     "output_type": "stream",
     "text": [
      "Latent Diffusion Time 2.361267566680908 s\n",
      "Latent Decoding Time 0.004364490509033203 s\n",
      "Wavelet Preparation Time 0.00015544891357421875 s\n",
      "Low to Highs conversion 0.056368112564086914 s\n",
      "Inverse DWT time elapsed 0.003021240234375 s\n",
      "mcubes.marching_cubes time 0.5666558742523193 s\n"
     ]
    },
    {
     "name": "stderr",
     "output_type": "stream",
     "text": [
      "Seed set to 42\n"
     ]
    },
    {
     "name": "stdout",
     "output_type": "stream",
     "text": [
      "export obj time 5.183133602142334 s\n",
      "Time to save visualization from high lows to obj 5.753460884094238 s\n",
      "Total Inference time 8.200117588043213\n",
      "Processing image 60: /home/ray/test_images/Ecoforms_Plant_Saucer_S17MOCHA.jpg\n",
      "Extract Image 0.017455339431762695 s\n",
      "'DotDict' object has no attribute 'use_multiple_views_inferences'\n",
      "'DotDict' object has no attribute 'use_multiple_views_inferences'\n"
     ]
    },
    {
     "data": {
      "application/vnd.jupyter.widget-view+json": {
       "model_id": "6e9da502f9b34e638a2ed68ccce13d28",
       "version_major": 2,
       "version_minor": 0
      },
      "text/plain": [
       "  0%|          | 0/5 [00:00<?, ?it/s]"
      ]
     },
     "metadata": {},
     "output_type": "display_data"
    },
    {
     "name": "stdout",
     "output_type": "stream",
     "text": [
      "Latent Diffusion Time 2.3590993881225586 s\n",
      "Latent Decoding Time 0.0040624141693115234 s\n",
      "Wavelet Preparation Time 0.00013947486877441406 s\n",
      "Low to Highs conversion 0.05610346794128418 s\n",
      "Inverse DWT time elapsed 0.0029609203338623047 s\n",
      "mcubes.marching_cubes time 0.5491178035736084 s\n"
     ]
    },
    {
     "name": "stderr",
     "output_type": "stream",
     "text": [
      "Seed set to 42\n"
     ]
    },
    {
     "name": "stdout",
     "output_type": "stream",
     "text": [
      "export obj time 2.2498719692230225 s\n",
      "Time to save visualization from high lows to obj 2.8026270866394043 s\n",
      "Total Inference time 5.251059532165527\n",
      "Processing image 61: /home/ray/test_images/Ecoforms_Planter_Bowl_Cole_Hardware.jpg\n",
      "Extract Image 0.01540231704711914 s\n",
      "'DotDict' object has no attribute 'use_multiple_views_inferences'\n",
      "'DotDict' object has no attribute 'use_multiple_views_inferences'\n"
     ]
    },
    {
     "data": {
      "application/vnd.jupyter.widget-view+json": {
       "model_id": "4a92e454dd79477baa212716d51539ec",
       "version_major": 2,
       "version_minor": 0
      },
      "text/plain": [
       "  0%|          | 0/5 [00:00<?, ?it/s]"
      ]
     },
     "metadata": {},
     "output_type": "display_data"
    },
    {
     "name": "stdout",
     "output_type": "stream",
     "text": [
      "Latent Diffusion Time 2.3624048233032227 s\n",
      "Latent Decoding Time 0.004209041595458984 s\n",
      "Wavelet Preparation Time 0.0001404285430908203 s\n",
      "Low to Highs conversion 0.05593109130859375 s\n",
      "Inverse DWT time elapsed 0.002899169921875 s\n",
      "mcubes.marching_cubes time 0.558042049407959 s\n"
     ]
    },
    {
     "name": "stderr",
     "output_type": "stream",
     "text": [
      "Seed set to 42\n"
     ]
    },
    {
     "name": "stdout",
     "output_type": "stream",
     "text": [
      "export obj time 4.282288312911987 s\n",
      "Time to save visualization from high lows to obj 4.843933820724487 s\n",
      "Total Inference time 7.291849136352539\n",
      "Processing image 62: /home/ray/test_images/Elephant.jpg\n",
      "Extract Image 0.01496577262878418 s\n",
      "'DotDict' object has no attribute 'use_multiple_views_inferences'\n",
      "'DotDict' object has no attribute 'use_multiple_views_inferences'\n"
     ]
    },
    {
     "data": {
      "application/vnd.jupyter.widget-view+json": {
       "model_id": "14fe7c71cd704ab4977fa1d29eab8c6e",
       "version_major": 2,
       "version_minor": 0
      },
      "text/plain": [
       "  0%|          | 0/5 [00:00<?, ?it/s]"
      ]
     },
     "metadata": {},
     "output_type": "display_data"
    },
    {
     "name": "stdout",
     "output_type": "stream",
     "text": [
      "Latent Diffusion Time 2.3620474338531494 s\n",
      "Latent Decoding Time 0.0044667720794677734 s\n",
      "Wavelet Preparation Time 0.00015425682067871094 s\n",
      "Low to Highs conversion 0.05586671829223633 s\n",
      "Inverse DWT time elapsed 0.0029277801513671875 s\n",
      "mcubes.marching_cubes time 0.5556349754333496 s\n"
     ]
    },
    {
     "name": "stderr",
     "output_type": "stream",
     "text": [
      "Seed set to 42\n"
     ]
    },
    {
     "name": "stdout",
     "output_type": "stream",
     "text": [
      "export obj time 2.610041618347168 s\n",
      "Time to save visualization from high lows to obj 3.169250249862671 s\n",
      "Total Inference time 5.616203308105469\n",
      "Processing image 63: /home/ray/test_images/Gigabyte_GAZ97XSLI_10_motherboard_ATX_LGA1150_Socket_Z97.jpg\n",
      "Extract Image 0.01475834846496582 s\n",
      "'DotDict' object has no attribute 'use_multiple_views_inferences'\n",
      "'DotDict' object has no attribute 'use_multiple_views_inferences'\n"
     ]
    },
    {
     "data": {
      "application/vnd.jupyter.widget-view+json": {
       "model_id": "f700b63f7ea947e38fd1b1a3009d166e",
       "version_major": 2,
       "version_minor": 0
      },
      "text/plain": [
       "  0%|          | 0/5 [00:00<?, ?it/s]"
      ]
     },
     "metadata": {},
     "output_type": "display_data"
    },
    {
     "name": "stdout",
     "output_type": "stream",
     "text": [
      "Latent Diffusion Time 2.3630847930908203 s\n",
      "Latent Decoding Time 0.00459599494934082 s\n",
      "Wavelet Preparation Time 0.00017070770263671875 s\n",
      "Low to Highs conversion 0.05659604072570801 s\n",
      "Inverse DWT time elapsed 0.002857685089111328 s\n",
      "mcubes.marching_cubes time 0.5610437393188477 s\n"
     ]
    },
    {
     "name": "stderr",
     "output_type": "stream",
     "text": [
      "Seed set to 42\n"
     ]
    },
    {
     "name": "stdout",
     "output_type": "stream",
     "text": [
      "export obj time 3.9269373416900635 s\n",
      "Time to save visualization from high lows to obj 4.491520404815674 s\n",
      "Total Inference time 6.940425157546997\n",
      "Processing image 64: /home/ray/test_images/Granimals_20_Wooden_ABC_Blocks_Wagon.jpg\n",
      "Extract Image 0.015048742294311523 s\n",
      "'DotDict' object has no attribute 'use_multiple_views_inferences'\n",
      "'DotDict' object has no attribute 'use_multiple_views_inferences'\n"
     ]
    },
    {
     "data": {
      "application/vnd.jupyter.widget-view+json": {
       "model_id": "ad755c2041954dbcb5237dc44c910c3c",
       "version_major": 2,
       "version_minor": 0
      },
      "text/plain": [
       "  0%|          | 0/5 [00:00<?, ?it/s]"
      ]
     },
     "metadata": {},
     "output_type": "display_data"
    },
    {
     "name": "stdout",
     "output_type": "stream",
     "text": [
      "Latent Diffusion Time 2.36279296875 s\n",
      "Latent Decoding Time 0.0046844482421875 s\n",
      "Wavelet Preparation Time 0.00015974044799804688 s\n",
      "Low to Highs conversion 0.05603814125061035 s\n",
      "Inverse DWT time elapsed 0.0029985904693603516 s\n",
      "mcubes.marching_cubes time 0.5484352111816406 s\n"
     ]
    },
    {
     "name": "stderr",
     "output_type": "stream",
     "text": [
      "Seed set to 42\n"
     ]
    },
    {
     "name": "stdout",
     "output_type": "stream",
     "text": [
      "export obj time 1.7328314781188965 s\n",
      "Time to save visualization from high lows to obj 2.2849433422088623 s\n",
      "Total Inference time 4.7329795360565186\n",
      "Processing image 65: /home/ray/test_images/Great_Dinos_Triceratops_Toy.jpg\n",
      "Extract Image 0.014858245849609375 s\n",
      "'DotDict' object has no attribute 'use_multiple_views_inferences'\n",
      "'DotDict' object has no attribute 'use_multiple_views_inferences'\n"
     ]
    },
    {
     "data": {
      "application/vnd.jupyter.widget-view+json": {
       "model_id": "d693f6b8c38e4c77b276e5ab5301cf64",
       "version_major": 2,
       "version_minor": 0
      },
      "text/plain": [
       "  0%|          | 0/5 [00:00<?, ?it/s]"
      ]
     },
     "metadata": {},
     "output_type": "display_data"
    },
    {
     "name": "stdout",
     "output_type": "stream",
     "text": [
      "Latent Diffusion Time 2.3562662601470947 s\n",
      "Latent Decoding Time 0.004271984100341797 s\n",
      "Wavelet Preparation Time 0.00013589859008789062 s\n",
      "Low to Highs conversion 0.05585527420043945 s\n",
      "Inverse DWT time elapsed 0.0030324459075927734 s\n",
      "mcubes.marching_cubes time 0.5525999069213867 s\n"
     ]
    },
    {
     "name": "stderr",
     "output_type": "stream",
     "text": [
      "Seed set to 42\n"
     ]
    },
    {
     "name": "stdout",
     "output_type": "stream",
     "text": [
      "export obj time 2.5270919799804688 s\n",
      "Time to save visualization from high lows to obj 3.0833394527435303 s\n",
      "Total Inference time 5.5246360301971436\n",
      "Processing image 66: /home/ray/test_images/Hefty_Waste_Basket_Decorative_Bronze_85_liter.jpg\n",
      "Extract Image 0.015372514724731445 s\n",
      "'DotDict' object has no attribute 'use_multiple_views_inferences'\n",
      "'DotDict' object has no attribute 'use_multiple_views_inferences'\n"
     ]
    },
    {
     "data": {
      "application/vnd.jupyter.widget-view+json": {
       "model_id": "75ae8023b1024a90bb7b2105f184653d",
       "version_major": 2,
       "version_minor": 0
      },
      "text/plain": [
       "  0%|          | 0/5 [00:00<?, ?it/s]"
      ]
     },
     "metadata": {},
     "output_type": "display_data"
    },
    {
     "name": "stdout",
     "output_type": "stream",
     "text": [
      "Latent Diffusion Time 2.355884313583374 s\n",
      "Latent Decoding Time 0.0042438507080078125 s\n",
      "Wavelet Preparation Time 0.0001533031463623047 s\n",
      "Low to Highs conversion 0.055876731872558594 s\n",
      "Inverse DWT time elapsed 0.0027768611907958984 s\n",
      "mcubes.marching_cubes time 0.5611717700958252 s\n"
     ]
    },
    {
     "name": "stderr",
     "output_type": "stream",
     "text": [
      "Seed set to 42\n"
     ]
    },
    {
     "name": "stdout",
     "output_type": "stream",
     "text": [
      "export obj time 4.652423620223999 s\n",
      "Time to save visualization from high lows to obj 5.216929912567139 s\n",
      "Total Inference time 7.658015966415405\n",
      "Processing image 67: /home/ray/test_images/INTERNATIONAL_PAPER_Willamette_4_Brown_Bag_500Count.jpg\n",
      "Extract Image 0.020314693450927734 s\n",
      "'DotDict' object has no attribute 'use_multiple_views_inferences'\n",
      "'DotDict' object has no attribute 'use_multiple_views_inferences'\n"
     ]
    },
    {
     "data": {
      "application/vnd.jupyter.widget-view+json": {
       "model_id": "8f959624c2b2458cadee125164cd74eb",
       "version_major": 2,
       "version_minor": 0
      },
      "text/plain": [
       "  0%|          | 0/5 [00:00<?, ?it/s]"
      ]
     },
     "metadata": {},
     "output_type": "display_data"
    },
    {
     "name": "stdout",
     "output_type": "stream",
     "text": [
      "Latent Diffusion Time 2.356691360473633 s\n",
      "Latent Decoding Time 0.004547595977783203 s\n",
      "Wavelet Preparation Time 0.00015664100646972656 s\n",
      "Low to Highs conversion 0.05596733093261719 s\n",
      "Inverse DWT time elapsed 0.003015279769897461 s\n",
      "mcubes.marching_cubes time 0.5536701679229736 s\n"
     ]
    },
    {
     "name": "stderr",
     "output_type": "stream",
     "text": [
      "Seed set to 42\n"
     ]
    },
    {
     "name": "stdout",
     "output_type": "stream",
     "text": [
      "export obj time 2.889979600906372 s\n",
      "Time to save visualization from high lows to obj 3.447319269180298 s\n",
      "Total Inference time 5.896315336227417\n",
      "Processing image 68: /home/ray/test_images/KS_Chocolate_Cube_Box_Assortment_By_Neuhaus_2010_Ounces.jpg\n",
      "Extract Image 0.014227628707885742 s\n",
      "'DotDict' object has no attribute 'use_multiple_views_inferences'\n",
      "'DotDict' object has no attribute 'use_multiple_views_inferences'\n"
     ]
    },
    {
     "data": {
      "application/vnd.jupyter.widget-view+json": {
       "model_id": "1978c6bc79e3427b9a88edb2782e215b",
       "version_major": 2,
       "version_minor": 0
      },
      "text/plain": [
       "  0%|          | 0/5 [00:00<?, ?it/s]"
      ]
     },
     "metadata": {},
     "output_type": "display_data"
    },
    {
     "name": "stdout",
     "output_type": "stream",
     "text": [
      "Latent Diffusion Time 2.3542568683624268 s\n",
      "Latent Decoding Time 0.004380702972412109 s\n",
      "Wavelet Preparation Time 0.00014209747314453125 s\n",
      "Low to Highs conversion 0.055795907974243164 s\n",
      "Inverse DWT time elapsed 0.0036787986755371094 s\n",
      "mcubes.marching_cubes time 0.5642719268798828 s\n"
     ]
    },
    {
     "name": "stderr",
     "output_type": "stream",
     "text": [
      "Seed set to 42\n"
     ]
    },
    {
     "name": "stdout",
     "output_type": "stream",
     "text": [
      "export obj time 3.723824977874756 s\n",
      "Time to save visualization from high lows to obj 4.292456150054932 s\n",
      "Total Inference time 6.731266260147095\n",
      "Processing image 69: /home/ray/test_images/Neat_Solutions_Character_Bib_2_pack.jpg\n",
      "Extract Image 0.014920473098754883 s\n",
      "'DotDict' object has no attribute 'use_multiple_views_inferences'\n",
      "'DotDict' object has no attribute 'use_multiple_views_inferences'\n"
     ]
    },
    {
     "data": {
      "application/vnd.jupyter.widget-view+json": {
       "model_id": "afd63b0bd26e4cbc86874f5239968819",
       "version_major": 2,
       "version_minor": 0
      },
      "text/plain": [
       "  0%|          | 0/5 [00:00<?, ?it/s]"
      ]
     },
     "metadata": {},
     "output_type": "display_data"
    },
    {
     "name": "stdout",
     "output_type": "stream",
     "text": [
      "Latent Diffusion Time 2.3519692420959473 s\n",
      "Latent Decoding Time 0.004243612289428711 s\n",
      "Wavelet Preparation Time 0.00016069412231445312 s\n",
      "Low to Highs conversion 0.055891990661621094 s\n",
      "Inverse DWT time elapsed 0.003103017807006836 s\n",
      "mcubes.marching_cubes time 0.5556268692016602 s\n"
     ]
    },
    {
     "name": "stderr",
     "output_type": "stream",
     "text": [
      "Seed set to 42\n"
     ]
    },
    {
     "name": "stdout",
     "output_type": "stream",
     "text": [
      "export obj time 3.3635754585266113 s\n",
      "Time to save visualization from high lows to obj 3.9229300022125244 s\n",
      "Total Inference time 6.359193325042725\n",
      "Processing image 70: /home/ray/test_images/Now_Designs_Bowl_Akita_Black.jpg\n",
      "Extract Image 0.014659404754638672 s\n",
      "'DotDict' object has no attribute 'use_multiple_views_inferences'\n",
      "'DotDict' object has no attribute 'use_multiple_views_inferences'\n"
     ]
    },
    {
     "data": {
      "application/vnd.jupyter.widget-view+json": {
       "model_id": "633c91b565304f05b9c793224d073705",
       "version_major": 2,
       "version_minor": 0
      },
      "text/plain": [
       "  0%|          | 0/5 [00:00<?, ?it/s]"
      ]
     },
     "metadata": {},
     "output_type": "display_data"
    },
    {
     "name": "stdout",
     "output_type": "stream",
     "text": [
      "Latent Diffusion Time 2.351015090942383 s\n",
      "Latent Decoding Time 0.004416704177856445 s\n",
      "Wavelet Preparation Time 0.0001480579376220703 s\n",
      "Low to Highs conversion 0.05626559257507324 s\n",
      "Inverse DWT time elapsed 0.0031261444091796875 s\n",
      "mcubes.marching_cubes time 0.5548858642578125 s\n"
     ]
    },
    {
     "name": "stderr",
     "output_type": "stream",
     "text": [
      "Seed set to 42\n"
     ]
    },
    {
     "name": "stdout",
     "output_type": "stream",
     "text": [
      "export obj time 3.2476563453674316 s\n",
      "Time to save visualization from high lows to obj 3.8063015937805176 s\n",
      "Total Inference time 6.242334842681885\n",
      "Processing image 71: /home/ray/test_images/Ortho_Forward_Facing_3Q6J2oKJD92.jpg\n",
      "Extract Image 0.015403032302856445 s\n",
      "'DotDict' object has no attribute 'use_multiple_views_inferences'\n",
      "'DotDict' object has no attribute 'use_multiple_views_inferences'\n"
     ]
    },
    {
     "data": {
      "application/vnd.jupyter.widget-view+json": {
       "model_id": "66819a64a36349b38772912192c04395",
       "version_major": 2,
       "version_minor": 0
      },
      "text/plain": [
       "  0%|          | 0/5 [00:00<?, ?it/s]"
      ]
     },
     "metadata": {},
     "output_type": "display_data"
    },
    {
     "name": "stdout",
     "output_type": "stream",
     "text": [
      "Latent Diffusion Time 2.3519368171691895 s\n",
      "Latent Decoding Time 0.004258632659912109 s\n",
      "Wavelet Preparation Time 0.0001888275146484375 s\n",
      "Low to Highs conversion 0.05588841438293457 s\n",
      "Inverse DWT time elapsed 0.0032410621643066406 s\n",
      "mcubes.marching_cubes time 0.5754201412200928 s\n"
     ]
    },
    {
     "name": "stderr",
     "output_type": "stream",
     "text": [
      "Seed set to 42\n"
     ]
    },
    {
     "name": "stdout",
     "output_type": "stream",
     "text": [
      "export obj time 2.929759979248047 s\n",
      "Time to save visualization from high lows to obj 3.5091588497161865 s\n",
      "Total Inference time 5.946693420410156\n",
      "Processing image 72: /home/ray/test_images/PEPSI_NEXT_CACRV.jpg\n",
      "Extract Image 0.025330305099487305 s\n",
      "'DotDict' object has no attribute 'use_multiple_views_inferences'\n",
      "'DotDict' object has no attribute 'use_multiple_views_inferences'\n"
     ]
    },
    {
     "data": {
      "application/vnd.jupyter.widget-view+json": {
       "model_id": "97523b27bfa94c50916fd6f452981e91",
       "version_major": 2,
       "version_minor": 0
      },
      "text/plain": [
       "  0%|          | 0/5 [00:00<?, ?it/s]"
      ]
     },
     "metadata": {},
     "output_type": "display_data"
    },
    {
     "name": "stdout",
     "output_type": "stream",
     "text": [
      "Latent Diffusion Time 2.3557791709899902 s\n",
      "Latent Decoding Time 0.004256486892700195 s\n",
      "Wavelet Preparation Time 0.0001537799835205078 s\n",
      "Low to Highs conversion 0.05568265914916992 s\n",
      "Inverse DWT time elapsed 0.003116130828857422 s\n",
      "mcubes.marching_cubes time 0.5469567775726318 s\n"
     ]
    },
    {
     "name": "stderr",
     "output_type": "stream",
     "text": [
      "Seed set to 42\n"
     ]
    },
    {
     "name": "stdout",
     "output_type": "stream",
     "text": [
      "export obj time 1.989269495010376 s\n",
      "Time to save visualization from high lows to obj 2.5400571823120117 s\n",
      "Total Inference time 4.995119094848633\n",
      "Processing image 73: /home/ray/test_images/POUNDING_MUSHROOMS.jpg\n",
      "Extract Image 0.014993906021118164 s\n",
      "'DotDict' object has no attribute 'use_multiple_views_inferences'\n",
      "'DotDict' object has no attribute 'use_multiple_views_inferences'\n"
     ]
    },
    {
     "data": {
      "application/vnd.jupyter.widget-view+json": {
       "model_id": "b47f314db0624c48a39994519f97cd83",
       "version_major": 2,
       "version_minor": 0
      },
      "text/plain": [
       "  0%|          | 0/5 [00:00<?, ?it/s]"
      ]
     },
     "metadata": {},
     "output_type": "display_data"
    },
    {
     "name": "stdout",
     "output_type": "stream",
     "text": [
      "Latent Diffusion Time 2.354006290435791 s\n",
      "Latent Decoding Time 0.004425525665283203 s\n",
      "Wavelet Preparation Time 0.00017452239990234375 s\n",
      "Low to Highs conversion 0.056046485900878906 s\n",
      "Inverse DWT time elapsed 0.0030770301818847656 s\n",
      "mcubes.marching_cubes time 0.5507230758666992 s\n"
     ]
    },
    {
     "name": "stderr",
     "output_type": "stream",
     "text": [
      "Seed set to 42\n"
     ]
    },
    {
     "name": "stdout",
     "output_type": "stream",
     "text": [
      "export obj time 2.3662469387054443 s\n",
      "Time to save visualization from high lows to obj 2.9207611083984375 s\n",
      "Total Inference time 5.360388278961182\n",
      "Processing image 74: /home/ray/test_images/PUNCH_DROP_TjicLPMqLvz.jpg\n",
      "Extract Image 0.015212774276733398 s\n",
      "'DotDict' object has no attribute 'use_multiple_views_inferences'\n",
      "'DotDict' object has no attribute 'use_multiple_views_inferences'\n"
     ]
    },
    {
     "data": {
      "application/vnd.jupyter.widget-view+json": {
       "model_id": "59d63c998a9a4e60be23697349c3e8be",
       "version_major": 2,
       "version_minor": 0
      },
      "text/plain": [
       "  0%|          | 0/5 [00:00<?, ?it/s]"
      ]
     },
     "metadata": {},
     "output_type": "display_data"
    },
    {
     "name": "stdout",
     "output_type": "stream",
     "text": [
      "Latent Diffusion Time 2.3543365001678467 s\n",
      "Latent Decoding Time 0.004246711730957031 s\n",
      "Wavelet Preparation Time 0.00014925003051757812 s\n",
      "Low to Highs conversion 0.05581784248352051 s\n",
      "Inverse DWT time elapsed 0.0028421878814697266 s\n",
      "mcubes.marching_cubes time 0.5540814399719238 s\n"
     ]
    },
    {
     "name": "stderr",
     "output_type": "stream",
     "text": [
      "Seed set to 42\n"
     ]
    },
    {
     "name": "stdout",
     "output_type": "stream",
     "text": [
      "export obj time 2.760274887084961 s\n",
      "Time to save visualization from high lows to obj 3.317836046218872 s\n",
      "Total Inference time 5.756914854049683\n",
      "Processing image 75: /home/ray/test_images/Pepsi_Max_Cola_Zero_Calorie_12_12_fl_oz_355_ml_cans_144_fl_oz_426_lt.jpg\n",
      "Extract Image 0.015197992324829102 s\n",
      "'DotDict' object has no attribute 'use_multiple_views_inferences'\n",
      "'DotDict' object has no attribute 'use_multiple_views_inferences'\n"
     ]
    },
    {
     "data": {
      "application/vnd.jupyter.widget-view+json": {
       "model_id": "d98d2937ce3440fc88666e8d2d842836",
       "version_major": 2,
       "version_minor": 0
      },
      "text/plain": [
       "  0%|          | 0/5 [00:00<?, ?it/s]"
      ]
     },
     "metadata": {},
     "output_type": "display_data"
    },
    {
     "name": "stdout",
     "output_type": "stream",
     "text": [
      "Latent Diffusion Time 2.3573098182678223 s\n",
      "Latent Decoding Time 0.004376649856567383 s\n",
      "Wavelet Preparation Time 0.00016117095947265625 s\n",
      "Low to Highs conversion 0.05578899383544922 s\n",
      "Inverse DWT time elapsed 0.002888917922973633 s\n",
      "mcubes.marching_cubes time 0.5475881099700928 s\n"
     ]
    },
    {
     "name": "stderr",
     "output_type": "stream",
     "text": [
      "Seed set to 42\n"
     ]
    },
    {
     "name": "stdout",
     "output_type": "stream",
     "text": [
      "export obj time 2.011509418487549 s\n",
      "Time to save visualization from high lows to obj 2.562638998031616 s\n",
      "Total Inference time 5.005552053451538\n",
      "Processing image 76: /home/ray/test_images/Perricone_MD_AcylGlutathione_Eye_Lid_Serum.jpg\n",
      "Extract Image 0.015172719955444336 s\n",
      "'DotDict' object has no attribute 'use_multiple_views_inferences'\n",
      "'DotDict' object has no attribute 'use_multiple_views_inferences'\n"
     ]
    },
    {
     "data": {
      "application/vnd.jupyter.widget-view+json": {
       "model_id": "c156714439394221847a4cb059d1fe91",
       "version_major": 2,
       "version_minor": 0
      },
      "text/plain": [
       "  0%|          | 0/5 [00:00<?, ?it/s]"
      ]
     },
     "metadata": {},
     "output_type": "display_data"
    },
    {
     "name": "stdout",
     "output_type": "stream",
     "text": [
      "Latent Diffusion Time 2.361283302307129 s\n",
      "Latent Decoding Time 0.0044367313385009766 s\n",
      "Wavelet Preparation Time 0.0001544952392578125 s\n",
      "Low to Highs conversion 0.05580902099609375 s\n",
      "Inverse DWT time elapsed 0.003007650375366211 s\n",
      "mcubes.marching_cubes time 0.5577733516693115 s\n"
     ]
    },
    {
     "name": "stderr",
     "output_type": "stream",
     "text": [
      "Seed set to 42\n"
     ]
    },
    {
     "name": "stdout",
     "output_type": "stream",
     "text": [
      "export obj time 3.6852407455444336 s\n",
      "Time to save visualization from high lows to obj 4.246718645095825 s\n",
      "Total Inference time 6.693654537200928\n",
      "Processing image 77: /home/ray/test_images/Perricone_MD_Face_Finishing_Moisturizer.jpg\n",
      "Extract Image 0.014882087707519531 s\n",
      "'DotDict' object has no attribute 'use_multiple_views_inferences'\n",
      "'DotDict' object has no attribute 'use_multiple_views_inferences'\n"
     ]
    },
    {
     "data": {
      "application/vnd.jupyter.widget-view+json": {
       "model_id": "a1a191fc33d4425b9d4996b55df9ffda",
       "version_major": 2,
       "version_minor": 0
      },
      "text/plain": [
       "  0%|          | 0/5 [00:00<?, ?it/s]"
      ]
     },
     "metadata": {},
     "output_type": "display_data"
    },
    {
     "name": "stdout",
     "output_type": "stream",
     "text": [
      "Latent Diffusion Time 2.3577442169189453 s\n",
      "Latent Decoding Time 0.004479646682739258 s\n",
      "Wavelet Preparation Time 0.00013899803161621094 s\n",
      "Low to Highs conversion 0.05620265007019043 s\n",
      "Inverse DWT time elapsed 0.0029556751251220703 s\n",
      "mcubes.marching_cubes time 0.558067798614502 s\n"
     ]
    },
    {
     "name": "stderr",
     "output_type": "stream",
     "text": [
      "Seed set to 42\n"
     ]
    },
    {
     "name": "stdout",
     "output_type": "stream",
     "text": [
      "export obj time 3.6967954635620117 s\n",
      "Time to save visualization from high lows to obj 4.258390426635742 s\n",
      "Total Inference time 6.702597141265869\n",
      "Processing image 78: /home/ray/test_images/Perricone_MD_Hypoallergenic_Firming_Eye_Cream_05_oz.jpg\n",
      "Extract Image 0.02039647102355957 s\n",
      "'DotDict' object has no attribute 'use_multiple_views_inferences'\n",
      "'DotDict' object has no attribute 'use_multiple_views_inferences'\n"
     ]
    },
    {
     "data": {
      "application/vnd.jupyter.widget-view+json": {
       "model_id": "a1eec2d1b15944b2844bc4ef27be0f66",
       "version_major": 2,
       "version_minor": 0
      },
      "text/plain": [
       "  0%|          | 0/5 [00:00<?, ?it/s]"
      ]
     },
     "metadata": {},
     "output_type": "display_data"
    },
    {
     "name": "stdout",
     "output_type": "stream",
     "text": [
      "Latent Diffusion Time 2.3601837158203125 s\n",
      "Latent Decoding Time 0.0044934749603271484 s\n",
      "Wavelet Preparation Time 0.00014328956604003906 s\n",
      "Low to Highs conversion 0.05651068687438965 s\n",
      "Inverse DWT time elapsed 0.003263711929321289 s\n",
      "mcubes.marching_cubes time 0.5751564502716064 s\n"
     ]
    },
    {
     "name": "stderr",
     "output_type": "stream",
     "text": [
      "Seed set to 42\n"
     ]
    },
    {
     "name": "stdout",
     "output_type": "stream",
     "text": [
      "export obj time 3.50172758102417 s\n",
      "Time to save visualization from high lows to obj 4.080812692642212 s\n",
      "Total Inference time 6.5338335037231445\n",
      "Processing image 79: /home/ray/test_images/Perricone_MD_No_Foundation_Foundation_No_1.jpg\n",
      "Extract Image 0.014637231826782227 s\n",
      "'DotDict' object has no attribute 'use_multiple_views_inferences'\n",
      "'DotDict' object has no attribute 'use_multiple_views_inferences'\n"
     ]
    },
    {
     "data": {
      "application/vnd.jupyter.widget-view+json": {
       "model_id": "02a5700d5eb941b896505066b5ce39af",
       "version_major": 2,
       "version_minor": 0
      },
      "text/plain": [
       "  0%|          | 0/5 [00:00<?, ?it/s]"
      ]
     },
     "metadata": {},
     "output_type": "display_data"
    },
    {
     "name": "stdout",
     "output_type": "stream",
     "text": [
      "Latent Diffusion Time 2.3588576316833496 s\n",
      "Latent Decoding Time 0.004861116409301758 s\n",
      "Wavelet Preparation Time 0.00016808509826660156 s\n",
      "Low to Highs conversion 0.05565643310546875 s\n",
      "Inverse DWT time elapsed 0.0030105113983154297 s\n",
      "mcubes.marching_cubes time 0.5528945922851562 s\n"
     ]
    },
    {
     "name": "stderr",
     "output_type": "stream",
     "text": [
      "Seed set to 42\n"
     ]
    },
    {
     "name": "stdout",
     "output_type": "stream",
     "text": [
      "export obj time 3.363051652908325 s\n",
      "Time to save visualization from high lows to obj 3.9196248054504395 s\n",
      "Total Inference time 6.36385178565979\n",
      "Processing image 80: /home/ray/test_images/Perricone_MD_Photo_Plasma.jpg\n",
      "Extract Image 0.020292282104492188 s\n",
      "'DotDict' object has no attribute 'use_multiple_views_inferences'\n",
      "'DotDict' object has no attribute 'use_multiple_views_inferences'\n"
     ]
    },
    {
     "data": {
      "application/vnd.jupyter.widget-view+json": {
       "model_id": "6c1b394117c6468c871488ab48b4c609",
       "version_major": 2,
       "version_minor": 0
      },
      "text/plain": [
       "  0%|          | 0/5 [00:00<?, ?it/s]"
      ]
     },
     "metadata": {},
     "output_type": "display_data"
    },
    {
     "name": "stdout",
     "output_type": "stream",
     "text": [
      "Latent Diffusion Time 2.358792543411255 s\n",
      "Latent Decoding Time 0.004591941833496094 s\n",
      "Wavelet Preparation Time 0.0001556873321533203 s\n",
      "Low to Highs conversion 0.05567502975463867 s\n",
      "Inverse DWT time elapsed 0.0029828548431396484 s\n",
      "mcubes.marching_cubes time 0.556189775466919 s\n"
     ]
    },
    {
     "name": "stderr",
     "output_type": "stream",
     "text": [
      "Seed set to 42\n"
     ]
    },
    {
     "name": "stdout",
     "output_type": "stream",
     "text": [
      "export obj time 3.5563244819641113 s\n",
      "Time to save visualization from high lows to obj 4.116149187088013 s\n",
      "Total Inference time 6.566834211349487\n",
      "Processing image 81: /home/ray/test_images/Perricone_MD_Skin_Total_Body_Supplements.jpg\n",
      "Extract Image 0.014919042587280273 s\n",
      "'DotDict' object has no attribute 'use_multiple_views_inferences'\n",
      "'DotDict' object has no attribute 'use_multiple_views_inferences'\n"
     ]
    },
    {
     "data": {
      "application/vnd.jupyter.widget-view+json": {
       "model_id": "9b64ce0a6354420aaa13530b69c8ecc6",
       "version_major": 2,
       "version_minor": 0
      },
      "text/plain": [
       "  0%|          | 0/5 [00:00<?, ?it/s]"
      ]
     },
     "metadata": {},
     "output_type": "display_data"
    },
    {
     "name": "stdout",
     "output_type": "stream",
     "text": [
      "Latent Diffusion Time 2.3604941368103027 s\n",
      "Latent Decoding Time 0.004694223403930664 s\n",
      "Wavelet Preparation Time 0.00014781951904296875 s\n",
      "Low to Highs conversion 0.056287527084350586 s\n",
      "Inverse DWT time elapsed 0.0030333995819091797 s\n",
      "mcubes.marching_cubes time 0.5567114353179932 s\n"
     ]
    },
    {
     "name": "stderr",
     "output_type": "stream",
     "text": [
      "Seed set to 42\n"
     ]
    },
    {
     "name": "stdout",
     "output_type": "stream",
     "text": [
      "export obj time 3.6403286457061768 s\n",
      "Time to save visualization from high lows to obj 4.200758457183838 s\n",
      "Total Inference time 6.647159099578857\n",
      "Processing image 82: /home/ray/test_images/Perricone_MD_Super_Berry_Powder_with_Acai_Supplements.jpg\n",
      "Extract Image 0.015027523040771484 s\n",
      "'DotDict' object has no attribute 'use_multiple_views_inferences'\n",
      "'DotDict' object has no attribute 'use_multiple_views_inferences'\n"
     ]
    },
    {
     "data": {
      "application/vnd.jupyter.widget-view+json": {
       "model_id": "1e7f734fca9f448da70ad26b6110a846",
       "version_major": 2,
       "version_minor": 0
      },
      "text/plain": [
       "  0%|          | 0/5 [00:00<?, ?it/s]"
      ]
     },
     "metadata": {},
     "output_type": "display_data"
    },
    {
     "name": "stdout",
     "output_type": "stream",
     "text": [
      "Latent Diffusion Time 2.3528170585632324 s\n",
      "Latent Decoding Time 0.004090547561645508 s\n",
      "Wavelet Preparation Time 0.0001423358917236328 s\n",
      "Low to Highs conversion 0.05578899383544922 s\n",
      "Inverse DWT time elapsed 0.0028281211853027344 s\n",
      "mcubes.marching_cubes time 0.5538537502288818 s\n"
     ]
    },
    {
     "name": "stderr",
     "output_type": "stream",
     "text": [
      "Seed set to 42\n"
     ]
    },
    {
     "name": "stdout",
     "output_type": "stream",
     "text": [
      "export obj time 3.69207501411438 s\n",
      "Time to save visualization from high lows to obj 4.249586343765259 s\n",
      "Total Inference time 6.686933755874634\n",
      "Processing image 83: /home/ray/test_images/Perricone_MD_Vitamin_C_Ester_Serum.jpg\n",
      "Extract Image 0.024772167205810547 s\n",
      "'DotDict' object has no attribute 'use_multiple_views_inferences'\n",
      "'DotDict' object has no attribute 'use_multiple_views_inferences'\n"
     ]
    },
    {
     "data": {
      "application/vnd.jupyter.widget-view+json": {
       "model_id": "0839c2ffe1ee4fb39e0e9b5fbb92dbcd",
       "version_major": 2,
       "version_minor": 0
      },
      "text/plain": [
       "  0%|          | 0/5 [00:00<?, ?it/s]"
      ]
     },
     "metadata": {},
     "output_type": "display_data"
    },
    {
     "name": "stdout",
     "output_type": "stream",
     "text": [
      "Latent Diffusion Time 2.357877254486084 s\n",
      "Latent Decoding Time 0.004635334014892578 s\n",
      "Wavelet Preparation Time 0.0001614093780517578 s\n",
      "Low to Highs conversion 0.05590200424194336 s\n",
      "Inverse DWT time elapsed 0.003108501434326172 s\n",
      "mcubes.marching_cubes time 0.5565650463104248 s\n"
     ]
    },
    {
     "name": "stderr",
     "output_type": "stream",
     "text": [
      "Seed set to 42\n"
     ]
    },
    {
     "name": "stdout",
     "output_type": "stream",
     "text": [
      "export obj time 3.566476583480835 s\n",
      "Time to save visualization from high lows to obj 4.12686562538147 s\n",
      "Total Inference time 6.581871747970581\n",
      "Processing image 84: /home/ray/test_images/Pony_C_Clamp_1440.jpg\n",
      "Extract Image 0.014884471893310547 s\n",
      "'DotDict' object has no attribute 'use_multiple_views_inferences'\n",
      "'DotDict' object has no attribute 'use_multiple_views_inferences'\n"
     ]
    },
    {
     "data": {
      "application/vnd.jupyter.widget-view+json": {
       "model_id": "3279e104cb694546979336ad5a222ebb",
       "version_major": 2,
       "version_minor": 0
      },
      "text/plain": [
       "  0%|          | 0/5 [00:00<?, ?it/s]"
      ]
     },
     "metadata": {},
     "output_type": "display_data"
    },
    {
     "name": "stdout",
     "output_type": "stream",
     "text": [
      "Latent Diffusion Time 2.353456735610962 s\n",
      "Latent Decoding Time 0.004926443099975586 s\n",
      "Wavelet Preparation Time 0.00019240379333496094 s\n",
      "Low to Highs conversion 0.055525779724121094 s\n",
      "Inverse DWT time elapsed 0.00301361083984375 s\n",
      "mcubes.marching_cubes time 0.5485000610351562 s\n"
     ]
    },
    {
     "name": "stderr",
     "output_type": "stream",
     "text": [
      "Seed set to 42\n"
     ]
    },
    {
     "name": "stdout",
     "output_type": "stream",
     "text": [
      "export obj time 0.9940869808197021 s\n",
      "Time to save visualization from high lows to obj 1.5462353229522705 s\n",
      "Total Inference time 3.9853355884552\n",
      "Processing image 85: /home/ray/test_images/Poppin_File_Sorter_Blue.jpg\n",
      "Extract Image 0.014613151550292969 s\n",
      "'DotDict' object has no attribute 'use_multiple_views_inferences'\n",
      "'DotDict' object has no attribute 'use_multiple_views_inferences'\n"
     ]
    },
    {
     "data": {
      "application/vnd.jupyter.widget-view+json": {
       "model_id": "9c68a9574f32434098a8f876f7533a96",
       "version_major": 2,
       "version_minor": 0
      },
      "text/plain": [
       "  0%|          | 0/5 [00:00<?, ?it/s]"
      ]
     },
     "metadata": {},
     "output_type": "display_data"
    },
    {
     "name": "stdout",
     "output_type": "stream",
     "text": [
      "Latent Diffusion Time 2.3539223670959473 s\n",
      "Latent Decoding Time 0.004431247711181641 s\n",
      "Wavelet Preparation Time 0.000179290771484375 s\n",
      "Low to Highs conversion 0.05601143836975098 s\n",
      "Inverse DWT time elapsed 0.0028030872344970703 s\n",
      "mcubes.marching_cubes time 0.5526189804077148 s\n"
     ]
    },
    {
     "name": "stderr",
     "output_type": "stream",
     "text": [
      "Seed set to 42\n"
     ]
    },
    {
     "name": "stdout",
     "output_type": "stream",
     "text": [
      "export obj time 2.602001190185547 s\n",
      "Time to save visualization from high lows to obj 3.1582846641540527 s\n",
      "Total Inference time 5.596898555755615\n",
      "Processing image 86: /home/ray/test_images/Razer_BlackWidow_Stealth_2014_Keyboard_07VFzIVabgh.jpg\n",
      "Extract Image 0.014248371124267578 s\n",
      "'DotDict' object has no attribute 'use_multiple_views_inferences'\n",
      "'DotDict' object has no attribute 'use_multiple_views_inferences'\n"
     ]
    },
    {
     "data": {
      "application/vnd.jupyter.widget-view+json": {
       "model_id": "b6b204785b7e4a05b68ca76eb9f938a0",
       "version_major": 2,
       "version_minor": 0
      },
      "text/plain": [
       "  0%|          | 0/5 [00:00<?, ?it/s]"
      ]
     },
     "metadata": {},
     "output_type": "display_data"
    },
    {
     "name": "stdout",
     "output_type": "stream",
     "text": [
      "Latent Diffusion Time 2.3526623249053955 s\n",
      "Latent Decoding Time 0.004361629486083984 s\n",
      "Wavelet Preparation Time 0.00016355514526367188 s\n",
      "Low to Highs conversion 0.056616783142089844 s\n",
      "Inverse DWT time elapsed 0.0031485557556152344 s\n",
      "mcubes.marching_cubes time 0.5434112548828125 s\n"
     ]
    },
    {
     "name": "stderr",
     "output_type": "stream",
     "text": [
      "Seed set to 42\n"
     ]
    },
    {
     "name": "stdout",
     "output_type": "stream",
     "text": [
      "export obj time 0.41828250885009766 s\n",
      "Time to save visualization from high lows to obj 0.9655325412750244 s\n",
      "Total Inference time 3.4031729698181152\n",
      "Processing image 87: /home/ray/test_images/Razer_Kraken_Pro_headset_Full_size_Black.jpg\n",
      "Extract Image 0.01500248908996582 s\n",
      "'DotDict' object has no attribute 'use_multiple_views_inferences'\n",
      "'DotDict' object has no attribute 'use_multiple_views_inferences'\n"
     ]
    },
    {
     "data": {
      "application/vnd.jupyter.widget-view+json": {
       "model_id": "163bf2fa75054557a848d1e7f60e29eb",
       "version_major": 2,
       "version_minor": 0
      },
      "text/plain": [
       "  0%|          | 0/5 [00:00<?, ?it/s]"
      ]
     },
     "metadata": {},
     "output_type": "display_data"
    },
    {
     "name": "stdout",
     "output_type": "stream",
     "text": [
      "Latent Diffusion Time 2.3501482009887695 s\n",
      "Latent Decoding Time 0.004407644271850586 s\n",
      "Wavelet Preparation Time 0.0001571178436279297 s\n",
      "Low to Highs conversion 0.0560147762298584 s\n",
      "Inverse DWT time elapsed 0.0030527114868164062 s\n",
      "mcubes.marching_cubes time 0.5468442440032959 s\n"
     ]
    },
    {
     "name": "stderr",
     "output_type": "stream",
     "text": [
      "Seed set to 42\n"
     ]
    },
    {
     "name": "stdout",
     "output_type": "stream",
     "text": [
      "export obj time 1.3650965690612793 s\n",
      "Time to save visualization from high lows to obj 1.915654182434082 s\n",
      "Total Inference time 4.351449966430664\n",
      "Processing image 88: /home/ray/test_images/Reef_Star_Cushion_Flipflops_Size_8_Black.jpg\n",
      "Extract Image 0.014933347702026367 s\n",
      "'DotDict' object has no attribute 'use_multiple_views_inferences'\n",
      "'DotDict' object has no attribute 'use_multiple_views_inferences'\n"
     ]
    },
    {
     "data": {
      "application/vnd.jupyter.widget-view+json": {
       "model_id": "8cf0bcc1cdf5425e92e45391338fba7e",
       "version_major": 2,
       "version_minor": 0
      },
      "text/plain": [
       "  0%|          | 0/5 [00:00<?, ?it/s]"
      ]
     },
     "metadata": {},
     "output_type": "display_data"
    },
    {
     "name": "stdout",
     "output_type": "stream",
     "text": [
      "Latent Diffusion Time 2.351140022277832 s\n",
      "Latent Decoding Time 0.0041332244873046875 s\n",
      "Wavelet Preparation Time 0.0001418590545654297 s\n",
      "Low to Highs conversion 0.055633544921875 s\n",
      "Inverse DWT time elapsed 0.002856016159057617 s\n",
      "mcubes.marching_cubes time 0.5448014736175537 s\n"
     ]
    },
    {
     "name": "stderr",
     "output_type": "stream",
     "text": [
      "Seed set to 42\n"
     ]
    },
    {
     "name": "stdout",
     "output_type": "stream",
     "text": [
      "export obj time 1.2961816787719727 s\n",
      "Time to save visualization from high lows to obj 1.8446152210235596 s\n",
      "Total Inference time 4.279552698135376\n",
      "Processing image 89: /home/ray/test_images/Retail_Leadership_Summit.jpg\n",
      "Extract Image 0.015659093856811523 s\n",
      "'DotDict' object has no attribute 'use_multiple_views_inferences'\n",
      "'DotDict' object has no attribute 'use_multiple_views_inferences'\n"
     ]
    },
    {
     "data": {
      "application/vnd.jupyter.widget-view+json": {
       "model_id": "12dd3da87cce46fd96187ed4abc903e8",
       "version_major": 2,
       "version_minor": 0
      },
      "text/plain": [
       "  0%|          | 0/5 [00:00<?, ?it/s]"
      ]
     },
     "metadata": {},
     "output_type": "display_data"
    },
    {
     "name": "stdout",
     "output_type": "stream",
     "text": [
      "Latent Diffusion Time 2.3516461849212646 s\n",
      "Latent Decoding Time 0.004405498504638672 s\n",
      "Wavelet Preparation Time 0.00016760826110839844 s\n",
      "Low to Highs conversion 0.056105852127075195 s\n",
      "Inverse DWT time elapsed 0.002971172332763672 s\n",
      "mcubes.marching_cubes time 0.5535845756530762 s\n"
     ]
    },
    {
     "name": "stderr",
     "output_type": "stream",
     "text": [
      "Seed set to 42\n"
     ]
    },
    {
     "name": "stdout",
     "output_type": "stream",
     "text": [
      "export obj time 3.512956142425537 s\n",
      "Time to save visualization from high lows to obj 4.070309162139893 s\n",
      "Total Inference time 6.5089802742004395\n",
      "Processing image 90: /home/ray/test_images/Retail_Leadership_Summit_eCT3zqHYIkX.jpg\n",
      "Extract Image 0.027948617935180664 s\n",
      "'DotDict' object has no attribute 'use_multiple_views_inferences'\n",
      "'DotDict' object has no attribute 'use_multiple_views_inferences'\n"
     ]
    },
    {
     "data": {
      "application/vnd.jupyter.widget-view+json": {
       "model_id": "bf6e5741a7dd44ca8feffbb9e16c1d03",
       "version_major": 2,
       "version_minor": 0
      },
      "text/plain": [
       "  0%|          | 0/5 [00:00<?, ?it/s]"
      ]
     },
     "metadata": {},
     "output_type": "display_data"
    },
    {
     "name": "stdout",
     "output_type": "stream",
     "text": [
      "Latent Diffusion Time 2.3562498092651367 s\n",
      "Latent Decoding Time 0.004426479339599609 s\n",
      "Wavelet Preparation Time 0.00014829635620117188 s\n",
      "Low to Highs conversion 0.05606865882873535 s\n",
      "Inverse DWT time elapsed 0.0030794143676757812 s\n",
      "mcubes.marching_cubes time 0.5556273460388184 s\n"
     ]
    },
    {
     "name": "stderr",
     "output_type": "stream",
     "text": [
      "Seed set to 42\n"
     ]
    },
    {
     "name": "stdout",
     "output_type": "stream",
     "text": [
      "export obj time 3.478200674057007 s\n",
      "Time to save visualization from high lows to obj 4.037600517272949 s\n",
      "Total Inference time 6.494131326675415\n",
      "Processing image 91: /home/ray/test_images/Rexy_Glove_Heavy_Duty_Gloves_Medium.jpg\n",
      "Extract Image 0.014206171035766602 s\n",
      "'DotDict' object has no attribute 'use_multiple_views_inferences'\n",
      "'DotDict' object has no attribute 'use_multiple_views_inferences'\n"
     ]
    },
    {
     "data": {
      "application/vnd.jupyter.widget-view+json": {
       "model_id": "0731a37a06e64768a542e439b0534c00",
       "version_major": 2,
       "version_minor": 0
      },
      "text/plain": [
       "  0%|          | 0/5 [00:00<?, ?it/s]"
      ]
     },
     "metadata": {},
     "output_type": "display_data"
    },
    {
     "name": "stdout",
     "output_type": "stream",
     "text": [
      "Latent Diffusion Time 2.3508052825927734 s\n",
      "Latent Decoding Time 0.004644632339477539 s\n",
      "Wavelet Preparation Time 0.0001773834228515625 s\n",
      "Low to Highs conversion 0.05555582046508789 s\n",
      "Inverse DWT time elapsed 0.002956867218017578 s\n",
      "mcubes.marching_cubes time 0.5480530261993408 s\n"
     ]
    },
    {
     "name": "stderr",
     "output_type": "stream",
     "text": [
      "Seed set to 42\n"
     ]
    },
    {
     "name": "stdout",
     "output_type": "stream",
     "text": [
      "export obj time 1.5674633979797363 s\n",
      "Time to save visualization from high lows to obj 2.11921763420105 s\n",
      "Total Inference time 4.553911924362183\n",
      "Processing image 92: /home/ray/test_images/Room_Essentials_Fabric_Cube_Lavender.jpg\n",
      "Extract Image 0.015232563018798828 s\n",
      "'DotDict' object has no attribute 'use_multiple_views_inferences'\n",
      "'DotDict' object has no attribute 'use_multiple_views_inferences'\n"
     ]
    },
    {
     "data": {
      "application/vnd.jupyter.widget-view+json": {
       "model_id": "44df3c1e9dc14a4cbb135e715fce935f",
       "version_major": 2,
       "version_minor": 0
      },
      "text/plain": [
       "  0%|          | 0/5 [00:00<?, ?it/s]"
      ]
     },
     "metadata": {},
     "output_type": "display_data"
    },
    {
     "name": "stdout",
     "output_type": "stream",
     "text": [
      "Latent Diffusion Time 2.3516786098480225 s\n",
      "Latent Decoding Time 0.004485130310058594 s\n",
      "Wavelet Preparation Time 0.00014448165893554688 s\n",
      "Low to Highs conversion 0.05622458457946777 s\n",
      "Inverse DWT time elapsed 0.0029489994049072266 s\n",
      "mcubes.marching_cubes time 0.5643761157989502 s\n"
     ]
    },
    {
     "name": "stderr",
     "output_type": "stream",
     "text": [
      "Seed set to 42\n"
     ]
    },
    {
     "name": "stdout",
     "output_type": "stream",
     "text": [
      "export obj time 5.732210874557495 s\n",
      "Time to save visualization from high lows to obj 6.300241708755493 s\n",
      "Total Inference time 8.738057374954224\n",
      "Processing image 93: /home/ray/test_images/Room_Essentials_Kitchen_Towels_16_x_26_2_count.jpg\n",
      "Extract Image 0.014275074005126953 s\n",
      "'DotDict' object has no attribute 'use_multiple_views_inferences'\n",
      "'DotDict' object has no attribute 'use_multiple_views_inferences'\n"
     ]
    },
    {
     "data": {
      "application/vnd.jupyter.widget-view+json": {
       "model_id": "5434d3631e28446f8803f9478140e3a7",
       "version_major": 2,
       "version_minor": 0
      },
      "text/plain": [
       "  0%|          | 0/5 [00:00<?, ?it/s]"
      ]
     },
     "metadata": {},
     "output_type": "display_data"
    },
    {
     "name": "stdout",
     "output_type": "stream",
     "text": [
      "Latent Diffusion Time 2.35443115234375 s\n",
      "Latent Decoding Time 0.004494190216064453 s\n",
      "Wavelet Preparation Time 0.00016355514526367188 s\n",
      "Low to Highs conversion 0.05572342872619629 s\n",
      "Inverse DWT time elapsed 0.0030014514923095703 s\n",
      "mcubes.marching_cubes time 0.5506713390350342 s\n"
     ]
    },
    {
     "name": "stderr",
     "output_type": "stream",
     "text": [
      "Seed set to 42\n"
     ]
    },
    {
     "name": "stdout",
     "output_type": "stream",
     "text": [
      "export obj time 3.1647119522094727 s\n",
      "Time to save visualization from high lows to obj 3.7190518379211426 s\n",
      "Total Inference time 6.158357858657837\n",
      "Processing image 94: /home/ray/test_images/Sea_to_Summit_Xl_Bowl.jpg\n",
      "Extract Image 0.015004634857177734 s\n",
      "'DotDict' object has no attribute 'use_multiple_views_inferences'\n",
      "'DotDict' object has no attribute 'use_multiple_views_inferences'\n"
     ]
    },
    {
     "data": {
      "application/vnd.jupyter.widget-view+json": {
       "model_id": "299afca42a5c4fc1a3fc710ca78357d3",
       "version_major": 2,
       "version_minor": 0
      },
      "text/plain": [
       "  0%|          | 0/5 [00:00<?, ?it/s]"
      ]
     },
     "metadata": {},
     "output_type": "display_data"
    },
    {
     "name": "stdout",
     "output_type": "stream",
     "text": [
      "Latent Diffusion Time 2.352541446685791 s\n",
      "Latent Decoding Time 0.0041887760162353516 s\n",
      "Wavelet Preparation Time 0.00015926361083984375 s\n",
      "Low to Highs conversion 0.05581545829772949 s\n",
      "Inverse DWT time elapsed 0.0029511451721191406 s\n",
      "mcubes.marching_cubes time 0.5538640022277832 s\n"
     ]
    },
    {
     "name": "stderr",
     "output_type": "stream",
     "text": [
      "Seed set to 42\n"
     ]
    },
    {
     "name": "stdout",
     "output_type": "stream",
     "text": [
      "export obj time 2.613443374633789 s\n",
      "Time to save visualization from high lows to obj 3.1709115505218506 s\n",
      "Total Inference time 5.607998609542847\n",
      "Processing image 95: /home/ray/test_images/Shurtape_Gaffers_Tape_Silver_2_x_60_yd.jpg\n",
      "Extract Image 0.022855758666992188 s\n",
      "'DotDict' object has no attribute 'use_multiple_views_inferences'\n",
      "'DotDict' object has no attribute 'use_multiple_views_inferences'\n"
     ]
    },
    {
     "data": {
      "application/vnd.jupyter.widget-view+json": {
       "model_id": "3c6e57c36f9f43869f29505538cefe2a",
       "version_major": 2,
       "version_minor": 0
      },
      "text/plain": [
       "  0%|          | 0/5 [00:00<?, ?it/s]"
      ]
     },
     "metadata": {},
     "output_type": "display_data"
    },
    {
     "name": "stdout",
     "output_type": "stream",
     "text": [
      "Latent Diffusion Time 2.3559017181396484 s\n",
      "Latent Decoding Time 0.004320383071899414 s\n",
      "Wavelet Preparation Time 0.00015354156494140625 s\n",
      "Low to Highs conversion 0.056313276290893555 s\n",
      "Inverse DWT time elapsed 0.0030646324157714844 s\n",
      "mcubes.marching_cubes time 0.5542199611663818 s\n"
     ]
    },
    {
     "name": "stderr",
     "output_type": "stream",
     "text": [
      "Seed set to 42\n"
     ]
    },
    {
     "name": "stdout",
     "output_type": "stream",
     "text": [
      "export obj time 2.5973711013793945 s\n",
      "Time to save visualization from high lows to obj 3.15531849861145 s\n",
      "Total Inference time 5.605801582336426\n",
      "Processing image 96: /home/ray/test_images/Threshold_Performance_Bath_Sheet_Sandoval_Blue_33_x_63.jpg\n",
      "Extract Image 0.015584230422973633 s\n",
      "'DotDict' object has no attribute 'use_multiple_views_inferences'\n",
      "'DotDict' object has no attribute 'use_multiple_views_inferences'\n"
     ]
    },
    {
     "data": {
      "application/vnd.jupyter.widget-view+json": {
       "model_id": "a364f4d603494a0fb48fe42c3a2c5227",
       "version_major": 2,
       "version_minor": 0
      },
      "text/plain": [
       "  0%|          | 0/5 [00:00<?, ?it/s]"
      ]
     },
     "metadata": {},
     "output_type": "display_data"
    },
    {
     "name": "stdout",
     "output_type": "stream",
     "text": [
      "Latent Diffusion Time 2.3626348972320557 s\n",
      "Latent Decoding Time 0.004195213317871094 s\n",
      "Wavelet Preparation Time 0.00019741058349609375 s\n",
      "Low to Highs conversion 0.05592083930969238 s\n",
      "Inverse DWT time elapsed 0.002923250198364258 s\n",
      "mcubes.marching_cubes time 0.5487189292907715 s\n"
     ]
    },
    {
     "name": "stderr",
     "output_type": "stream",
     "text": [
      "Seed set to 42\n"
     ]
    },
    {
     "name": "stdout",
     "output_type": "stream",
     "text": [
      "export obj time 1.6140377521514893 s\n",
      "Time to save visualization from high lows to obj 2.1662888526916504 s\n",
      "Total Inference time 4.614468097686768\n",
      "Processing image 97: /home/ray/test_images/Threshold_Porcelain_Serving_Bowl_Coupe_White.jpg\n",
      "Extract Image 0.014940977096557617 s\n",
      "'DotDict' object has no attribute 'use_multiple_views_inferences'\n",
      "'DotDict' object has no attribute 'use_multiple_views_inferences'\n"
     ]
    },
    {
     "data": {
      "application/vnd.jupyter.widget-view+json": {
       "model_id": "9b9dbb84d5f246d4a51efa9ba61e5e15",
       "version_major": 2,
       "version_minor": 0
      },
      "text/plain": [
       "  0%|          | 0/5 [00:00<?, ?it/s]"
      ]
     },
     "metadata": {},
     "output_type": "display_data"
    },
    {
     "name": "stdout",
     "output_type": "stream",
     "text": [
      "Latent Diffusion Time 2.3543732166290283 s\n",
      "Latent Decoding Time 0.004599332809448242 s\n",
      "Wavelet Preparation Time 0.0001621246337890625 s\n",
      "Low to Highs conversion 0.05619096755981445 s\n",
      "Inverse DWT time elapsed 0.0029764175415039062 s\n",
      "mcubes.marching_cubes time 0.5543539524078369 s\n"
     ]
    },
    {
     "name": "stderr",
     "output_type": "stream",
     "text": [
      "Seed set to 42\n"
     ]
    },
    {
     "name": "stdout",
     "output_type": "stream",
     "text": [
      "export obj time 2.8933873176574707 s\n",
      "Time to save visualization from high lows to obj 3.4513139724731445 s\n",
      "Total Inference time 5.891555070877075\n",
      "Processing image 98: /home/ray/test_images/Threshold_Porcelain_Spoon_Rest_White.jpg\n",
      "Extract Image 0.01512455940246582 s\n",
      "'DotDict' object has no attribute 'use_multiple_views_inferences'\n",
      "'DotDict' object has no attribute 'use_multiple_views_inferences'\n"
     ]
    },
    {
     "data": {
      "application/vnd.jupyter.widget-view+json": {
       "model_id": "5c7fd8b7070c4faaa2824ae7a13e7f23",
       "version_major": 2,
       "version_minor": 0
      },
      "text/plain": [
       "  0%|          | 0/5 [00:00<?, ?it/s]"
      ]
     },
     "metadata": {},
     "output_type": "display_data"
    },
    {
     "name": "stdout",
     "output_type": "stream",
     "text": [
      "Latent Diffusion Time 2.3548624515533447 s\n",
      "Latent Decoding Time 0.004247426986694336 s\n",
      "Wavelet Preparation Time 0.00016045570373535156 s\n",
      "Low to Highs conversion 0.055802345275878906 s\n",
      "Inverse DWT time elapsed 0.0030188560485839844 s\n",
      "mcubes.marching_cubes time 0.5478515625 s\n"
     ]
    },
    {
     "name": "stderr",
     "output_type": "stream",
     "text": [
      "Seed set to 42\n"
     ]
    },
    {
     "name": "stdout",
     "output_type": "stream",
     "text": [
      "export obj time 2.039032459259033 s\n",
      "Time to save visualization from high lows to obj 2.590514898300171 s\n",
      "Total Inference time 5.030604839324951\n",
      "Processing image 99: /home/ray/test_images/Top_Paw_Dog_Bowl_Blue_Paw_Bone_Ceramic_25_fl_oz_total.jpg\n",
      "Extract Image 0.014893054962158203 s\n",
      "'DotDict' object has no attribute 'use_multiple_views_inferences'\n",
      "'DotDict' object has no attribute 'use_multiple_views_inferences'\n"
     ]
    },
    {
     "data": {
      "application/vnd.jupyter.widget-view+json": {
       "model_id": "d26cee5184454bbab62688b0fbb852ee",
       "version_major": 2,
       "version_minor": 0
      },
      "text/plain": [
       "  0%|          | 0/5 [00:00<?, ?it/s]"
      ]
     },
     "metadata": {},
     "output_type": "display_data"
    },
    {
     "name": "stdout",
     "output_type": "stream",
     "text": [
      "Latent Diffusion Time 2.3595008850097656 s\n",
      "Latent Decoding Time 0.004556894302368164 s\n",
      "Wavelet Preparation Time 0.00015735626220703125 s\n",
      "Low to Highs conversion 0.05619335174560547 s\n",
      "Inverse DWT time elapsed 0.0029785633087158203 s\n",
      "mcubes.marching_cubes time 0.5612063407897949 s\n"
     ]
    },
    {
     "name": "stderr",
     "output_type": "stream",
     "text": [
      "Seed set to 42\n"
     ]
    },
    {
     "name": "stdout",
     "output_type": "stream",
     "text": [
      "export obj time 3.545494556427002 s\n",
      "Time to save visualization from high lows to obj 4.110375881195068 s\n",
      "Total Inference time 6.555855989456177\n",
      "Processing image 100: /home/ray/test_images/Vtech_Cruise_Learn_Car_25_Years.jpg\n",
      "Extract Image 0.01453089714050293 s\n",
      "'DotDict' object has no attribute 'use_multiple_views_inferences'\n",
      "'DotDict' object has no attribute 'use_multiple_views_inferences'\n"
     ]
    },
    {
     "data": {
      "application/vnd.jupyter.widget-view+json": {
       "model_id": "fafe5b1fc4d4484cb1a19d7a702572f7",
       "version_major": 2,
       "version_minor": 0
      },
      "text/plain": [
       "  0%|          | 0/5 [00:00<?, ?it/s]"
      ]
     },
     "metadata": {},
     "output_type": "display_data"
    },
    {
     "name": "stdout",
     "output_type": "stream",
     "text": [
      "Latent Diffusion Time 2.359668016433716 s\n",
      "Latent Decoding Time 0.00430750846862793 s\n",
      "Wavelet Preparation Time 0.0001690387725830078 s\n",
      "Low to Highs conversion 0.05612349510192871 s\n",
      "Inverse DWT time elapsed 0.002945423126220703 s\n",
      "mcubes.marching_cubes time 0.5514509677886963 s\n"
     ]
    },
    {
     "name": "stderr",
     "output_type": "stream",
     "text": [
      "Seed set to 42\n"
     ]
    },
    {
     "name": "stdout",
     "output_type": "stream",
     "text": [
      "export obj time 1.819770097732544 s\n",
      "Time to save visualization from high lows to obj 2.3755228519439697 s\n",
      "Total Inference time 4.820231676101685\n",
      "Processing image 101: /home/ray/test_images/Animal_Crossing_New_Leaf_Nintendo_3DS_Game.jpg\n",
      "Extract Image 0.024907588958740234 s\n",
      "'DotDict' object has no attribute 'use_multiple_views_inferences'\n",
      "'DotDict' object has no attribute 'use_multiple_views_inferences'\n"
     ]
    },
    {
     "data": {
      "application/vnd.jupyter.widget-view+json": {
       "model_id": "a71a6c7c9d4c472cb9b60637954cbbbb",
       "version_major": 2,
       "version_minor": 0
      },
      "text/plain": [
       "  0%|          | 0/5 [00:00<?, ?it/s]"
      ]
     },
     "metadata": {},
     "output_type": "display_data"
    },
    {
     "name": "stdout",
     "output_type": "stream",
     "text": [
      "Latent Diffusion Time 2.3582651615142822 s\n",
      "Latent Decoding Time 0.0050089359283447266 s\n",
      "Wavelet Preparation Time 0.00016927719116210938 s\n",
      "Low to Highs conversion 0.0559234619140625 s\n",
      "Inverse DWT time elapsed 0.0029418468475341797 s\n",
      "mcubes.marching_cubes time 0.547609806060791 s\n"
     ]
    },
    {
     "name": "stderr",
     "output_type": "stream",
     "text": [
      "Seed set to 42\n"
     ]
    },
    {
     "name": "stdout",
     "output_type": "stream",
     "text": [
      "export obj time 1.9680259227752686 s\n",
      "Time to save visualization from high lows to obj 2.519223690032959 s\n",
      "Total Inference time 4.974551200866699\n",
      "Processing image 102: /home/ray/test_images/BUNNY_RATTLE.jpg\n",
      "Extract Image 0.014878988265991211 s\n",
      "'DotDict' object has no attribute 'use_multiple_views_inferences'\n",
      "'DotDict' object has no attribute 'use_multiple_views_inferences'\n"
     ]
    },
    {
     "data": {
      "application/vnd.jupyter.widget-view+json": {
       "model_id": "29526563a9b648cbbfb9ea2983945304",
       "version_major": 2,
       "version_minor": 0
      },
      "text/plain": [
       "  0%|          | 0/5 [00:00<?, ?it/s]"
      ]
     },
     "metadata": {},
     "output_type": "display_data"
    },
    {
     "name": "stdout",
     "output_type": "stream",
     "text": [
      "Latent Diffusion Time 2.3594017028808594 s\n",
      "Latent Decoding Time 0.004364490509033203 s\n",
      "Wavelet Preparation Time 0.000148773193359375 s\n",
      "Low to Highs conversion 0.056046485900878906 s\n",
      "Inverse DWT time elapsed 0.0029976367950439453 s\n",
      "mcubes.marching_cubes time 0.5478434562683105 s\n"
     ]
    },
    {
     "name": "stderr",
     "output_type": "stream",
     "text": [
      "Seed set to 42\n"
     ]
    },
    {
     "name": "stdout",
     "output_type": "stream",
     "text": [
      "export obj time 1.9200546741485596 s\n",
      "Time to save visualization from high lows to obj 2.4717018604278564 s\n",
      "Total Inference time 4.915642261505127\n",
      "Processing image 103: /home/ray/test_images/Crayola_Crayons_24_count.jpg\n",
      "Extract Image 0.014680147171020508 s\n",
      "'DotDict' object has no attribute 'use_multiple_views_inferences'\n",
      "'DotDict' object has no attribute 'use_multiple_views_inferences'\n"
     ]
    },
    {
     "data": {
      "application/vnd.jupyter.widget-view+json": {
       "model_id": "6f4b5e2c8ea64b18a1d281f3d845c5a4",
       "version_major": 2,
       "version_minor": 0
      },
      "text/plain": [
       "  0%|          | 0/5 [00:00<?, ?it/s]"
      ]
     },
     "metadata": {},
     "output_type": "display_data"
    },
    {
     "name": "stdout",
     "output_type": "stream",
     "text": [
      "Latent Diffusion Time 2.3587074279785156 s\n",
      "Latent Decoding Time 0.00477290153503418 s\n",
      "Wavelet Preparation Time 0.00016069412231445312 s\n",
      "Low to Highs conversion 0.05578923225402832 s\n",
      "Inverse DWT time elapsed 0.002956390380859375 s\n",
      "mcubes.marching_cubes time 0.5582911968231201 s\n"
     ]
    },
    {
     "name": "stderr",
     "output_type": "stream",
     "text": [
      "Seed set to 42\n"
     ]
    },
    {
     "name": "stdout",
     "output_type": "stream",
     "text": [
      "export obj time 2.970149278640747 s\n",
      "Time to save visualization from high lows to obj 3.5321528911590576 s\n",
      "Total Inference time 5.976031541824341\n",
      "Processing image 104: /home/ray/test_images/Crayola_Model_Magic_Modeling_Material_White_3_oz.jpg\n",
      "Extract Image 0.01571202278137207 s\n",
      "'DotDict' object has no attribute 'use_multiple_views_inferences'\n",
      "'DotDict' object has no attribute 'use_multiple_views_inferences'\n"
     ]
    },
    {
     "data": {
      "application/vnd.jupyter.widget-view+json": {
       "model_id": "2cc72407424f4d52b005a58bc60a5789",
       "version_major": 2,
       "version_minor": 0
      },
      "text/plain": [
       "  0%|          | 0/5 [00:00<?, ?it/s]"
      ]
     },
     "metadata": {},
     "output_type": "display_data"
    },
    {
     "name": "stdout",
     "output_type": "stream",
     "text": [
      "Latent Diffusion Time 2.35392689704895 s\n",
      "Latent Decoding Time 0.004167795181274414 s\n",
      "Wavelet Preparation Time 0.0001456737518310547 s\n",
      "Low to Highs conversion 0.056029558181762695 s\n",
      "Inverse DWT time elapsed 0.0030443668365478516 s\n"
     ]
    },
    {
     "name": "stderr",
     "output_type": "stream",
     "text": [
      "Seed set to 42\n"
     ]
    },
    {
     "name": "stdout",
     "output_type": "stream",
     "text": [
      "mcubes.marching_cubes time 0.5412931442260742 s\n",
      "export obj time 0.10822629928588867 s\n",
      "Time to save visualization from high lows to obj 0.6529271602630615 s\n",
      "Total Inference time 3.093609094619751\n",
      "Processing image 105: /home/ray/test_images/Crayola_Washable_Sidewalk_Chalk_16_pack.jpg\n",
      "Extract Image 0.01402902603149414 s\n",
      "'DotDict' object has no attribute 'use_multiple_views_inferences'\n",
      "'DotDict' object has no attribute 'use_multiple_views_inferences'\n"
     ]
    },
    {
     "data": {
      "application/vnd.jupyter.widget-view+json": {
       "model_id": "65a07cdc6466496ca45ddc8559a8fd3b",
       "version_major": 2,
       "version_minor": 0
      },
      "text/plain": [
       "  0%|          | 0/5 [00:00<?, ?it/s]"
      ]
     },
     "metadata": {},
     "output_type": "display_data"
    },
    {
     "name": "stdout",
     "output_type": "stream",
     "text": [
      "Latent Diffusion Time 2.3531296253204346 s\n",
      "Latent Decoding Time 0.00442194938659668 s\n",
      "Wavelet Preparation Time 0.00014710426330566406 s\n",
      "Low to Highs conversion 0.055828094482421875 s\n",
      "Inverse DWT time elapsed 0.003111600875854492 s\n",
      "mcubes.marching_cubes time 0.5557742118835449 s\n"
     ]
    },
    {
     "name": "stderr",
     "output_type": "stream",
     "text": [
      "Seed set to 42\n"
     ]
    },
    {
     "name": "stdout",
     "output_type": "stream",
     "text": [
      "export obj time 3.3123996257781982 s\n",
      "Time to save visualization from high lows to obj 3.8719162940979004 s\n",
      "Total Inference time 6.309242010116577\n",
      "Processing image 106: /home/ray/test_images/D_ROSE_773_II_hvInJwJ5HUD.jpg\n",
      "Extract Image 0.015062332153320312 s\n",
      "'DotDict' object has no attribute 'use_multiple_views_inferences'\n",
      "'DotDict' object has no attribute 'use_multiple_views_inferences'\n"
     ]
    },
    {
     "data": {
      "application/vnd.jupyter.widget-view+json": {
       "model_id": "7a61d4dd5d5042d1b17e5da6ec3c2c12",
       "version_major": 2,
       "version_minor": 0
      },
      "text/plain": [
       "  0%|          | 0/5 [00:00<?, ?it/s]"
      ]
     },
     "metadata": {},
     "output_type": "display_data"
    },
    {
     "name": "stdout",
     "output_type": "stream",
     "text": [
      "Latent Diffusion Time 2.3533098697662354 s\n",
      "Latent Decoding Time 0.004184246063232422 s\n",
      "Wavelet Preparation Time 0.00013828277587890625 s\n",
      "Low to Highs conversion 0.05583548545837402 s\n",
      "Inverse DWT time elapsed 0.0029401779174804688 s\n",
      "mcubes.marching_cubes time 0.5530567169189453 s\n"
     ]
    },
    {
     "name": "stderr",
     "output_type": "stream",
     "text": [
      "Seed set to 42\n"
     ]
    },
    {
     "name": "stdout",
     "output_type": "stream",
     "text": [
      "export obj time 2.1661744117736816 s\n",
      "Time to save visualization from high lows to obj 2.7228379249572754 s\n",
      "Total Inference time 5.161123037338257\n",
      "Processing image 107: /home/ray/test_images/Fisher_price_Classic_Toys_Buzzy_Bee.jpg\n",
      "Extract Image 0.014301776885986328 s\n",
      "'DotDict' object has no attribute 'use_multiple_views_inferences'\n",
      "'DotDict' object has no attribute 'use_multiple_views_inferences'\n"
     ]
    },
    {
     "data": {
      "application/vnd.jupyter.widget-view+json": {
       "model_id": "ae5b5ab493f24429abb1097841efbe15",
       "version_major": 2,
       "version_minor": 0
      },
      "text/plain": [
       "  0%|          | 0/5 [00:00<?, ?it/s]"
      ]
     },
     "metadata": {},
     "output_type": "display_data"
    },
    {
     "name": "stdout",
     "output_type": "stream",
     "text": [
      "Latent Diffusion Time 2.364079475402832 s\n",
      "Latent Decoding Time 0.0040514469146728516 s\n",
      "Wavelet Preparation Time 0.00014543533325195312 s\n",
      "Low to Highs conversion 0.055826425552368164 s\n",
      "Inverse DWT time elapsed 0.0028417110443115234 s\n",
      "mcubes.marching_cubes time 0.5493042469024658 s\n"
     ]
    },
    {
     "name": "stderr",
     "output_type": "stream",
     "text": [
      "Seed set to 42\n"
     ]
    },
    {
     "name": "stdout",
     "output_type": "stream",
     "text": [
      "export obj time 1.2539167404174805 s\n",
      "Time to save visualization from high lows to obj 1.806671380996704 s\n",
      "Total Inference time 4.2548065185546875\n",
      "Processing image 108: /home/ray/test_images/Germanium_GE132.jpg\n",
      "Extract Image 0.014087438583374023 s\n",
      "'DotDict' object has no attribute 'use_multiple_views_inferences'\n",
      "'DotDict' object has no attribute 'use_multiple_views_inferences'\n"
     ]
    },
    {
     "data": {
      "application/vnd.jupyter.widget-view+json": {
       "model_id": "605ed09ee36c4362bd4e141fc46276a7",
       "version_major": 2,
       "version_minor": 0
      },
      "text/plain": [
       "  0%|          | 0/5 [00:00<?, ?it/s]"
      ]
     },
     "metadata": {},
     "output_type": "display_data"
    },
    {
     "name": "stdout",
     "output_type": "stream",
     "text": [
      "Latent Diffusion Time 2.3573975563049316 s\n",
      "Latent Decoding Time 0.0040738582611083984 s\n",
      "Wavelet Preparation Time 0.00013685226440429688 s\n",
      "Low to Highs conversion 0.0563967227935791 s\n",
      "Inverse DWT time elapsed 0.002965211868286133 s\n",
      "mcubes.marching_cubes time 0.5545058250427246 s\n"
     ]
    },
    {
     "name": "stderr",
     "output_type": "stream",
     "text": [
      "Seed set to 42\n"
     ]
    },
    {
     "name": "stdout",
     "output_type": "stream",
     "text": [
      "export obj time 3.139429807662964 s\n",
      "Time to save visualization from high lows to obj 3.697535753250122 s\n",
      "Total Inference time 6.138788223266602\n",
      "Processing image 109: /home/ray/test_images/GoPro_HERO3_Composite_Cable.jpg\n",
      "Extract Image 0.015607118606567383 s\n",
      "'DotDict' object has no attribute 'use_multiple_views_inferences'\n",
      "'DotDict' object has no attribute 'use_multiple_views_inferences'\n"
     ]
    },
    {
     "data": {
      "application/vnd.jupyter.widget-view+json": {
       "model_id": "1367028090334cb28edf8489b340c6a4",
       "version_major": 2,
       "version_minor": 0
      },
      "text/plain": [
       "  0%|          | 0/5 [00:00<?, ?it/s]"
      ]
     },
     "metadata": {},
     "output_type": "display_data"
    },
    {
     "name": "stdout",
     "output_type": "stream",
     "text": [
      "Latent Diffusion Time 2.358626365661621 s\n",
      "Latent Decoding Time 0.004431724548339844 s\n",
      "Wavelet Preparation Time 0.00016069412231445312 s\n",
      "Low to Highs conversion 0.05596566200256348 s\n",
      "Inverse DWT time elapsed 0.003660917282104492 s\n",
      "mcubes.marching_cubes time 0.5471453666687012 s\n"
     ]
    },
    {
     "name": "stderr",
     "output_type": "stream",
     "text": [
      "Seed set to 42\n"
     ]
    },
    {
     "name": "stdout",
     "output_type": "stream",
     "text": [
      "export obj time 0.4406774044036865 s\n",
      "Time to save visualization from high lows to obj 0.992206335067749 s\n",
      "Total Inference time 3.4363327026367188\n",
      "Processing image 110: /home/ray/test_images/Horses_in_Pink_Pencil_Case.jpg\n",
      "Extract Image 0.014832496643066406 s\n",
      "'DotDict' object has no attribute 'use_multiple_views_inferences'\n",
      "'DotDict' object has no attribute 'use_multiple_views_inferences'\n"
     ]
    },
    {
     "data": {
      "application/vnd.jupyter.widget-view+json": {
       "model_id": "be63b68cb0e34010825f80750da0047b",
       "version_major": 2,
       "version_minor": 0
      },
      "text/plain": [
       "  0%|          | 0/5 [00:00<?, ?it/s]"
      ]
     },
     "metadata": {},
     "output_type": "display_data"
    },
    {
     "name": "stdout",
     "output_type": "stream",
     "text": [
      "Latent Diffusion Time 2.354971170425415 s\n",
      "Latent Decoding Time 0.004316806793212891 s\n",
      "Wavelet Preparation Time 0.0001621246337890625 s\n",
      "Low to Highs conversion 0.055780649185180664 s\n",
      "Inverse DWT time elapsed 0.003111600875854492 s\n",
      "mcubes.marching_cubes time 0.5524282455444336 s\n"
     ]
    },
    {
     "name": "stderr",
     "output_type": "stream",
     "text": [
      "Seed set to 42\n"
     ]
    },
    {
     "name": "stdout",
     "output_type": "stream",
     "text": [
      "export obj time 2.0465071201324463 s\n",
      "Time to save visualization from high lows to obj 2.6028358936309814 s\n",
      "Total Inference time 5.0422446727752686\n",
      "Processing image 111: /home/ray/test_images/JBL_Charge_Speaker_portable_wireless_wired_Green.jpg\n",
      "Extract Image 0.015313148498535156 s\n",
      "'DotDict' object has no attribute 'use_multiple_views_inferences'\n",
      "'DotDict' object has no attribute 'use_multiple_views_inferences'\n"
     ]
    },
    {
     "data": {
      "application/vnd.jupyter.widget-view+json": {
       "model_id": "076ff1198ff346a2a80b6bc0e3d8ea37",
       "version_major": 2,
       "version_minor": 0
      },
      "text/plain": [
       "  0%|          | 0/5 [00:00<?, ?it/s]"
      ]
     },
     "metadata": {},
     "output_type": "display_data"
    },
    {
     "name": "stdout",
     "output_type": "stream",
     "text": [
      "Latent Diffusion Time 2.364623546600342 s\n",
      "Latent Decoding Time 0.004184246063232422 s\n",
      "Wavelet Preparation Time 0.0001461505889892578 s\n",
      "Low to Highs conversion 0.05600619316101074 s\n",
      "Inverse DWT time elapsed 0.0034482479095458984 s\n",
      "mcubes.marching_cubes time 0.5503590106964111 s\n"
     ]
    },
    {
     "name": "stderr",
     "output_type": "stream",
     "text": [
      "Seed set to 42\n"
     ]
    },
    {
     "name": "stdout",
     "output_type": "stream",
     "text": [
      "export obj time 2.22202730178833 s\n",
      "Time to save visualization from high lows to obj 2.7764835357666016 s\n",
      "Total Inference time 5.22657585144043\n",
      "Processing image 112: /home/ray/test_images/Jarrow_Glucosamine_Chondroitin_Combination_120_Caps.jpg\n",
      "Extract Image 0.014740705490112305 s\n",
      "'DotDict' object has no attribute 'use_multiple_views_inferences'\n",
      "'DotDict' object has no attribute 'use_multiple_views_inferences'\n"
     ]
    },
    {
     "data": {
      "application/vnd.jupyter.widget-view+json": {
       "model_id": "216075294eab47b19455a38aa61e83bd",
       "version_major": 2,
       "version_minor": 0
      },
      "text/plain": [
       "  0%|          | 0/5 [00:00<?, ?it/s]"
      ]
     },
     "metadata": {},
     "output_type": "display_data"
    },
    {
     "name": "stdout",
     "output_type": "stream",
     "text": [
      "Latent Diffusion Time 2.3587257862091064 s\n",
      "Latent Decoding Time 0.00453948974609375 s\n",
      "Wavelet Preparation Time 0.000156402587890625 s\n",
      "Low to Highs conversion 0.05589175224304199 s\n",
      "Inverse DWT time elapsed 0.002923727035522461 s\n",
      "mcubes.marching_cubes time 0.5550243854522705 s\n"
     ]
    },
    {
     "name": "stderr",
     "output_type": "stream",
     "text": [
      "Seed set to 42\n"
     ]
    },
    {
     "name": "stdout",
     "output_type": "stream",
     "text": [
      "export obj time 3.062451124191284 s\n",
      "Time to save visualization from high lows to obj 3.621058940887451 s\n",
      "Total Inference time 6.064594268798828\n",
      "Processing image 113: /home/ray/test_images/Lutein.jpg\n",
      "Extract Image 0.014740705490112305 s\n",
      "'DotDict' object has no attribute 'use_multiple_views_inferences'\n",
      "'DotDict' object has no attribute 'use_multiple_views_inferences'\n"
     ]
    },
    {
     "data": {
      "application/vnd.jupyter.widget-view+json": {
       "model_id": "e9fe60ddeb064b12b2a0da47aecee923",
       "version_major": 2,
       "version_minor": 0
      },
      "text/plain": [
       "  0%|          | 0/5 [00:00<?, ?it/s]"
      ]
     },
     "metadata": {},
     "output_type": "display_data"
    },
    {
     "name": "stdout",
     "output_type": "stream",
     "text": [
      "Latent Diffusion Time 2.3617701530456543 s\n",
      "Latent Decoding Time 0.004988908767700195 s\n",
      "Wavelet Preparation Time 0.0001614093780517578 s\n",
      "Low to Highs conversion 0.05581808090209961 s\n",
      "Inverse DWT time elapsed 0.0029337406158447266 s\n",
      "mcubes.marching_cubes time 0.5557169914245605 s\n"
     ]
    },
    {
     "name": "stderr",
     "output_type": "stream",
     "text": [
      "Seed set to 42\n"
     ]
    },
    {
     "name": "stdout",
     "output_type": "stream",
     "text": [
      "export obj time 3.122730016708374 s\n",
      "Time to save visualization from high lows to obj 3.6819956302642822 s\n",
      "Total Inference time 6.128716230392456\n",
      "Processing image 114: /home/ray/test_images/MARTIN_WEDGE_LACE_BOOT.jpg\n",
      "Extract Image 0.015332460403442383 s\n",
      "'DotDict' object has no attribute 'use_multiple_views_inferences'\n",
      "'DotDict' object has no attribute 'use_multiple_views_inferences'\n"
     ]
    },
    {
     "data": {
      "application/vnd.jupyter.widget-view+json": {
       "model_id": "f640bb3e756c4dde8c202e54014cd20d",
       "version_major": 2,
       "version_minor": 0
      },
      "text/plain": [
       "  0%|          | 0/5 [00:00<?, ?it/s]"
      ]
     },
     "metadata": {},
     "output_type": "display_data"
    },
    {
     "name": "stdout",
     "output_type": "stream",
     "text": [
      "Latent Diffusion Time 2.3476617336273193 s\n",
      "Latent Decoding Time 0.0048999786376953125 s\n",
      "Wavelet Preparation Time 0.000179290771484375 s\n",
      "Low to Highs conversion 0.056847333908081055 s\n",
      "Inverse DWT time elapsed 0.003658294677734375 s\n",
      "mcubes.marching_cubes time 0.5543320178985596 s\n"
     ]
    },
    {
     "name": "stderr",
     "output_type": "stream",
     "text": [
      "Seed set to 42\n"
     ]
    },
    {
     "name": "stdout",
     "output_type": "stream",
     "text": [
      "export obj time 2.4705464839935303 s\n",
      "Time to save visualization from high lows to obj 3.0292716026306152 s\n",
      "Total Inference time 5.463465929031372\n",
      "Processing image 115: /home/ray/test_images/MEAT_SET.jpg\n",
      "Extract Image 0.015091180801391602 s\n",
      "'DotDict' object has no attribute 'use_multiple_views_inferences'\n",
      "'DotDict' object has no attribute 'use_multiple_views_inferences'\n"
     ]
    },
    {
     "data": {
      "application/vnd.jupyter.widget-view+json": {
       "model_id": "a2f41b2658c240cea1615ff79ba8bb22",
       "version_major": 2,
       "version_minor": 0
      },
      "text/plain": [
       "  0%|          | 0/5 [00:00<?, ?it/s]"
      ]
     },
     "metadata": {},
     "output_type": "display_data"
    },
    {
     "name": "stdout",
     "output_type": "stream",
     "text": [
      "Latent Diffusion Time 2.349015712738037 s\n",
      "Latent Decoding Time 0.004121541976928711 s\n",
      "Wavelet Preparation Time 0.0001583099365234375 s\n",
      "Low to Highs conversion 0.05621051788330078 s\n",
      "Inverse DWT time elapsed 0.00299072265625 s\n",
      "mcubes.marching_cubes time 0.5447874069213867 s\n"
     ]
    },
    {
     "name": "stderr",
     "output_type": "stream",
     "text": [
      "Seed set to 42\n"
     ]
    },
    {
     "name": "stdout",
     "output_type": "stream",
     "text": [
      "export obj time 0.7791197299957275 s\n",
      "Time to save visualization from high lows to obj 1.3277363777160645 s\n",
      "Total Inference time 3.7617807388305664\n",
      "Processing image 116: /home/ray/test_images/MINI_ROLLER.jpg\n",
      "Extract Image 0.015046358108520508 s\n",
      "'DotDict' object has no attribute 'use_multiple_views_inferences'\n",
      "'DotDict' object has no attribute 'use_multiple_views_inferences'\n"
     ]
    },
    {
     "data": {
      "application/vnd.jupyter.widget-view+json": {
       "model_id": "33a57e98d31642228c87eab50c9be0f5",
       "version_major": 2,
       "version_minor": 0
      },
      "text/plain": [
       "  0%|          | 0/5 [00:00<?, ?it/s]"
      ]
     },
     "metadata": {},
     "output_type": "display_data"
    },
    {
     "name": "stdout",
     "output_type": "stream",
     "text": [
      "Latent Diffusion Time 2.3475282192230225 s\n",
      "Latent Decoding Time 0.004228115081787109 s\n",
      "Wavelet Preparation Time 0.00014162063598632812 s\n",
      "Low to Highs conversion 0.05595993995666504 s\n",
      "Inverse DWT time elapsed 0.002986431121826172 s\n",
      "mcubes.marching_cubes time 0.5517239570617676 s\n"
     ]
    },
    {
     "name": "stderr",
     "output_type": "stream",
     "text": [
      "\u001b[1;38;5;196mCOMET ERROR:\u001b[0m Failed to send metrics batch message, got 502 b'<html>\\r\\n<head><title>502 Bad Gateway</title></head>\\r\\n<body>\\r\\n<center><h1>502 Bad Gateway</h1></center>\\r\\n</body>\\r\\n</html>\\r\\n'\n",
      "Seed set to 42\n"
     ]
    },
    {
     "name": "stdout",
     "output_type": "stream",
     "text": [
      "export obj time 3.092703104019165 s\n",
      "Time to save visualization from high lows to obj 3.648043394088745 s\n",
      "Total Inference time 6.081178188323975\n",
      "Processing image 117: /home/ray/test_images/MIRACLE_POUNDING.jpg\n",
      "Extract Image 0.014984369277954102 s\n",
      "'DotDict' object has no attribute 'use_multiple_views_inferences'\n",
      "'DotDict' object has no attribute 'use_multiple_views_inferences'\n"
     ]
    },
    {
     "data": {
      "application/vnd.jupyter.widget-view+json": {
       "model_id": "301fbc3c1bda42198051c8346f337e29",
       "version_major": 2,
       "version_minor": 0
      },
      "text/plain": [
       "  0%|          | 0/5 [00:00<?, ?it/s]"
      ]
     },
     "metadata": {},
     "output_type": "display_data"
    },
    {
     "name": "stdout",
     "output_type": "stream",
     "text": [
      "Latent Diffusion Time 2.3485021591186523 s\n",
      "Latent Decoding Time 0.004046916961669922 s\n",
      "Wavelet Preparation Time 0.0001399517059326172 s\n",
      "Low to Highs conversion 0.05602097511291504 s\n",
      "Inverse DWT time elapsed 0.0029866695404052734 s\n",
      "mcubes.marching_cubes time 0.5529561042785645 s\n"
     ]
    },
    {
     "name": "stderr",
     "output_type": "stream",
     "text": [
      "Seed set to 42\n"
     ]
    },
    {
     "name": "stdout",
     "output_type": "stream",
     "text": [
      "export obj time 3.436190605163574 s\n",
      "Time to save visualization from high lows to obj 3.992743968963623 s\n",
      "Total Inference time 6.425737380981445\n",
      "Processing image 118: /home/ray/test_images/MODERN_DOLL_FAMILY.jpg\n",
      "Extract Image 0.014893293380737305 s\n",
      "'DotDict' object has no attribute 'use_multiple_views_inferences'\n",
      "'DotDict' object has no attribute 'use_multiple_views_inferences'\n"
     ]
    },
    {
     "data": {
      "application/vnd.jupyter.widget-view+json": {
       "model_id": "7363a4b5dc13462495cb886bbe2fa10f",
       "version_major": 2,
       "version_minor": 0
      },
      "text/plain": [
       "  0%|          | 0/5 [00:00<?, ?it/s]"
      ]
     },
     "metadata": {},
     "output_type": "display_data"
    },
    {
     "name": "stdout",
     "output_type": "stream",
     "text": [
      "Latent Diffusion Time 2.353160858154297 s\n",
      "Latent Decoding Time 0.004288673400878906 s\n",
      "Wavelet Preparation Time 0.00020575523376464844 s\n",
      "Low to Highs conversion 0.05613446235656738 s\n",
      "Inverse DWT time elapsed 0.002989053726196289 s\n",
      "mcubes.marching_cubes time 0.5578320026397705 s\n"
     ]
    },
    {
     "name": "stderr",
     "output_type": "stream",
     "text": [
      "Seed set to 42\n"
     ]
    },
    {
     "name": "stdout",
     "output_type": "stream",
     "text": [
      "export obj time 2.930910587310791 s\n",
      "Time to save visualization from high lows to obj 3.4924111366271973 s\n",
      "Total Inference time 5.930135726928711\n",
      "Processing image 119: /home/ray/test_images/Mad_Gab_Refresh_Card_Game.jpg\n",
      "Extract Image 0.026296377182006836 s\n",
      "'DotDict' object has no attribute 'use_multiple_views_inferences'\n",
      "'DotDict' object has no attribute 'use_multiple_views_inferences'\n"
     ]
    },
    {
     "data": {
      "application/vnd.jupyter.widget-view+json": {
       "model_id": "0575de11957841fa917e8a2e2c695d67",
       "version_major": 2,
       "version_minor": 0
      },
      "text/plain": [
       "  0%|          | 0/5 [00:00<?, ?it/s]"
      ]
     },
     "metadata": {},
     "output_type": "display_data"
    },
    {
     "name": "stdout",
     "output_type": "stream",
     "text": [
      "Latent Diffusion Time 2.3530843257904053 s\n",
      "Latent Decoding Time 0.004095554351806641 s\n",
      "Wavelet Preparation Time 0.0001430511474609375 s\n",
      "Low to Highs conversion 0.05599045753479004 s\n",
      "Inverse DWT time elapsed 0.002939462661743164 s\n",
      "mcubes.marching_cubes time 0.5558733940124512 s\n"
     ]
    },
    {
     "name": "stderr",
     "output_type": "stream",
     "text": [
      "Seed set to 42\n"
     ]
    },
    {
     "name": "stdout",
     "output_type": "stream",
     "text": [
      "export obj time 3.8499417304992676 s\n",
      "Time to save visualization from high lows to obj 4.409365892410278 s\n",
      "Total Inference time 6.862149000167847\n",
      "Processing image 120: /home/ray/test_images/Mario_Luigi_Dream_Team_Nintendo_3DS_Game.jpg\n",
      "Extract Image 0.014719009399414062 s\n",
      "'DotDict' object has no attribute 'use_multiple_views_inferences'\n",
      "'DotDict' object has no attribute 'use_multiple_views_inferences'\n"
     ]
    },
    {
     "data": {
      "application/vnd.jupyter.widget-view+json": {
       "model_id": "76d9c8497416448abfb59735eac95305",
       "version_major": 2,
       "version_minor": 0
      },
      "text/plain": [
       "  0%|          | 0/5 [00:00<?, ?it/s]"
      ]
     },
     "metadata": {},
     "output_type": "display_data"
    },
    {
     "name": "stdout",
     "output_type": "stream",
     "text": [
      "Latent Diffusion Time 2.3492202758789062 s\n",
      "Latent Decoding Time 0.004101276397705078 s\n",
      "Wavelet Preparation Time 0.00015044212341308594 s\n",
      "Low to Highs conversion 0.05609750747680664 s\n",
      "Inverse DWT time elapsed 0.0029668807983398438 s\n",
      "mcubes.marching_cubes time 0.5544981956481934 s\n"
     ]
    },
    {
     "name": "stderr",
     "output_type": "stream",
     "text": [
      "Seed set to 42\n"
     ]
    },
    {
     "name": "stdout",
     "output_type": "stream",
     "text": [
      "export obj time 1.9952962398529053 s\n",
      "Time to save visualization from high lows to obj 2.5534613132476807 s\n",
      "Total Inference time 4.987764120101929\n",
      "Processing image 121: /home/ray/test_images/Marvel_Avengers_Titan_Hero_Series_Doctor_Doom.jpg\n",
      "Extract Image 0.01534271240234375 s\n",
      "'DotDict' object has no attribute 'use_multiple_views_inferences'\n",
      "'DotDict' object has no attribute 'use_multiple_views_inferences'\n"
     ]
    },
    {
     "data": {
      "application/vnd.jupyter.widget-view+json": {
       "model_id": "3bda39e9e8704c35aa56607f1f1b68b0",
       "version_major": 2,
       "version_minor": 0
      },
      "text/plain": [
       "  0%|          | 0/5 [00:00<?, ?it/s]"
      ]
     },
     "metadata": {},
     "output_type": "display_data"
    },
    {
     "name": "stderr",
     "output_type": "stream",
     "text": [
      "\u001b[1;38;5;196mCOMET ERROR:\u001b[0m Failed to send stdout/stderr message batch, got 502 b'<html>\\r\\n<head><title>502 Bad Gateway</title></head>\\r\\n<body>\\r\\n<center><h1>502 Bad Gateway</h1></center>\\r\\n</body>\\r\\n</html>\\r\\n'\n"
     ]
    },
    {
     "name": "stdout",
     "output_type": "stream",
     "text": [
      "Latent Diffusion Time 2.3491804599761963 s\n",
      "Latent Decoding Time 0.004703044891357422 s\n",
      "Wavelet Preparation Time 0.00017523765563964844 s\n",
      "Low to Highs conversion 0.056185007095336914 s\n",
      "Inverse DWT time elapsed 0.003023862838745117 s\n",
      "mcubes.marching_cubes time 0.5504803657531738 s\n"
     ]
    },
    {
     "name": "stderr",
     "output_type": "stream",
     "text": [
      "Seed set to 42\n"
     ]
    },
    {
     "name": "stdout",
     "output_type": "stream",
     "text": [
      "export obj time 1.2787649631500244 s\n",
      "Time to save visualization from high lows to obj 1.8329362869262695 s\n",
      "Total Inference time 4.268561840057373\n",
      "Processing image 122: /home/ray/test_images/Melissa_Doug_Felt_Food_Pizza_Set.jpg\n",
      "Extract Image 0.015178442001342773 s\n",
      "'DotDict' object has no attribute 'use_multiple_views_inferences'\n",
      "'DotDict' object has no attribute 'use_multiple_views_inferences'\n"
     ]
    },
    {
     "data": {
      "application/vnd.jupyter.widget-view+json": {
       "model_id": "164c7370b4564151b2f6aa78dc48597f",
       "version_major": 2,
       "version_minor": 0
      },
      "text/plain": [
       "  0%|          | 0/5 [00:00<?, ?it/s]"
      ]
     },
     "metadata": {},
     "output_type": "display_data"
    },
    {
     "name": "stdout",
     "output_type": "stream",
     "text": [
      "Latent Diffusion Time 2.350160598754883 s\n",
      "Latent Decoding Time 0.0042269229888916016 s\n",
      "Wavelet Preparation Time 0.00014448165893554688 s\n",
      "Low to Highs conversion 0.05570363998413086 s\n",
      "Inverse DWT time elapsed 0.0027937889099121094 s\n",
      "mcubes.marching_cubes time 0.5509514808654785 s\n"
     ]
    },
    {
     "name": "stderr",
     "output_type": "stream",
     "text": [
      "Seed set to 42\n"
     ]
    },
    {
     "name": "stdout",
     "output_type": "stream",
     "text": [
      "export obj time 2.3435912132263184 s\n",
      "Time to save visualization from high lows to obj 2.8980391025543213 s\n",
      "Total Inference time 5.3334572315216064\n",
      "Processing image 123: /home/ray/test_images/Melissa_Doug_Pound_and_Roll.jpg\n",
      "Extract Image 0.0142059326171875 s\n",
      "'DotDict' object has no attribute 'use_multiple_views_inferences'\n",
      "'DotDict' object has no attribute 'use_multiple_views_inferences'\n"
     ]
    },
    {
     "data": {
      "application/vnd.jupyter.widget-view+json": {
       "model_id": "a19e92adbc8647d5a36b5c86823a3267",
       "version_major": 2,
       "version_minor": 0
      },
      "text/plain": [
       "  0%|          | 0/5 [00:00<?, ?it/s]"
      ]
     },
     "metadata": {},
     "output_type": "display_data"
    },
    {
     "name": "stdout",
     "output_type": "stream",
     "text": [
      "Latent Diffusion Time 2.3496692180633545 s\n",
      "Latent Decoding Time 0.004298686981201172 s\n",
      "Wavelet Preparation Time 0.00014710426330566406 s\n",
      "Low to Highs conversion 0.05584096908569336 s\n",
      "Inverse DWT time elapsed 0.002714872360229492 s\n",
      "mcubes.marching_cubes time 0.5595247745513916 s\n"
     ]
    },
    {
     "name": "stderr",
     "output_type": "stream",
     "text": [
      "Seed set to 42\n"
     ]
    },
    {
     "name": "stdout",
     "output_type": "stream",
     "text": [
      "export obj time 5.338820219039917 s\n",
      "Time to save visualization from high lows to obj 5.901708364486694 s\n",
      "Total Inference time 8.335203170776367\n",
      "Processing image 124: /home/ray/test_images/Mens_Billfish_Slip_On_in_Coffee_e8bPKE9Lfgo.jpg\n",
      "Extract Image 0.014828205108642578 s\n",
      "'DotDict' object has no attribute 'use_multiple_views_inferences'\n",
      "'DotDict' object has no attribute 'use_multiple_views_inferences'\n"
     ]
    },
    {
     "data": {
      "application/vnd.jupyter.widget-view+json": {
       "model_id": "5fb670e20c8c4e8f9f9f56851def294d",
       "version_major": 2,
       "version_minor": 0
      },
      "text/plain": [
       "  0%|          | 0/5 [00:00<?, ?it/s]"
      ]
     },
     "metadata": {},
     "output_type": "display_data"
    },
    {
     "name": "stdout",
     "output_type": "stream",
     "text": [
      "Latent Diffusion Time 2.3479809761047363 s\n",
      "Latent Decoding Time 0.0046100616455078125 s\n",
      "Wavelet Preparation Time 0.0001506805419921875 s\n",
      "Low to Highs conversion 0.05577564239501953 s\n",
      "Inverse DWT time elapsed 0.0030333995819091797 s\n",
      "mcubes.marching_cubes time 0.5541331768035889 s\n"
     ]
    },
    {
     "name": "stderr",
     "output_type": "stream",
     "text": [
      "Seed set to 42\n"
     ]
    },
    {
     "name": "stdout",
     "output_type": "stream",
     "text": [
      "export obj time 2.742154121398926 s\n",
      "Time to save visualization from high lows to obj 3.2999682426452637 s\n",
      "Total Inference time 5.732614278793335\n",
      "Processing image 125: /home/ray/test_images/Mens_Tremont_Kiltie_Tassel_Loafer_in_Black_Amaretto.jpg\n",
      "Extract Image 0.015021085739135742 s\n",
      "'DotDict' object has no attribute 'use_multiple_views_inferences'\n",
      "'DotDict' object has no attribute 'use_multiple_views_inferences'\n"
     ]
    },
    {
     "data": {
      "application/vnd.jupyter.widget-view+json": {
       "model_id": "ffdac16f58374dad9f5cf672e61c7e6a",
       "version_major": 2,
       "version_minor": 0
      },
      "text/plain": [
       "  0%|          | 0/5 [00:00<?, ?it/s]"
      ]
     },
     "metadata": {},
     "output_type": "display_data"
    },
    {
     "name": "stdout",
     "output_type": "stream",
     "text": [
      "Latent Diffusion Time 2.3503987789154053 s\n",
      "Latent Decoding Time 0.0048139095306396484 s\n",
      "Wavelet Preparation Time 0.00017547607421875 s\n",
      "Low to Highs conversion 0.05559206008911133 s\n",
      "Inverse DWT time elapsed 0.003009796142578125 s\n",
      "mcubes.marching_cubes time 0.549790620803833 s\n"
     ]
    },
    {
     "name": "stderr",
     "output_type": "stream",
     "text": [
      "Seed set to 42\n"
     ]
    },
    {
     "name": "stdout",
     "output_type": "stream",
     "text": [
      "export obj time 2.3937981128692627 s\n",
      "Time to save visualization from high lows to obj 2.947298049926758 s\n",
      "Total Inference time 5.383238077163696\n",
      "Processing image 126: /home/ray/test_images/Mens_Tremont_Kiltie_Tassel_Loafer_in_Black_Amaretto_rCdzRZqgCnI.jpg\n",
      "Extract Image 0.01508474349975586 s\n",
      "'DotDict' object has no attribute 'use_multiple_views_inferences'\n",
      "'DotDict' object has no attribute 'use_multiple_views_inferences'\n"
     ]
    },
    {
     "data": {
      "application/vnd.jupyter.widget-view+json": {
       "model_id": "1360445e3af945b0a0913f27520e959c",
       "version_major": 2,
       "version_minor": 0
      },
      "text/plain": [
       "  0%|          | 0/5 [00:00<?, ?it/s]"
      ]
     },
     "metadata": {},
     "output_type": "display_data"
    },
    {
     "name": "stdout",
     "output_type": "stream",
     "text": [
      "Latent Diffusion Time 2.3511247634887695 s\n",
      "Latent Decoding Time 0.0046422481536865234 s\n",
      "Wavelet Preparation Time 0.0001499652862548828 s\n",
      "Low to Highs conversion 0.05567026138305664 s\n",
      "Inverse DWT time elapsed 0.0027980804443359375 s\n",
      "mcubes.marching_cubes time 0.5538730621337891 s\n"
     ]
    },
    {
     "name": "stderr",
     "output_type": "stream",
     "text": [
      "Seed set to 42\n"
     ]
    },
    {
     "name": "stdout",
     "output_type": "stream",
     "text": [
      "export obj time 2.360692262649536 s\n",
      "Time to save visualization from high lows to obj 2.9180479049682617 s\n",
      "Total Inference time 5.354443788528442\n",
      "Processing image 127: /home/ray/test_images/Mist_Wipe_Warmer.jpg\n",
      "Extract Image 0.014856100082397461 s\n",
      "'DotDict' object has no attribute 'use_multiple_views_inferences'\n",
      "'DotDict' object has no attribute 'use_multiple_views_inferences'\n"
     ]
    },
    {
     "data": {
      "application/vnd.jupyter.widget-view+json": {
       "model_id": "bf563332701240de8c7e837809c2924c",
       "version_major": 2,
       "version_minor": 0
      },
      "text/plain": [
       "  0%|          | 0/5 [00:00<?, ?it/s]"
      ]
     },
     "metadata": {},
     "output_type": "display_data"
    },
    {
     "name": "stdout",
     "output_type": "stream",
     "text": [
      "Latent Diffusion Time 2.353627920150757 s\n",
      "Latent Decoding Time 0.00432133674621582 s\n",
      "Wavelet Preparation Time 0.0001544952392578125 s\n",
      "Low to Highs conversion 0.0563054084777832 s\n",
      "Inverse DWT time elapsed 0.0037250518798828125 s\n",
      "mcubes.marching_cubes time 0.5542786121368408 s\n"
     ]
    },
    {
     "name": "stderr",
     "output_type": "stream",
     "text": [
      "Seed set to 42\n"
     ]
    },
    {
     "name": "stdout",
     "output_type": "stream",
     "text": [
      "export obj time 3.7326793670654297 s\n",
      "Time to save visualization from high lows to obj 4.291396141052246 s\n",
      "Total Inference time 6.731139659881592\n",
      "Processing image 128: /home/ray/test_images/My_First_Rolling_Lion.jpg\n",
      "Extract Image 0.01481008529663086 s\n",
      "'DotDict' object has no attribute 'use_multiple_views_inferences'\n",
      "'DotDict' object has no attribute 'use_multiple_views_inferences'\n"
     ]
    },
    {
     "data": {
      "application/vnd.jupyter.widget-view+json": {
       "model_id": "ed1c891a028d4c09a7d237dc9294c117",
       "version_major": 2,
       "version_minor": 0
      },
      "text/plain": [
       "  0%|          | 0/5 [00:00<?, ?it/s]"
      ]
     },
     "metadata": {},
     "output_type": "display_data"
    },
    {
     "name": "stdout",
     "output_type": "stream",
     "text": [
      "Latent Diffusion Time 2.3484208583831787 s\n",
      "Latent Decoding Time 0.0046460628509521484 s\n",
      "Wavelet Preparation Time 0.0001780986785888672 s\n",
      "Low to Highs conversion 0.056199073791503906 s\n",
      "Inverse DWT time elapsed 0.003008604049682617 s\n",
      "mcubes.marching_cubes time 0.558478832244873 s\n"
     ]
    },
    {
     "name": "stderr",
     "output_type": "stream",
     "text": [
      "Seed set to 42\n"
     ]
    },
    {
     "name": "stdout",
     "output_type": "stream",
     "text": [
      "export obj time 2.5171637535095215 s\n",
      "Time to save visualization from high lows to obj 3.0794856548309326 s\n",
      "Total Inference time 5.513582468032837\n",
      "Processing image 129: /home/ray/test_images/Nescafe_Tasters_Choice_Instant_Coffee_Decaf_House_Blend_Light_7_oz.jpg\n",
      "Extract Image 0.014854907989501953 s\n",
      "'DotDict' object has no attribute 'use_multiple_views_inferences'\n",
      "'DotDict' object has no attribute 'use_multiple_views_inferences'\n"
     ]
    },
    {
     "data": {
      "application/vnd.jupyter.widget-view+json": {
       "model_id": "ff73803bc0ac44bf9067b7473c25857c",
       "version_major": 2,
       "version_minor": 0
      },
      "text/plain": [
       "  0%|          | 0/5 [00:00<?, ?it/s]"
      ]
     },
     "metadata": {},
     "output_type": "display_data"
    },
    {
     "name": "stdout",
     "output_type": "stream",
     "text": [
      "Latent Diffusion Time 2.34993052482605 s\n",
      "Latent Decoding Time 0.004539966583251953 s\n",
      "Wavelet Preparation Time 0.00016355514526367188 s\n",
      "Low to Highs conversion 0.05602121353149414 s\n",
      "Inverse DWT time elapsed 0.003022909164428711 s\n",
      "mcubes.marching_cubes time 0.5531866550445557 s\n"
     ]
    },
    {
     "name": "stderr",
     "output_type": "stream",
     "text": [
      "Seed set to 42\n"
     ]
    },
    {
     "name": "stdout",
     "output_type": "stream",
     "text": [
      "export obj time 3.1597275733947754 s\n",
      "Time to save visualization from high lows to obj 3.716743230819702 s\n",
      "Total Inference time 6.152801275253296\n",
      "Processing image 130: /home/ray/test_images/Nestle_Pure_Life_Exotics_Sparkling_Water_Strawberry_Dragon_Fruit_8_count_12_fl_oz_can.jpg\n",
      "Extract Image 0.023484230041503906 s\n",
      "'DotDict' object has no attribute 'use_multiple_views_inferences'\n",
      "'DotDict' object has no attribute 'use_multiple_views_inferences'\n"
     ]
    },
    {
     "data": {
      "application/vnd.jupyter.widget-view+json": {
       "model_id": "1403efe178d04d968b30452d8a463b43",
       "version_major": 2,
       "version_minor": 0
      },
      "text/plain": [
       "  0%|          | 0/5 [00:00<?, ?it/s]"
      ]
     },
     "metadata": {},
     "output_type": "display_data"
    },
    {
     "name": "stdout",
     "output_type": "stream",
     "text": [
      "Latent Diffusion Time 2.3549721240997314 s\n",
      "Latent Decoding Time 0.0045320987701416016 s\n",
      "Wavelet Preparation Time 0.00016450881958007812 s\n",
      "Low to Highs conversion 0.05559897422790527 s\n",
      "Inverse DWT time elapsed 0.003046274185180664 s\n",
      "mcubes.marching_cubes time 0.5529067516326904 s\n"
     ]
    },
    {
     "name": "stderr",
     "output_type": "stream",
     "text": [
      "Seed set to 42\n"
     ]
    },
    {
     "name": "stdout",
     "output_type": "stream",
     "text": [
      "export obj time 2.7005021572113037 s\n",
      "Time to save visualization from high lows to obj 3.257105827331543 s\n",
      "Total Inference time 5.709622859954834\n",
      "Processing image 131: /home/ray/test_images/Nickelodeon_Teenage_Mutant_Ninja_Turtles_Michelangelo.jpg\n",
      "Extract Image 0.01444697380065918 s\n",
      "'DotDict' object has no attribute 'use_multiple_views_inferences'\n",
      "'DotDict' object has no attribute 'use_multiple_views_inferences'\n"
     ]
    },
    {
     "data": {
      "application/vnd.jupyter.widget-view+json": {
       "model_id": "ae35711aa9d74a80a9bb7467f8b3a07f",
       "version_major": 2,
       "version_minor": 0
      },
      "text/plain": [
       "  0%|          | 0/5 [00:00<?, ?it/s]"
      ]
     },
     "metadata": {},
     "output_type": "display_data"
    },
    {
     "name": "stdout",
     "output_type": "stream",
     "text": [
      "Latent Diffusion Time 2.349153757095337 s\n",
      "Latent Decoding Time 0.0044765472412109375 s\n",
      "Wavelet Preparation Time 0.00018358230590820312 s\n",
      "Low to Highs conversion 0.056122779846191406 s\n",
      "Inverse DWT time elapsed 0.003154754638671875 s\n",
      "mcubes.marching_cubes time 0.5547127723693848 s\n"
     ]
    },
    {
     "name": "stderr",
     "output_type": "stream",
     "text": [
      "Seed set to 42\n"
     ]
    },
    {
     "name": "stdout",
     "output_type": "stream",
     "text": [
      "export obj time 1.7389936447143555 s\n",
      "Time to save visualization from high lows to obj 2.2975881099700928 s\n",
      "Total Inference time 4.731807708740234\n",
      "Processing image 132: /home/ray/test_images/Office_Depot_Canon_CLI_8Y_Ink_Cartridge_Yellow_0623B002.jpg\n",
      "Extract Image 0.015140295028686523 s\n",
      "'DotDict' object has no attribute 'use_multiple_views_inferences'\n",
      "'DotDict' object has no attribute 'use_multiple_views_inferences'\n"
     ]
    },
    {
     "data": {
      "application/vnd.jupyter.widget-view+json": {
       "model_id": "412b6709ec634d628dec99e6f61c9817",
       "version_major": 2,
       "version_minor": 0
      },
      "text/plain": [
       "  0%|          | 0/5 [00:00<?, ?it/s]"
      ]
     },
     "metadata": {},
     "output_type": "display_data"
    },
    {
     "name": "stdout",
     "output_type": "stream",
     "text": [
      "Latent Diffusion Time 2.348405361175537 s\n",
      "Latent Decoding Time 0.004487752914428711 s\n",
      "Wavelet Preparation Time 0.00015544891357421875 s\n",
      "Low to Highs conversion 0.05638575553894043 s\n",
      "Inverse DWT time elapsed 0.002979278564453125 s\n",
      "mcubes.marching_cubes time 0.5538394451141357 s\n"
     ]
    },
    {
     "name": "stderr",
     "output_type": "stream",
     "text": [
      "Seed set to 42\n"
     ]
    },
    {
     "name": "stdout",
     "output_type": "stream",
     "text": [
      "export obj time 3.4636285305023193 s\n",
      "Time to save visualization from high lows to obj 4.021100282669067 s\n",
      "Total Inference time 6.455758810043335\n",
      "Processing image 133: /home/ray/test_images/Office_Depot_Canon_CL_41_Remanufactured_Ink_Cartridge_TriColor.jpg\n",
      "Extract Image 0.015176057815551758 s\n",
      "'DotDict' object has no attribute 'use_multiple_views_inferences'\n",
      "'DotDict' object has no attribute 'use_multiple_views_inferences'\n"
     ]
    },
    {
     "data": {
      "application/vnd.jupyter.widget-view+json": {
       "model_id": "533aa1d949cf44ae9386bdc8f417f15a",
       "version_major": 2,
       "version_minor": 0
      },
      "text/plain": [
       "  0%|          | 0/5 [00:00<?, ?it/s]"
      ]
     },
     "metadata": {},
     "output_type": "display_data"
    },
    {
     "name": "stdout",
     "output_type": "stream",
     "text": [
      "Latent Diffusion Time 2.3486688137054443 s\n",
      "Latent Decoding Time 0.004528045654296875 s\n",
      "Wavelet Preparation Time 0.0001571178436279297 s\n",
      "Low to Highs conversion 0.055751800537109375 s\n",
      "Inverse DWT time elapsed 0.0030820369720458984 s\n",
      "mcubes.marching_cubes time 0.5544137954711914 s\n"
     ]
    },
    {
     "name": "stderr",
     "output_type": "stream",
     "text": [
      "Seed set to 42\n"
     ]
    },
    {
     "name": "stdout",
     "output_type": "stream",
     "text": [
      "export obj time 3.4743130207061768 s\n",
      "Time to save visualization from high lows to obj 4.0324835777282715 s\n",
      "Total Inference time 6.466175556182861\n",
      "Processing image 134: /home/ray/test_images/Office_Depot_HP_71_Remanufactured_Ink_Cartridge_Black.jpg\n",
      "Extract Image 0.014868736267089844 s\n",
      "'DotDict' object has no attribute 'use_multiple_views_inferences'\n",
      "'DotDict' object has no attribute 'use_multiple_views_inferences'\n"
     ]
    },
    {
     "data": {
      "application/vnd.jupyter.widget-view+json": {
       "model_id": "dd886087c86a492c819fa737134c9486",
       "version_major": 2,
       "version_minor": 0
      },
      "text/plain": [
       "  0%|          | 0/5 [00:00<?, ?it/s]"
      ]
     },
     "metadata": {},
     "output_type": "display_data"
    },
    {
     "name": "stdout",
     "output_type": "stream",
     "text": [
      "Latent Diffusion Time 2.348229169845581 s\n",
      "Latent Decoding Time 0.004427909851074219 s\n",
      "Wavelet Preparation Time 0.00016808509826660156 s\n",
      "Low to Highs conversion 0.055814504623413086 s\n",
      "Inverse DWT time elapsed 0.002950906753540039 s\n",
      "mcubes.marching_cubes time 0.5540659427642822 s\n"
     ]
    },
    {
     "name": "stderr",
     "output_type": "stream",
     "text": [
      "Seed set to 42\n"
     ]
    },
    {
     "name": "stdout",
     "output_type": "stream",
     "text": [
      "export obj time 3.4870941638946533 s\n",
      "Time to save visualization from high lows to obj 4.044750690460205 s\n",
      "Total Inference time 6.478115081787109\n",
      "Processing image 135: /home/ray/test_images/Office_Depot_HP_74XL75_Remanufactured_Ink_Cartridges_BlackTriColor_2_count.jpg\n",
      "Extract Image 0.014998912811279297 s\n",
      "'DotDict' object has no attribute 'use_multiple_views_inferences'\n",
      "'DotDict' object has no attribute 'use_multiple_views_inferences'\n"
     ]
    },
    {
     "data": {
      "application/vnd.jupyter.widget-view+json": {
       "model_id": "dc7a0fcc09434e8aa09da06e5430171d",
       "version_major": 2,
       "version_minor": 0
      },
      "text/plain": [
       "  0%|          | 0/5 [00:00<?, ?it/s]"
      ]
     },
     "metadata": {},
     "output_type": "display_data"
    },
    {
     "name": "stdout",
     "output_type": "stream",
     "text": [
      "Latent Diffusion Time 2.3490867614746094 s\n",
      "Latent Decoding Time 0.00429224967956543 s\n",
      "Wavelet Preparation Time 0.00015664100646972656 s\n",
      "Low to Highs conversion 0.05630183219909668 s\n",
      "Inverse DWT time elapsed 0.0029768943786621094 s\n",
      "mcubes.marching_cubes time 0.5553200244903564 s\n"
     ]
    },
    {
     "name": "stderr",
     "output_type": "stream",
     "text": [
      "Seed set to 42\n"
     ]
    },
    {
     "name": "stdout",
     "output_type": "stream",
     "text": [
      "export obj time 3.580695867538452 s\n",
      "Time to save visualization from high lows to obj 4.139495611190796 s\n",
      "Total Inference time 6.573898792266846\n",
      "Processing image 136: /home/ray/test_images/Olive_Kids_Birdie_Lunch_Box.jpg\n",
      "Extract Image 0.016349315643310547 s\n",
      "'DotDict' object has no attribute 'use_multiple_views_inferences'\n",
      "'DotDict' object has no attribute 'use_multiple_views_inferences'\n"
     ]
    },
    {
     "data": {
      "application/vnd.jupyter.widget-view+json": {
       "model_id": "5682f0c19b934cca8db8e088be4a0da0",
       "version_major": 2,
       "version_minor": 0
      },
      "text/plain": [
       "  0%|          | 0/5 [00:00<?, ?it/s]"
      ]
     },
     "metadata": {},
     "output_type": "display_data"
    },
    {
     "name": "stdout",
     "output_type": "stream",
     "text": [
      "Latent Diffusion Time 2.3490378856658936 s\n",
      "Latent Decoding Time 0.004268646240234375 s\n",
      "Wavelet Preparation Time 0.0001380443572998047 s\n",
      "Low to Highs conversion 0.055974721908569336 s\n",
      "Inverse DWT time elapsed 0.0030007362365722656 s\n",
      "mcubes.marching_cubes time 0.5570602416992188 s\n"
     ]
    },
    {
     "name": "stderr",
     "output_type": "stream",
     "text": [
      "Seed set to 42\n"
     ]
    },
    {
     "name": "stdout",
     "output_type": "stream",
     "text": [
      "export obj time 3.7036960124969482 s\n",
      "Time to save visualization from high lows to obj 4.264515399932861 s\n",
      "Total Inference time 6.700008869171143\n",
      "Processing image 137: /home/ray/test_images/Olive_Kids_Birdie_Munch_n_Lunch.jpg\n",
      "Extract Image 0.015036344528198242 s\n",
      "'DotDict' object has no attribute 'use_multiple_views_inferences'\n",
      "'DotDict' object has no attribute 'use_multiple_views_inferences'\n"
     ]
    },
    {
     "data": {
      "application/vnd.jupyter.widget-view+json": {
       "model_id": "9584d51ec7ff4b6e902c0c6a34e29557",
       "version_major": 2,
       "version_minor": 0
      },
      "text/plain": [
       "  0%|          | 0/5 [00:00<?, ?it/s]"
      ]
     },
     "metadata": {},
     "output_type": "display_data"
    },
    {
     "name": "stdout",
     "output_type": "stream",
     "text": [
      "Latent Diffusion Time 2.3520474433898926 s\n",
      "Latent Decoding Time 0.004150867462158203 s\n",
      "Wavelet Preparation Time 0.0001475811004638672 s\n",
      "Low to Highs conversion 0.05603384971618652 s\n",
      "Inverse DWT time elapsed 0.0031080245971679688 s\n",
      "mcubes.marching_cubes time 0.5647001266479492 s\n"
     ]
    },
    {
     "name": "stderr",
     "output_type": "stream",
     "text": [
      "Seed set to 42\n"
     ]
    },
    {
     "name": "stdout",
     "output_type": "stream",
     "text": [
      "export obj time 4.953418254852295 s\n",
      "Time to save visualization from high lows to obj 5.521962881088257 s\n",
      "Total Inference time 7.959083557128906\n",
      "Processing image 138: /home/ray/test_images/Olive_Kids_Game_On_Pack_n_Snack.jpg\n",
      "Extract Image 0.014739990234375 s\n",
      "'DotDict' object has no attribute 'use_multiple_views_inferences'\n",
      "'DotDict' object has no attribute 'use_multiple_views_inferences'\n"
     ]
    },
    {
     "data": {
      "application/vnd.jupyter.widget-view+json": {
       "model_id": "fe619a6971c8414c97a91eb0a4cc25c3",
       "version_major": 2,
       "version_minor": 0
      },
      "text/plain": [
       "  0%|          | 0/5 [00:00<?, ?it/s]"
      ]
     },
     "metadata": {},
     "output_type": "display_data"
    },
    {
     "name": "stdout",
     "output_type": "stream",
     "text": [
      "Latent Diffusion Time 2.353182554244995 s\n",
      "Latent Decoding Time 0.0045588016510009766 s\n",
      "Wavelet Preparation Time 0.00016498565673828125 s\n",
      "Low to Highs conversion 0.05570554733276367 s\n",
      "Inverse DWT time elapsed 0.0031452178955078125 s\n",
      "mcubes.marching_cubes time 0.5541188716888428 s\n"
     ]
    },
    {
     "name": "stderr",
     "output_type": "stream",
     "text": [
      "Seed set to 42\n"
     ]
    },
    {
     "name": "stdout",
     "output_type": "stream",
     "text": [
      "export obj time 3.0667591094970703 s\n",
      "Time to save visualization from high lows to obj 3.6247127056121826 s\n",
      "Total Inference time 6.063249349594116\n",
      "Processing image 139: /home/ray/test_images/Olive_Kids_Mermaids_Pack_n_Snack_Backpack.jpg\n",
      "Extract Image 0.014955997467041016 s\n",
      "'DotDict' object has no attribute 'use_multiple_views_inferences'\n",
      "'DotDict' object has no attribute 'use_multiple_views_inferences'\n"
     ]
    },
    {
     "data": {
      "application/vnd.jupyter.widget-view+json": {
       "model_id": "97a08adb49494f8c934a9ba18a0dda05",
       "version_major": 2,
       "version_minor": 0
      },
      "text/plain": [
       "  0%|          | 0/5 [00:00<?, ?it/s]"
      ]
     },
     "metadata": {},
     "output_type": "display_data"
    },
    {
     "name": "stdout",
     "output_type": "stream",
     "text": [
      "Latent Diffusion Time 2.3584110736846924 s\n",
      "Latent Decoding Time 0.0044097900390625 s\n",
      "Wavelet Preparation Time 0.00015234947204589844 s\n",
      "Low to Highs conversion 0.055959224700927734 s\n",
      "Inverse DWT time elapsed 0.003015756607055664 s\n",
      "mcubes.marching_cubes time 0.5548892021179199 s\n"
     ]
    },
    {
     "name": "stderr",
     "output_type": "stream",
     "text": [
      "Seed set to 42\n"
     ]
    },
    {
     "name": "stdout",
     "output_type": "stream",
     "text": [
      "export obj time 3.1691696643829346 s\n",
      "Time to save visualization from high lows to obj 3.727560043334961 s\n",
      "Total Inference time 6.171905994415283\n",
      "Processing image 140: /home/ray/test_images/Olive_Kids_Robots_Pencil_Case.jpg\n",
      "Extract Image 0.0233614444732666 s\n",
      "'DotDict' object has no attribute 'use_multiple_views_inferences'\n",
      "'DotDict' object has no attribute 'use_multiple_views_inferences'\n"
     ]
    },
    {
     "data": {
      "application/vnd.jupyter.widget-view+json": {
       "model_id": "8d6abb9bc4c8461c84b7c3c2996db276",
       "version_major": 2,
       "version_minor": 0
      },
      "text/plain": [
       "  0%|          | 0/5 [00:00<?, ?it/s]"
      ]
     },
     "metadata": {},
     "output_type": "display_data"
    },
    {
     "name": "stdout",
     "output_type": "stream",
     "text": [
      "Latent Diffusion Time 2.36136794090271 s\n",
      "Latent Decoding Time 0.0040743350982666016 s\n",
      "Wavelet Preparation Time 0.00013637542724609375 s\n",
      "Low to Highs conversion 0.05607175827026367 s\n",
      "Inverse DWT time elapsed 0.0027725696563720703 s\n",
      "mcubes.marching_cubes time 0.5518953800201416 s\n"
     ]
    },
    {
     "name": "stderr",
     "output_type": "stream",
     "text": [
      "Seed set to 42\n"
     ]
    },
    {
     "name": "stdout",
     "output_type": "stream",
     "text": [
      "export obj time 1.954216718673706 s\n",
      "Time to save visualization from high lows to obj 2.5095837116241455 s\n",
      "Total Inference time 4.966535329818726\n",
      "Processing image 141: /home/ray/test_images/Olive_Kids_Trains_Planes_Trucks_Bogo_Backpack.jpg\n",
      "Extract Image 0.015003442764282227 s\n",
      "'DotDict' object has no attribute 'use_multiple_views_inferences'\n",
      "'DotDict' object has no attribute 'use_multiple_views_inferences'\n"
     ]
    },
    {
     "data": {
      "application/vnd.jupyter.widget-view+json": {
       "model_id": "ca3123fde3c649119b5a60c7619c0f77",
       "version_major": 2,
       "version_minor": 0
      },
      "text/plain": [
       "  0%|          | 0/5 [00:00<?, ?it/s]"
      ]
     },
     "metadata": {},
     "output_type": "display_data"
    },
    {
     "name": "stdout",
     "output_type": "stream",
     "text": [
      "Latent Diffusion Time 2.356189250946045 s\n",
      "Latent Decoding Time 0.004408597946166992 s\n",
      "Wavelet Preparation Time 0.00014448165893554688 s\n",
      "Low to Highs conversion 0.05614137649536133 s\n",
      "Inverse DWT time elapsed 0.0028285980224609375 s\n",
      "mcubes.marching_cubes time 0.564185380935669 s\n"
     ]
    },
    {
     "name": "stderr",
     "output_type": "stream",
     "text": [
      "Seed set to 42\n"
     ]
    },
    {
     "name": "stdout",
     "output_type": "stream",
     "text": [
      "export obj time 3.8598010540008545 s\n",
      "Time to save visualization from high lows to obj 4.427545547485352 s\n",
      "Total Inference time 6.868821620941162\n",
      "Processing image 142: /home/ray/test_images/Orbit_Bubblemint_Mini_Bottle_6_ct.jpg\n",
      "Extract Image 0.014923572540283203 s\n",
      "'DotDict' object has no attribute 'use_multiple_views_inferences'\n",
      "'DotDict' object has no attribute 'use_multiple_views_inferences'\n"
     ]
    },
    {
     "data": {
      "application/vnd.jupyter.widget-view+json": {
       "model_id": "9e43a833da2a497d9dc55ecb5dcced91",
       "version_major": 2,
       "version_minor": 0
      },
      "text/plain": [
       "  0%|          | 0/5 [00:00<?, ?it/s]"
      ]
     },
     "metadata": {},
     "output_type": "display_data"
    },
    {
     "name": "stdout",
     "output_type": "stream",
     "text": [
      "Latent Diffusion Time 2.358010768890381 s\n",
      "Latent Decoding Time 0.00465083122253418 s\n",
      "Wavelet Preparation Time 0.00017070770263671875 s\n",
      "Low to Highs conversion 0.055635929107666016 s\n",
      "Inverse DWT time elapsed 0.0028886795043945312 s\n",
      "mcubes.marching_cubes time 0.5768303871154785 s\n"
     ]
    },
    {
     "name": "stderr",
     "output_type": "stream",
     "text": [
      "Seed set to 42\n"
     ]
    },
    {
     "name": "stdout",
     "output_type": "stream",
     "text": [
      "export obj time 6.936273097991943 s\n",
      "Time to save visualization from high lows to obj 7.516726493835449 s\n",
      "Total Inference time 9.960411548614502\n",
      "Processing image 143: /home/ray/test_images/PEEKABOO_ROLLER.jpg\n",
      "Extract Image 0.014766454696655273 s\n",
      "'DotDict' object has no attribute 'use_multiple_views_inferences'\n",
      "'DotDict' object has no attribute 'use_multiple_views_inferences'\n"
     ]
    },
    {
     "data": {
      "application/vnd.jupyter.widget-view+json": {
       "model_id": "bdce47810b5b465a8746a3ba69a1a31a",
       "version_major": 2,
       "version_minor": 0
      },
      "text/plain": [
       "  0%|          | 0/5 [00:00<?, ?it/s]"
      ]
     },
     "metadata": {},
     "output_type": "display_data"
    },
    {
     "name": "stdout",
     "output_type": "stream",
     "text": [
      "Latent Diffusion Time 2.3591456413269043 s\n",
      "Latent Decoding Time 0.004244089126586914 s\n",
      "Wavelet Preparation Time 0.00014543533325195312 s\n",
      "Low to Highs conversion 0.05615997314453125 s\n",
      "Inverse DWT time elapsed 0.0031893253326416016 s\n",
      "mcubes.marching_cubes time 0.5535917282104492 s\n"
     ]
    },
    {
     "name": "stderr",
     "output_type": "stream",
     "text": [
      "Seed set to 42\n"
     ]
    },
    {
     "name": "stdout",
     "output_type": "stream",
     "text": [
      "export obj time 3.2247676849365234 s\n",
      "Time to save visualization from high lows to obj 3.782008171081543 s\n",
      "Total Inference time 6.226487398147583\n",
      "Processing image 144: /home/ray/test_images/PETS_ACCESSORIES.jpg\n",
      "Extract Image 0.014588594436645508 s\n",
      "'DotDict' object has no attribute 'use_multiple_views_inferences'\n",
      "'DotDict' object has no attribute 'use_multiple_views_inferences'\n"
     ]
    },
    {
     "data": {
      "application/vnd.jupyter.widget-view+json": {
       "model_id": "a68c312616474212ae9767d38e1f7289",
       "version_major": 2,
       "version_minor": 0
      },
      "text/plain": [
       "  0%|          | 0/5 [00:00<?, ?it/s]"
      ]
     },
     "metadata": {},
     "output_type": "display_data"
    },
    {
     "name": "stdout",
     "output_type": "stream",
     "text": [
      "Latent Diffusion Time 2.3590540885925293 s\n",
      "Latent Decoding Time 0.004159688949584961 s\n",
      "Wavelet Preparation Time 0.0001418590545654297 s\n",
      "Low to Highs conversion 0.05583906173706055 s\n",
      "Inverse DWT time elapsed 0.003108501434326172 s\n",
      "mcubes.marching_cubes time 0.5501365661621094 s\n"
     ]
    },
    {
     "name": "stderr",
     "output_type": "stream",
     "text": [
      "Seed set to 42\n"
     ]
    },
    {
     "name": "stdout",
     "output_type": "stream",
     "text": [
      "export obj time 1.5738654136657715 s\n",
      "Time to save visualization from high lows to obj 2.127624988555908 s\n",
      "Total Inference time 4.571964979171753\n",
      "Processing image 145: /home/ray/test_images/Paul_Frank_Dot_Lunch_Box.jpg\n",
      "Extract Image 0.023481369018554688 s\n",
      "'DotDict' object has no attribute 'use_multiple_views_inferences'\n",
      "'DotDict' object has no attribute 'use_multiple_views_inferences'\n"
     ]
    },
    {
     "data": {
      "application/vnd.jupyter.widget-view+json": {
       "model_id": "c9c3eb7fe3f2407f921a6bd6791f42f0",
       "version_major": 2,
       "version_minor": 0
      },
      "text/plain": [
       "  0%|          | 0/5 [00:00<?, ?it/s]"
      ]
     },
     "metadata": {},
     "output_type": "display_data"
    },
    {
     "name": "stdout",
     "output_type": "stream",
     "text": [
      "Latent Diffusion Time 2.3613882064819336 s\n",
      "Latent Decoding Time 0.004495143890380859 s\n",
      "Wavelet Preparation Time 0.00018310546875 s\n",
      "Low to Highs conversion 0.05586099624633789 s\n",
      "Inverse DWT time elapsed 0.0028536319732666016 s\n",
      "mcubes.marching_cubes time 0.5608279705047607 s\n"
     ]
    },
    {
     "name": "stderr",
     "output_type": "stream",
     "text": [
      "Seed set to 42\n"
     ]
    },
    {
     "name": "stdout",
     "output_type": "stream",
     "text": [
      "export obj time 3.112725257873535 s\n",
      "Time to save visualization from high lows to obj 3.6770379543304443 s\n",
      "Total Inference time 6.13418436050415\n",
      "Processing image 146: /home/ray/test_images/Persona_Q_Shadow_of_the_Labyrinth_Nintendo_3DS.jpg\n",
      "Extract Image 0.015623331069946289 s\n",
      "'DotDict' object has no attribute 'use_multiple_views_inferences'\n",
      "'DotDict' object has no attribute 'use_multiple_views_inferences'\n"
     ]
    },
    {
     "data": {
      "application/vnd.jupyter.widget-view+json": {
       "model_id": "94fa87c1f0474ddb8a239af292d06384",
       "version_major": 2,
       "version_minor": 0
      },
      "text/plain": [
       "  0%|          | 0/5 [00:00<?, ?it/s]"
      ]
     },
     "metadata": {},
     "output_type": "display_data"
    },
    {
     "name": "stdout",
     "output_type": "stream",
     "text": [
      "Latent Diffusion Time 2.3546745777130127 s\n",
      "Latent Decoding Time 0.004427194595336914 s\n",
      "Wavelet Preparation Time 0.00013589859008789062 s\n",
      "Low to Highs conversion 0.05572772026062012 s\n",
      "Inverse DWT time elapsed 0.003028392791748047 s\n",
      "mcubes.marching_cubes time 0.5576083660125732 s\n"
     ]
    },
    {
     "name": "stderr",
     "output_type": "stream",
     "text": [
      "Seed set to 42\n"
     ]
    },
    {
     "name": "stdout",
     "output_type": "stream",
     "text": [
      "export obj time 3.809685468673706 s\n",
      "Time to save visualization from high lows to obj 4.370962619781494 s\n",
      "Total Inference time 6.8120176792144775\n",
      "Processing image 147: /home/ray/test_images/Philips_EcoVantage_43_W_Light_Bulbs_Natural_Light_2_pack.jpg\n",
      "Extract Image 0.014313697814941406 s\n",
      "'DotDict' object has no attribute 'use_multiple_views_inferences'\n",
      "'DotDict' object has no attribute 'use_multiple_views_inferences'\n"
     ]
    },
    {
     "data": {
      "application/vnd.jupyter.widget-view+json": {
       "model_id": "12c77ba210284bbc982d9bc25ff3a064",
       "version_major": 2,
       "version_minor": 0
      },
      "text/plain": [
       "  0%|          | 0/5 [00:00<?, ?it/s]"
      ]
     },
     "metadata": {},
     "output_type": "display_data"
    },
    {
     "name": "stdout",
     "output_type": "stream",
     "text": [
      "Latent Diffusion Time 2.3558385372161865 s\n",
      "Latent Decoding Time 0.0045473575592041016 s\n",
      "Wavelet Preparation Time 0.0001506805419921875 s\n",
      "Low to Highs conversion 0.05558514595031738 s\n",
      "Inverse DWT time elapsed 0.002894878387451172 s\n",
      "mcubes.marching_cubes time 0.5592629909515381 s\n"
     ]
    },
    {
     "name": "stderr",
     "output_type": "stream",
     "text": [
      "Seed set to 42\n"
     ]
    },
    {
     "name": "stdout",
     "output_type": "stream",
     "text": [
      "export obj time 3.6816437244415283 s\n",
      "Time to save visualization from high lows to obj 4.244277477264404 s\n",
      "Total Inference time 6.685218572616577\n",
      "Processing image 148: /home/ray/test_images/Pokémon_Omega_Ruby_Alpha_Sapphire_Dual_Pack_Nintendo_3DS.jpg\n",
      "Extract Image 0.01477193832397461 s\n",
      "'DotDict' object has no attribute 'use_multiple_views_inferences'\n",
      "'DotDict' object has no attribute 'use_multiple_views_inferences'\n"
     ]
    },
    {
     "data": {
      "application/vnd.jupyter.widget-view+json": {
       "model_id": "697b1675cc474087a71277c6cfa72e04",
       "version_major": 2,
       "version_minor": 0
      },
      "text/plain": [
       "  0%|          | 0/5 [00:00<?, ?it/s]"
      ]
     },
     "metadata": {},
     "output_type": "display_data"
    },
    {
     "name": "stdout",
     "output_type": "stream",
     "text": [
      "Latent Diffusion Time 2.357764482498169 s\n",
      "Latent Decoding Time 0.004092693328857422 s\n",
      "Wavelet Preparation Time 0.00013828277587890625 s\n",
      "Low to Highs conversion 0.05621075630187988 s\n",
      "Inverse DWT time elapsed 0.0031599998474121094 s\n",
      "mcubes.marching_cubes time 0.5533745288848877 s\n"
     ]
    },
    {
     "name": "stderr",
     "output_type": "stream",
     "text": [
      "Seed set to 42\n"
     ]
    },
    {
     "name": "stdout",
     "output_type": "stream",
     "text": [
      "export obj time 2.8882265090942383 s\n",
      "Time to save visualization from high lows to obj 3.445408582687378 s\n",
      "Total Inference time 5.888562202453613\n",
      "Processing image 149: /home/ray/test_images/Prostate_Optimizer.jpg\n",
      "Extract Image 0.01500391960144043 s\n",
      "'DotDict' object has no attribute 'use_multiple_views_inferences'\n",
      "'DotDict' object has no attribute 'use_multiple_views_inferences'\n"
     ]
    },
    {
     "data": {
      "application/vnd.jupyter.widget-view+json": {
       "model_id": "3207ba8a8f3e43d7b66aab354bb8c68f",
       "version_major": 2,
       "version_minor": 0
      },
      "text/plain": [
       "  0%|          | 0/5 [00:00<?, ?it/s]"
      ]
     },
     "metadata": {},
     "output_type": "display_data"
    },
    {
     "name": "stdout",
     "output_type": "stream",
     "text": [
      "Latent Diffusion Time 2.3559160232543945 s\n",
      "Latent Decoding Time 0.004027843475341797 s\n",
      "Wavelet Preparation Time 0.00013947486877441406 s\n",
      "Low to Highs conversion 0.05606412887573242 s\n",
      "Inverse DWT time elapsed 0.002984285354614258 s\n",
      "mcubes.marching_cubes time 0.5560948848724365 s\n"
     ]
    },
    {
     "name": "stderr",
     "output_type": "stream",
     "text": [
      "Seed set to 42\n"
     ]
    },
    {
     "name": "stdout",
     "output_type": "stream",
     "text": [
      "export obj time 2.8005428314208984 s\n",
      "Time to save visualization from high lows to obj 3.36031174659729 s\n",
      "Total Inference time 5.802109003067017\n",
      "Processing image 150: /home/ray/test_images/PureConnect_2_Color_FernNightlifeSilverBlack_Size_70_5w0BYsiogeV.jpg\n",
      "Extract Image 0.019597768783569336 s\n",
      "'DotDict' object has no attribute 'use_multiple_views_inferences'\n",
      "'DotDict' object has no attribute 'use_multiple_views_inferences'\n"
     ]
    },
    {
     "data": {
      "application/vnd.jupyter.widget-view+json": {
       "model_id": "4589aaf3917948b68a2994de935bbcb9",
       "version_major": 2,
       "version_minor": 0
      },
      "text/plain": [
       "  0%|          | 0/5 [00:00<?, ?it/s]"
      ]
     },
     "metadata": {},
     "output_type": "display_data"
    },
    {
     "name": "stdout",
     "output_type": "stream",
     "text": [
      "Latent Diffusion Time 2.3576786518096924 s\n",
      "Latent Decoding Time 0.004179477691650391 s\n",
      "Wavelet Preparation Time 0.0001437664031982422 s\n",
      "Low to Highs conversion 0.05608105659484863 s\n",
      "Inverse DWT time elapsed 0.0029952526092529297 s\n",
      "mcubes.marching_cubes time 0.553046703338623 s\n"
     ]
    },
    {
     "name": "stderr",
     "output_type": "stream",
     "text": [
      "Seed set to 42\n"
     ]
    },
    {
     "name": "stdout",
     "output_type": "stream",
     "text": [
      "export obj time 1.7211380004882812 s\n",
      "Time to save visualization from high lows to obj 2.277949094772339 s\n",
      "Total Inference time 4.725647211074829\n",
      "Processing image 151: /home/ray/test_images/QAbsorb_CoQ10.jpg\n",
      "Extract Image 0.015200614929199219 s\n",
      "'DotDict' object has no attribute 'use_multiple_views_inferences'\n",
      "'DotDict' object has no attribute 'use_multiple_views_inferences'\n"
     ]
    },
    {
     "data": {
      "application/vnd.jupyter.widget-view+json": {
       "model_id": "381f7cb24d1f46ed8cbe437e15836c6c",
       "version_major": 2,
       "version_minor": 0
      },
      "text/plain": [
       "  0%|          | 0/5 [00:00<?, ?it/s]"
      ]
     },
     "metadata": {},
     "output_type": "display_data"
    },
    {
     "name": "stdout",
     "output_type": "stream",
     "text": [
      "Latent Diffusion Time 2.353079319000244 s\n",
      "Latent Decoding Time 0.004458427429199219 s\n",
      "Wavelet Preparation Time 0.0001544952392578125 s\n",
      "Low to Highs conversion 0.055994510650634766 s\n",
      "Inverse DWT time elapsed 0.0031158924102783203 s\n",
      "mcubes.marching_cubes time 0.5541412830352783 s\n"
     ]
    },
    {
     "name": "stderr",
     "output_type": "stream",
     "text": [
      "Seed set to 42\n"
     ]
    },
    {
     "name": "stdout",
     "output_type": "stream",
     "text": [
      "export obj time 3.1895766258239746 s\n",
      "Time to save visualization from high lows to obj 3.7474348545074463 s\n",
      "Total Inference time 6.186367034912109\n",
      "Processing image 152: /home/ray/test_images/QHPomegranate.jpg\n",
      "Extract Image 0.01521158218383789 s\n",
      "'DotDict' object has no attribute 'use_multiple_views_inferences'\n",
      "'DotDict' object has no attribute 'use_multiple_views_inferences'\n"
     ]
    },
    {
     "data": {
      "application/vnd.jupyter.widget-view+json": {
       "model_id": "1cbc400cd5d94e328468f2734f36375b",
       "version_major": 2,
       "version_minor": 0
      },
      "text/plain": [
       "  0%|          | 0/5 [00:00<?, ?it/s]"
      ]
     },
     "metadata": {},
     "output_type": "display_data"
    },
    {
     "name": "stdout",
     "output_type": "stream",
     "text": [
      "Latent Diffusion Time 2.3560802936553955 s\n",
      "Latent Decoding Time 0.004252195358276367 s\n",
      "Wavelet Preparation Time 0.0001380443572998047 s\n",
      "Low to Highs conversion 0.055924415588378906 s\n",
      "Inverse DWT time elapsed 0.0030739307403564453 s\n",
      "mcubes.marching_cubes time 0.5581185817718506 s\n"
     ]
    },
    {
     "name": "stderr",
     "output_type": "stream",
     "text": [
      "Seed set to 42\n"
     ]
    },
    {
     "name": "stdout",
     "output_type": "stream",
     "text": [
      "export obj time 3.111096143722534 s\n",
      "Time to save visualization from high lows to obj 3.672917604446411 s\n",
      "Total Inference time 6.113500118255615\n",
      "Processing image 153: /home/ray/test_images/Real_Deal_1nIwCHX1MTh.jpg\n",
      "Extract Image 0.015567302703857422 s\n",
      "'DotDict' object has no attribute 'use_multiple_views_inferences'\n",
      "'DotDict' object has no attribute 'use_multiple_views_inferences'\n"
     ]
    },
    {
     "data": {
      "application/vnd.jupyter.widget-view+json": {
       "model_id": "20c456d5bdaa4c7dbf4c5c28300f1cef",
       "version_major": 2,
       "version_minor": 0
      },
      "text/plain": [
       "  0%|          | 0/5 [00:00<?, ?it/s]"
      ]
     },
     "metadata": {},
     "output_type": "display_data"
    },
    {
     "name": "stdout",
     "output_type": "stream",
     "text": [
      "Latent Diffusion Time 2.3553404808044434 s\n",
      "Latent Decoding Time 0.00416874885559082 s\n",
      "Wavelet Preparation Time 0.00015306472778320312 s\n",
      "Low to Highs conversion 0.055982112884521484 s\n",
      "Inverse DWT time elapsed 0.002783536911010742 s\n",
      "mcubes.marching_cubes time 0.5497510433197021 s\n"
     ]
    },
    {
     "name": "stderr",
     "output_type": "stream",
     "text": [
      "Seed set to 42\n"
     ]
    },
    {
     "name": "stdout",
     "output_type": "stream",
     "text": [
      "export obj time 1.8191511631011963 s\n",
      "Time to save visualization from high lows to obj 2.372340202331543 s\n",
      "Total Inference time 4.81292462348938\n",
      "Processing image 154: /home/ray/test_images/Reebok_BREAKPOINT_MID.jpg\n",
      "Extract Image 0.01499319076538086 s\n",
      "'DotDict' object has no attribute 'use_multiple_views_inferences'\n",
      "'DotDict' object has no attribute 'use_multiple_views_inferences'\n"
     ]
    },
    {
     "data": {
      "application/vnd.jupyter.widget-view+json": {
       "model_id": "680299de2ea349ef96a856da6ef9afa9",
       "version_major": 2,
       "version_minor": 0
      },
      "text/plain": [
       "  0%|          | 0/5 [00:00<?, ?it/s]"
      ]
     },
     "metadata": {},
     "output_type": "display_data"
    },
    {
     "name": "stdout",
     "output_type": "stream",
     "text": [
      "Latent Diffusion Time 2.352999448776245 s\n",
      "Latent Decoding Time 0.00458836555480957 s\n",
      "Wavelet Preparation Time 0.00014829635620117188 s\n",
      "Low to Highs conversion 0.05590510368347168 s\n",
      "Inverse DWT time elapsed 0.0029866695404052734 s\n",
      "mcubes.marching_cubes time 0.5768296718597412 s\n"
     ]
    },
    {
     "name": "stderr",
     "output_type": "stream",
     "text": [
      "Seed set to 42\n"
     ]
    },
    {
     "name": "stdout",
     "output_type": "stream",
     "text": [
      "export obj time 1.8178508281707764 s\n",
      "Time to save visualization from high lows to obj 2.398120880126953 s\n",
      "Total Inference time 4.837391376495361\n",
      "Processing image 155: /home/ray/test_images/Reebok_CLASSIC_JOGGER.jpg\n",
      "Extract Image 0.014758825302124023 s\n",
      "'DotDict' object has no attribute 'use_multiple_views_inferences'\n",
      "'DotDict' object has no attribute 'use_multiple_views_inferences'\n"
     ]
    },
    {
     "data": {
      "application/vnd.jupyter.widget-view+json": {
       "model_id": "ad4238e1b9aa4e8aab65e9cefef243df",
       "version_major": 2,
       "version_minor": 0
      },
      "text/plain": [
       "  0%|          | 0/5 [00:00<?, ?it/s]"
      ]
     },
     "metadata": {},
     "output_type": "display_data"
    },
    {
     "name": "stdout",
     "output_type": "stream",
     "text": [
      "Latent Diffusion Time 2.3534343242645264 s\n",
      "Latent Decoding Time 0.0042612552642822266 s\n",
      "Wavelet Preparation Time 0.00015616416931152344 s\n",
      "Low to Highs conversion 0.055831193923950195 s\n",
      "Inverse DWT time elapsed 0.002870321273803711 s\n",
      "mcubes.marching_cubes time 0.5522968769073486 s\n"
     ]
    },
    {
     "name": "stderr",
     "output_type": "stream",
     "text": [
      "Seed set to 42\n"
     ]
    },
    {
     "name": "stdout",
     "output_type": "stream",
     "text": [
      "export obj time 1.498415470123291 s\n",
      "Time to save visualization from high lows to obj 2.054288625717163 s\n",
      "Total Inference time 4.492697238922119\n",
      "Processing image 156: /home/ray/test_images/Reebok_CL_RAYEN.jpg\n",
      "Extract Image 0.020920515060424805 s\n",
      "'DotDict' object has no attribute 'use_multiple_views_inferences'\n",
      "'DotDict' object has no attribute 'use_multiple_views_inferences'\n"
     ]
    },
    {
     "data": {
      "application/vnd.jupyter.widget-view+json": {
       "model_id": "fbfd40e8d8cb48e8916c93b0fa12f366",
       "version_major": 2,
       "version_minor": 0
      },
      "text/plain": [
       "  0%|          | 0/5 [00:00<?, ?it/s]"
      ]
     },
     "metadata": {},
     "output_type": "display_data"
    },
    {
     "name": "stdout",
     "output_type": "stream",
     "text": [
      "Latent Diffusion Time 2.35784912109375 s\n",
      "Latent Decoding Time 0.0045435428619384766 s\n",
      "Wavelet Preparation Time 0.00014209747314453125 s\n",
      "Low to Highs conversion 0.05592679977416992 s\n",
      "Inverse DWT time elapsed 0.003361225128173828 s\n",
      "mcubes.marching_cubes time 0.5570206642150879 s\n"
     ]
    },
    {
     "name": "stderr",
     "output_type": "stream",
     "text": [
      "Seed set to 42\n"
     ]
    },
    {
     "name": "stdout",
     "output_type": "stream",
     "text": [
      "export obj time 2.211582660675049 s\n",
      "Time to save visualization from high lows to obj 2.772683620452881 s\n",
      "Total Inference time 5.2234413623809814\n",
      "Processing image 157: /home/ray/test_images/Reebok_DMX_MAX_MANIA_WD_D.jpg\n",
      "Extract Image 0.014358758926391602 s\n",
      "'DotDict' object has no attribute 'use_multiple_views_inferences'\n",
      "'DotDict' object has no attribute 'use_multiple_views_inferences'\n"
     ]
    },
    {
     "data": {
      "application/vnd.jupyter.widget-view+json": {
       "model_id": "564aa88a0f8447b3944db625939531db",
       "version_major": 2,
       "version_minor": 0
      },
      "text/plain": [
       "  0%|          | 0/5 [00:00<?, ?it/s]"
      ]
     },
     "metadata": {},
     "output_type": "display_data"
    },
    {
     "name": "stdout",
     "output_type": "stream",
     "text": [
      "Latent Diffusion Time 2.3542468547821045 s\n",
      "Latent Decoding Time 0.004727602005004883 s\n",
      "Wavelet Preparation Time 0.00016260147094726562 s\n",
      "Low to Highs conversion 0.05624246597290039 s\n",
      "Inverse DWT time elapsed 0.0030350685119628906 s\n",
      "mcubes.marching_cubes time 0.5485982894897461 s\n"
     ]
    },
    {
     "name": "stderr",
     "output_type": "stream",
     "text": [
      "Seed set to 42\n"
     ]
    },
    {
     "name": "stdout",
     "output_type": "stream",
     "text": [
      "export obj time 1.999307632446289 s\n",
      "Time to save visualization from high lows to obj 2.551671266555786 s\n",
      "Total Inference time 4.991646766662598\n",
      "Processing image 158: /home/ray/test_images/Reebok_DMX_MAX_PLUS_RAINWALKER.jpg\n",
      "Extract Image 0.0151824951171875 s\n",
      "'DotDict' object has no attribute 'use_multiple_views_inferences'\n",
      "'DotDict' object has no attribute 'use_multiple_views_inferences'\n"
     ]
    },
    {
     "data": {
      "application/vnd.jupyter.widget-view+json": {
       "model_id": "c27d518de89749c792ac0fd035092d1e",
       "version_major": 2,
       "version_minor": 0
      },
      "text/plain": [
       "  0%|          | 0/5 [00:00<?, ?it/s]"
      ]
     },
     "metadata": {},
     "output_type": "display_data"
    },
    {
     "name": "stdout",
     "output_type": "stream",
     "text": [
      "Latent Diffusion Time 2.3547170162200928 s\n",
      "Latent Decoding Time 0.004952669143676758 s\n",
      "Wavelet Preparation Time 0.00018477439880371094 s\n",
      "Low to Highs conversion 0.05551314353942871 s\n",
      "Inverse DWT time elapsed 0.0028862953186035156 s\n",
      "mcubes.marching_cubes time 0.560408353805542 s\n"
     ]
    },
    {
     "name": "stderr",
     "output_type": "stream",
     "text": [
      "Seed set to 42\n"
     ]
    },
    {
     "name": "stdout",
     "output_type": "stream",
     "text": [
      "export obj time 1.5118355751037598 s\n",
      "Time to save visualization from high lows to obj 2.0758347511291504 s\n",
      "Total Inference time 4.515567302703857\n",
      "Processing image 159: /home/ray/test_images/Reebok_GL_6000.jpg\n",
      "Extract Image 0.014134407043457031 s\n",
      "'DotDict' object has no attribute 'use_multiple_views_inferences'\n",
      "'DotDict' object has no attribute 'use_multiple_views_inferences'\n"
     ]
    },
    {
     "data": {
      "application/vnd.jupyter.widget-view+json": {
       "model_id": "ca334f1aa2994ca1aac7070fc3e9fef7",
       "version_major": 2,
       "version_minor": 0
      },
      "text/plain": [
       "  0%|          | 0/5 [00:00<?, ?it/s]"
      ]
     },
     "metadata": {},
     "output_type": "display_data"
    },
    {
     "name": "stdout",
     "output_type": "stream",
     "text": [
      "Latent Diffusion Time 2.3556647300720215 s\n",
      "Latent Decoding Time 0.004581928253173828 s\n",
      "Wavelet Preparation Time 0.00014472007751464844 s\n",
      "Low to Highs conversion 0.05622291564941406 s\n",
      "Inverse DWT time elapsed 0.002910614013671875 s\n",
      "mcubes.marching_cubes time 0.5554022789001465 s\n"
     ]
    },
    {
     "name": "stderr",
     "output_type": "stream",
     "text": [
      "Seed set to 42\n"
     ]
    },
    {
     "name": "stdout",
     "output_type": "stream",
     "text": [
      "export obj time 2.5077226161956787 s\n",
      "Time to save visualization from high lows to obj 3.0666749477386475 s\n",
      "Total Inference time 5.507342576980591\n",
      "Processing image 160: /home/ray/test_images/Reebok_JR_ZIG_COOPERSTOWN_MR.jpg\n",
      "Extract Image 0.01498270034790039 s\n",
      "'DotDict' object has no attribute 'use_multiple_views_inferences'\n",
      "'DotDict' object has no attribute 'use_multiple_views_inferences'\n"
     ]
    },
    {
     "data": {
      "application/vnd.jupyter.widget-view+json": {
       "model_id": "726998052cf64680a1b85e1f893efc17",
       "version_major": 2,
       "version_minor": 0
      },
      "text/plain": [
       "  0%|          | 0/5 [00:00<?, ?it/s]"
      ]
     },
     "metadata": {},
     "output_type": "display_data"
    },
    {
     "name": "stdout",
     "output_type": "stream",
     "text": [
      "Latent Diffusion Time 2.3541738986968994 s\n",
      "Latent Decoding Time 0.004468202590942383 s\n",
      "Wavelet Preparation Time 0.00015783309936523438 s\n",
      "Low to Highs conversion 0.05576491355895996 s\n",
      "Inverse DWT time elapsed 0.0029065608978271484 s\n",
      "mcubes.marching_cubes time 0.5548603534698486 s\n"
     ]
    },
    {
     "name": "stderr",
     "output_type": "stream",
     "text": [
      "Seed set to 42\n"
     ]
    },
    {
     "name": "stdout",
     "output_type": "stream",
     "text": [
      "export obj time 1.9520280361175537 s\n",
      "Time to save visualization from high lows to obj 2.5105230808258057 s\n",
      "Total Inference time 4.949734926223755\n",
      "Processing image 161: /home/ray/test_images/Reebok_KAMIKAZE_II_MID.jpg\n",
      "Extract Image 0.014919281005859375 s\n",
      "'DotDict' object has no attribute 'use_multiple_views_inferences'\n",
      "'DotDict' object has no attribute 'use_multiple_views_inferences'\n"
     ]
    },
    {
     "data": {
      "application/vnd.jupyter.widget-view+json": {
       "model_id": "5e890c71acc14528b916078e25c7eae0",
       "version_major": 2,
       "version_minor": 0
      },
      "text/plain": [
       "  0%|          | 0/5 [00:00<?, ?it/s]"
      ]
     },
     "metadata": {},
     "output_type": "display_data"
    },
    {
     "name": "stdout",
     "output_type": "stream",
     "text": [
      "Latent Diffusion Time 2.3523917198181152 s\n",
      "Latent Decoding Time 0.004166603088378906 s\n",
      "Wavelet Preparation Time 0.0001666545867919922 s\n",
      "Low to Highs conversion 0.05633687973022461 s\n",
      "Inverse DWT time elapsed 0.0031201839447021484 s\n",
      "mcubes.marching_cubes time 0.5488314628601074 s\n"
     ]
    },
    {
     "name": "stderr",
     "output_type": "stream",
     "text": [
      "Seed set to 42\n"
     ]
    },
    {
     "name": "stdout",
     "output_type": "stream",
     "text": [
      "export obj time 2.2182118892669678 s\n",
      "Time to save visualization from high lows to obj 2.7708544731140137 s\n",
      "Total Inference time 5.209114074707031\n",
      "Processing image 162: /home/ray/test_images/Reebok_SH_PRIME_COURT_MID.jpg\n",
      "Extract Image 0.01444101333618164 s\n",
      "'DotDict' object has no attribute 'use_multiple_views_inferences'\n",
      "'DotDict' object has no attribute 'use_multiple_views_inferences'\n"
     ]
    },
    {
     "data": {
      "application/vnd.jupyter.widget-view+json": {
       "model_id": "5bf7a4bc164d4fccb07699ee544fd3e1",
       "version_major": 2,
       "version_minor": 0
      },
      "text/plain": [
       "  0%|          | 0/5 [00:00<?, ?it/s]"
      ]
     },
     "metadata": {},
     "output_type": "display_data"
    },
    {
     "name": "stdout",
     "output_type": "stream",
     "text": [
      "Latent Diffusion Time 2.354163408279419 s\n",
      "Latent Decoding Time 0.004294872283935547 s\n",
      "Wavelet Preparation Time 0.0001780986785888672 s\n",
      "Low to Highs conversion 0.05570626258850098 s\n",
      "Inverse DWT time elapsed 0.0026924610137939453 s\n",
      "mcubes.marching_cubes time 0.5542178153991699 s\n"
     ]
    },
    {
     "name": "stderr",
     "output_type": "stream",
     "text": [
      "Seed set to 42\n"
     ]
    },
    {
     "name": "stdout",
     "output_type": "stream",
     "text": [
      "export obj time 1.7586944103240967 s\n",
      "Time to save visualization from high lows to obj 2.3163204193115234 s\n",
      "Total Inference time 4.7546632289886475\n",
      "Processing image 163: /home/ray/test_images/Reebok_SMOOTHFLEX_CUSHRUN_20.jpg\n",
      "Extract Image 0.01477360725402832 s\n",
      "'DotDict' object has no attribute 'use_multiple_views_inferences'\n",
      "'DotDict' object has no attribute 'use_multiple_views_inferences'\n"
     ]
    },
    {
     "data": {
      "application/vnd.jupyter.widget-view+json": {
       "model_id": "b36458703b9f42bd9185d4bd255f5f18",
       "version_major": 2,
       "version_minor": 0
      },
      "text/plain": [
       "  0%|          | 0/5 [00:00<?, ?it/s]"
      ]
     },
     "metadata": {},
     "output_type": "display_data"
    },
    {
     "name": "stdout",
     "output_type": "stream",
     "text": [
      "Latent Diffusion Time 2.353435516357422 s\n",
      "Latent Decoding Time 0.004459857940673828 s\n",
      "Wavelet Preparation Time 0.0001506805419921875 s\n",
      "Low to Highs conversion 0.05585932731628418 s\n",
      "Inverse DWT time elapsed 0.0032477378845214844 s\n",
      "mcubes.marching_cubes time 0.5512955188751221 s\n"
     ]
    },
    {
     "name": "stderr",
     "output_type": "stream",
     "text": [
      "Seed set to 42\n"
     ]
    },
    {
     "name": "stdout",
     "output_type": "stream",
     "text": [
      "export obj time 2.090818166732788 s\n",
      "Time to save visualization from high lows to obj 2.646003246307373 s\n",
      "Total Inference time 5.0838868618011475\n",
      "Processing image 164: /home/ray/test_images/SAMOA.jpg\n",
      "Extract Image 0.01508951187133789 s\n",
      "'DotDict' object has no attribute 'use_multiple_views_inferences'\n",
      "'DotDict' object has no attribute 'use_multiple_views_inferences'\n"
     ]
    },
    {
     "data": {
      "application/vnd.jupyter.widget-view+json": {
       "model_id": "09d7cc578fdb42bb8145935c68402d72",
       "version_major": 2,
       "version_minor": 0
      },
      "text/plain": [
       "  0%|          | 0/5 [00:00<?, ?it/s]"
      ]
     },
     "metadata": {},
     "output_type": "display_data"
    },
    {
     "name": "stdout",
     "output_type": "stream",
     "text": [
      "Latent Diffusion Time 2.3549859523773193 s\n",
      "Latent Decoding Time 0.004380226135253906 s\n",
      "Wavelet Preparation Time 0.0001475811004638672 s\n",
      "Low to Highs conversion 0.05630135536193848 s\n",
      "Inverse DWT time elapsed 0.0038309097290039062 s\n",
      "mcubes.marching_cubes time 0.5541129112243652 s\n"
     ]
    },
    {
     "name": "stderr",
     "output_type": "stream",
     "text": [
      "Seed set to 42\n"
     ]
    },
    {
     "name": "stdout",
     "output_type": "stream",
     "text": [
      "export obj time 2.3522417545318604 s\n",
      "Time to save visualization from high lows to obj 2.9108633995056152 s\n",
      "Total Inference time 5.351173639297485\n",
      "Processing image 165: /home/ray/test_images/SAMe_200_KX7ZmOw47co.jpg\n",
      "Extract Image 0.01402735710144043 s\n",
      "'DotDict' object has no attribute 'use_multiple_views_inferences'\n",
      "'DotDict' object has no attribute 'use_multiple_views_inferences'\n"
     ]
    },
    {
     "data": {
      "application/vnd.jupyter.widget-view+json": {
       "model_id": "e5ac46d2aec9497587909605c4ede481",
       "version_major": 2,
       "version_minor": 0
      },
      "text/plain": [
       "  0%|          | 0/5 [00:00<?, ?it/s]"
      ]
     },
     "metadata": {},
     "output_type": "display_data"
    },
    {
     "name": "stdout",
     "output_type": "stream",
     "text": [
      "Latent Diffusion Time 2.352376699447632 s\n",
      "Latent Decoding Time 0.004281282424926758 s\n",
      "Wavelet Preparation Time 0.00015497207641601562 s\n",
      "Low to Highs conversion 0.05641913414001465 s\n",
      "Inverse DWT time elapsed 0.002713441848754883 s\n",
      "mcubes.marching_cubes time 0.5538959503173828 s\n"
     ]
    },
    {
     "name": "stderr",
     "output_type": "stream",
     "text": [
      "Seed set to 42\n"
     ]
    },
    {
     "name": "stdout",
     "output_type": "stream",
     "text": [
      "export obj time 3.4992566108703613 s\n",
      "Time to save visualization from high lows to obj 4.05650782585144 s\n",
      "Total Inference time 6.493434906005859\n",
      "Processing image 166: /home/ray/test_images/Sleep_Optimizer.jpg\n",
      "Extract Image 0.014269351959228516 s\n",
      "'DotDict' object has no attribute 'use_multiple_views_inferences'\n",
      "'DotDict' object has no attribute 'use_multiple_views_inferences'\n"
     ]
    },
    {
     "data": {
      "application/vnd.jupyter.widget-view+json": {
       "model_id": "a56638ef876f4000b9b73beebb2b852e",
       "version_major": 2,
       "version_minor": 0
      },
      "text/plain": [
       "  0%|          | 0/5 [00:00<?, ?it/s]"
      ]
     },
     "metadata": {},
     "output_type": "display_data"
    },
    {
     "name": "stdout",
     "output_type": "stream",
     "text": [
      "Latent Diffusion Time 2.3572919368743896 s\n",
      "Latent Decoding Time 0.0048274993896484375 s\n",
      "Wavelet Preparation Time 0.0001552104949951172 s\n",
      "Low to Highs conversion 0.05588674545288086 s\n",
      "Inverse DWT time elapsed 0.0030372142791748047 s\n"
     ]
    },
    {
     "name": "stderr",
     "output_type": "stream",
     "text": [
      "Seed set to 42\n"
     ]
    },
    {
     "name": "stdout",
     "output_type": "stream",
     "text": [
      "mcubes.marching_cubes time 0.5430722236633301 s\n",
      "export obj time 0.06029367446899414 s\n",
      "Time to save visualization from high lows to obj 0.6067042350769043 s\n",
      "Total Inference time 3.0481786727905273\n",
      "Processing image 167: /home/ray/test_images/Sony_Downloadable_Loops.jpg\n",
      "Extract Image 0.014589786529541016 s\n",
      "'DotDict' object has no attribute 'use_multiple_views_inferences'\n",
      "'DotDict' object has no attribute 'use_multiple_views_inferences'\n"
     ]
    },
    {
     "data": {
      "application/vnd.jupyter.widget-view+json": {
       "model_id": "7dcf66b0a644471db3241d225753ecec",
       "version_major": 2,
       "version_minor": 0
      },
      "text/plain": [
       "  0%|          | 0/5 [00:00<?, ?it/s]"
      ]
     },
     "metadata": {},
     "output_type": "display_data"
    },
    {
     "name": "stdout",
     "output_type": "stream",
     "text": [
      "Latent Diffusion Time 2.357666254043579 s\n",
      "Latent Decoding Time 0.004969596862792969 s\n",
      "Wavelet Preparation Time 0.00016069412231445312 s\n",
      "Low to Highs conversion 0.056006431579589844 s\n",
      "Inverse DWT time elapsed 0.0030393600463867188 s\n",
      "mcubes.marching_cubes time 0.5515029430389404 s\n"
     ]
    },
    {
     "name": "stderr",
     "output_type": "stream",
     "text": [
      "Seed set to 42\n"
     ]
    },
    {
     "name": "stdout",
     "output_type": "stream",
     "text": [
      "export obj time 2.9872515201568604 s\n",
      "Time to save visualization from high lows to obj 3.5424935817718506 s\n",
      "Total Inference time 5.986073970794678\n",
      "Processing image 168: /home/ray/test_images/TERREX_FAST_R.jpg\n",
      "Extract Image 0.014989137649536133 s\n",
      "'DotDict' object has no attribute 'use_multiple_views_inferences'\n",
      "'DotDict' object has no attribute 'use_multiple_views_inferences'\n"
     ]
    },
    {
     "data": {
      "application/vnd.jupyter.widget-view+json": {
       "model_id": "aec3d716352144718d0fc43aa815b957",
       "version_major": 2,
       "version_minor": 0
      },
      "text/plain": [
       "  0%|          | 0/5 [00:00<?, ?it/s]"
      ]
     },
     "metadata": {},
     "output_type": "display_data"
    },
    {
     "name": "stdout",
     "output_type": "stream",
     "text": [
      "Latent Diffusion Time 2.3550806045532227 s\n",
      "Latent Decoding Time 0.00446009635925293 s\n",
      "Wavelet Preparation Time 0.00015282630920410156 s\n",
      "Low to Highs conversion 0.056334733963012695 s\n",
      "Inverse DWT time elapsed 0.0029845237731933594 s\n",
      "mcubes.marching_cubes time 0.5555968284606934 s\n"
     ]
    },
    {
     "name": "stderr",
     "output_type": "stream",
     "text": [
      "Seed set to 42\n"
     ]
    },
    {
     "name": "stdout",
     "output_type": "stream",
     "text": [
      "export obj time 1.5823414325714111 s\n",
      "Time to save visualization from high lows to obj 2.1416637897491455 s\n",
      "Total Inference time 4.582982778549194\n",
      "Processing image 169: /home/ray/test_images/TOP_TEN_HI_60KlbRbdoJA.jpg\n",
      "Extract Image 0.014739751815795898 s\n",
      "'DotDict' object has no attribute 'use_multiple_views_inferences'\n",
      "'DotDict' object has no attribute 'use_multiple_views_inferences'\n"
     ]
    },
    {
     "data": {
      "application/vnd.jupyter.widget-view+json": {
       "model_id": "1885ec583eba4a43bee8f975eff4b164",
       "version_major": 2,
       "version_minor": 0
      },
      "text/plain": [
       "  0%|          | 0/5 [00:00<?, ?it/s]"
      ]
     },
     "metadata": {},
     "output_type": "display_data"
    },
    {
     "name": "stdout",
     "output_type": "stream",
     "text": [
      "Latent Diffusion Time 2.357438325881958 s\n",
      "Latent Decoding Time 0.0043468475341796875 s\n",
      "Wavelet Preparation Time 0.00015020370483398438 s\n",
      "Low to Highs conversion 0.05585741996765137 s\n",
      "Inverse DWT time elapsed 0.0026798248291015625 s\n",
      "mcubes.marching_cubes time 0.5488126277923584 s\n"
     ]
    },
    {
     "name": "stderr",
     "output_type": "stream",
     "text": [
      "Seed set to 42\n"
     ]
    },
    {
     "name": "stdout",
     "output_type": "stream",
     "text": [
      "export obj time 1.7033796310424805 s\n",
      "Time to save visualization from high lows to obj 2.255584716796875 s\n",
      "Total Inference time 4.697601795196533\n",
      "Processing image 170: /home/ray/test_images/Tieks_Ballet_Flats_Diamond_White_Croc.jpg\n",
      "Extract Image 0.01414632797241211 s\n",
      "'DotDict' object has no attribute 'use_multiple_views_inferences'\n",
      "'DotDict' object has no attribute 'use_multiple_views_inferences'\n"
     ]
    },
    {
     "data": {
      "application/vnd.jupyter.widget-view+json": {
       "model_id": "2811dc84a6014762a4b05d448aa6815d",
       "version_major": 2,
       "version_minor": 0
      },
      "text/plain": [
       "  0%|          | 0/5 [00:00<?, ?it/s]"
      ]
     },
     "metadata": {},
     "output_type": "display_data"
    },
    {
     "name": "stdout",
     "output_type": "stream",
     "text": [
      "Latent Diffusion Time 2.3567588329315186 s\n",
      "Latent Decoding Time 0.00452113151550293 s\n",
      "Wavelet Preparation Time 0.00014495849609375 s\n",
      "Low to Highs conversion 0.05563092231750488 s\n",
      "Inverse DWT time elapsed 0.002941131591796875 s\n",
      "mcubes.marching_cubes time 0.55680251121521 s\n"
     ]
    },
    {
     "name": "stderr",
     "output_type": "stream",
     "text": [
      "Seed set to 42\n"
     ]
    },
    {
     "name": "stdout",
     "output_type": "stream",
     "text": [
      "export obj time 2.39219069480896 s\n",
      "Time to save visualization from high lows to obj 2.952326774597168 s\n",
      "Total Inference time 5.392871379852295\n",
      "Processing image 171: /home/ray/test_images/Timberland_Mens_Earthkeepers_Newmarket_6Inch_Cupsole_Boot.jpg\n",
      "Extract Image 0.01471567153930664 s\n",
      "'DotDict' object has no attribute 'use_multiple_views_inferences'\n",
      "'DotDict' object has no attribute 'use_multiple_views_inferences'\n"
     ]
    },
    {
     "data": {
      "application/vnd.jupyter.widget-view+json": {
       "model_id": "b076db5db46f4ee1b94da954571e6eca",
       "version_major": 2,
       "version_minor": 0
      },
      "text/plain": [
       "  0%|          | 0/5 [00:00<?, ?it/s]"
      ]
     },
     "metadata": {},
     "output_type": "display_data"
    },
    {
     "name": "stdout",
     "output_type": "stream",
     "text": [
      "Latent Diffusion Time 2.357691764831543 s\n",
      "Latent Decoding Time 0.004548549652099609 s\n",
      "Wavelet Preparation Time 0.00014972686767578125 s\n",
      "Low to Highs conversion 0.05611395835876465 s\n",
      "Inverse DWT time elapsed 0.003141164779663086 s\n",
      "mcubes.marching_cubes time 0.5599105358123779 s\n"
     ]
    },
    {
     "name": "stderr",
     "output_type": "stream",
     "text": [
      "Seed set to 42\n"
     ]
    },
    {
     "name": "stdout",
     "output_type": "stream",
     "text": [
      "export obj time 1.9244184494018555 s\n",
      "Time to save visualization from high lows to obj 2.4881882667541504 s\n",
      "Total Inference time 4.9314539432525635\n",
      "Processing image 172: /home/ray/test_images/Timberland_Mens_Earthkeepers_Stormbuck_Chukka.jpg\n",
      "Extract Image 0.014159202575683594 s\n",
      "'DotDict' object has no attribute 'use_multiple_views_inferences'\n",
      "'DotDict' object has no attribute 'use_multiple_views_inferences'\n"
     ]
    },
    {
     "data": {
      "application/vnd.jupyter.widget-view+json": {
       "model_id": "12be96c3c6ac420495402717c1e2dcdc",
       "version_major": 2,
       "version_minor": 0
      },
      "text/plain": [
       "  0%|          | 0/5 [00:00<?, ?it/s]"
      ]
     },
     "metadata": {},
     "output_type": "display_data"
    },
    {
     "name": "stdout",
     "output_type": "stream",
     "text": [
      "Latent Diffusion Time 2.3589789867401123 s\n",
      "Latent Decoding Time 0.004645824432373047 s\n",
      "Wavelet Preparation Time 0.0001811981201171875 s\n",
      "Low to Highs conversion 0.056272268295288086 s\n",
      "Inverse DWT time elapsed 0.0030126571655273438 s\n",
      "mcubes.marching_cubes time 0.5591175556182861 s\n"
     ]
    },
    {
     "name": "stderr",
     "output_type": "stream",
     "text": [
      "Seed set to 42\n"
     ]
    },
    {
     "name": "stdout",
     "output_type": "stream",
     "text": [
      "export obj time 2.841151237487793 s\n",
      "Time to save visualization from high lows to obj 3.403902292251587 s\n",
      "Total Inference time 5.847445964813232\n",
      "Processing image 173: /home/ray/test_images/Timberland_Womens_Earthkeepers_Classic_Unlined_Boat_Shoe.jpg\n",
      "Extract Image 0.014627218246459961 s\n",
      "'DotDict' object has no attribute 'use_multiple_views_inferences'\n",
      "'DotDict' object has no attribute 'use_multiple_views_inferences'\n"
     ]
    },
    {
     "data": {
      "application/vnd.jupyter.widget-view+json": {
       "model_id": "4a637f192ed84f6cbe04aa877fb33816",
       "version_major": 2,
       "version_minor": 0
      },
      "text/plain": [
       "  0%|          | 0/5 [00:00<?, ?it/s]"
      ]
     },
     "metadata": {},
     "output_type": "display_data"
    },
    {
     "name": "stdout",
     "output_type": "stream",
     "text": [
      "Latent Diffusion Time 2.359652280807495 s\n",
      "Latent Decoding Time 0.004319667816162109 s\n",
      "Wavelet Preparation Time 0.0001366138458251953 s\n",
      "Low to Highs conversion 0.05581378936767578 s\n",
      "Inverse DWT time elapsed 0.0029115676879882812 s\n",
      "mcubes.marching_cubes time 0.5534806251525879 s\n"
     ]
    },
    {
     "name": "stderr",
     "output_type": "stream",
     "text": [
      "Seed set to 42\n"
     ]
    },
    {
     "name": "stdout",
     "output_type": "stream",
     "text": [
      "export obj time 2.4174392223358154 s\n",
      "Time to save visualization from high lows to obj 2.9745662212371826 s\n",
      "Total Inference time 5.419098854064941\n",
      "Processing image 174: /home/ray/test_images/Tory_Burch_Kaitlin_Ballet_Mestico_in_BlackGold.jpg\n",
      "Extract Image 0.014785528182983398 s\n",
      "'DotDict' object has no attribute 'use_multiple_views_inferences'\n",
      "'DotDict' object has no attribute 'use_multiple_views_inferences'\n"
     ]
    },
    {
     "data": {
      "application/vnd.jupyter.widget-view+json": {
       "model_id": "09dbe95e3288411d96c15a0221a11c20",
       "version_major": 2,
       "version_minor": 0
      },
      "text/plain": [
       "  0%|          | 0/5 [00:00<?, ?it/s]"
      ]
     },
     "metadata": {},
     "output_type": "display_data"
    },
    {
     "name": "stdout",
     "output_type": "stream",
     "text": [
      "Latent Diffusion Time 2.358474016189575 s\n",
      "Latent Decoding Time 0.0049762725830078125 s\n",
      "Wavelet Preparation Time 0.00013184547424316406 s\n",
      "Low to Highs conversion 0.05580306053161621 s\n",
      "Inverse DWT time elapsed 0.0029566287994384766 s\n",
      "mcubes.marching_cubes time 0.5478341579437256 s\n"
     ]
    },
    {
     "name": "stderr",
     "output_type": "stream",
     "text": [
      "Seed set to 42\n"
     ]
    },
    {
     "name": "stdout",
     "output_type": "stream",
     "text": [
      "export obj time 2.0058772563934326 s\n",
      "Time to save visualization from high lows to obj 2.5571200847625732 s\n",
      "Total Inference time 5.001061201095581\n",
      "Processing image 175: /home/ray/test_images/Tory_Burch_Sabe_65mm_Bootie_Split_Suede_in_Caramel.jpg\n",
      "Extract Image 0.014088630676269531 s\n",
      "'DotDict' object has no attribute 'use_multiple_views_inferences'\n",
      "'DotDict' object has no attribute 'use_multiple_views_inferences'\n"
     ]
    },
    {
     "data": {
      "application/vnd.jupyter.widget-view+json": {
       "model_id": "53f6e0590cd34a9699531afb41dbe421",
       "version_major": 2,
       "version_minor": 0
      },
      "text/plain": [
       "  0%|          | 0/5 [00:00<?, ?it/s]"
      ]
     },
     "metadata": {},
     "output_type": "display_data"
    },
    {
     "name": "stdout",
     "output_type": "stream",
     "text": [
      "Latent Diffusion Time 2.359208345413208 s\n",
      "Latent Decoding Time 0.005116462707519531 s\n",
      "Wavelet Preparation Time 0.00018477439880371094 s\n",
      "Low to Highs conversion 0.05691838264465332 s\n",
      "Inverse DWT time elapsed 0.004148006439208984 s\n",
      "mcubes.marching_cubes time 0.557746410369873 s\n"
     ]
    },
    {
     "name": "stderr",
     "output_type": "stream",
     "text": [
      "Seed set to 42\n"
     ]
    },
    {
     "name": "stdout",
     "output_type": "stream",
     "text": [
      "export obj time 2.5542094707489014 s\n",
      "Time to save visualization from high lows to obj 3.116887331008911 s\n",
      "Total Inference time 5.56189751625061\n",
      "Processing image 176: /home/ray/test_images/Travel_Smart_Neck_Rest_Inflatable.jpg\n",
      "Extract Image 0.015018939971923828 s\n",
      "'DotDict' object has no attribute 'use_multiple_views_inferences'\n",
      "'DotDict' object has no attribute 'use_multiple_views_inferences'\n"
     ]
    },
    {
     "data": {
      "application/vnd.jupyter.widget-view+json": {
       "model_id": "822d8dac7cd540f1bac0958200626943",
       "version_major": 2,
       "version_minor": 0
      },
      "text/plain": [
       "  0%|          | 0/5 [00:00<?, ?it/s]"
      ]
     },
     "metadata": {},
     "output_type": "display_data"
    },
    {
     "name": "stdout",
     "output_type": "stream",
     "text": [
      "Latent Diffusion Time 2.363037347793579 s\n",
      "Latent Decoding Time 0.004398345947265625 s\n",
      "Wavelet Preparation Time 0.00016021728515625 s\n",
      "Low to Highs conversion 0.05591726303100586 s\n",
      "Inverse DWT time elapsed 0.0029959678649902344 s\n",
      "mcubes.marching_cubes time 0.5511832237243652 s\n"
     ]
    },
    {
     "name": "stderr",
     "output_type": "stream",
     "text": [
      "Seed set to 42\n"
     ]
    },
    {
     "name": "stdout",
     "output_type": "stream",
     "text": [
      "export obj time 3.1283326148986816 s\n",
      "Time to save visualization from high lows to obj 3.68320369720459 s\n",
      "Total Inference time 6.131258964538574\n",
      "Processing image 177: /home/ray/test_images/UGG_Bailey_Button_Triplet_Womens_Boots_Black_7.jpg\n",
      "Extract Image 0.015139579772949219 s\n",
      "'DotDict' object has no attribute 'use_multiple_views_inferences'\n",
      "'DotDict' object has no attribute 'use_multiple_views_inferences'\n"
     ]
    },
    {
     "data": {
      "application/vnd.jupyter.widget-view+json": {
       "model_id": "cceecc7d79b9447a9892f18ca5124029",
       "version_major": 2,
       "version_minor": 0
      },
      "text/plain": [
       "  0%|          | 0/5 [00:00<?, ?it/s]"
      ]
     },
     "metadata": {},
     "output_type": "display_data"
    },
    {
     "name": "stdout",
     "output_type": "stream",
     "text": [
      "Latent Diffusion Time 2.367441415786743 s\n",
      "Latent Decoding Time 0.0044879913330078125 s\n",
      "Wavelet Preparation Time 0.00014019012451171875 s\n",
      "Low to Highs conversion 0.055818796157836914 s\n",
      "Inverse DWT time elapsed 0.002959728240966797 s\n",
      "mcubes.marching_cubes time 0.5485115051269531 s\n"
     ]
    },
    {
     "name": "stderr",
     "output_type": "stream",
     "text": [
      "Seed set to 42\n"
     ]
    },
    {
     "name": "stdout",
     "output_type": "stream",
     "text": [
      "export obj time 1.500943899154663 s\n",
      "Time to save visualization from high lows to obj 2.053056001663208 s\n",
      "Total Inference time 4.5067174434661865\n",
      "Processing image 178: /home/ray/test_images/UGG_Jena_Womens_Java_7.jpg\n",
      "Extract Image 0.01500248908996582 s\n",
      "'DotDict' object has no attribute 'use_multiple_views_inferences'\n",
      "'DotDict' object has no attribute 'use_multiple_views_inferences'\n"
     ]
    },
    {
     "data": {
      "application/vnd.jupyter.widget-view+json": {
       "model_id": "693fc2ecb5b4456d8b5ad7d07d6ef90b",
       "version_major": 2,
       "version_minor": 0
      },
      "text/plain": [
       "  0%|          | 0/5 [00:00<?, ?it/s]"
      ]
     },
     "metadata": {},
     "output_type": "display_data"
    },
    {
     "name": "stdout",
     "output_type": "stream",
     "text": [
      "Latent Diffusion Time 2.3531301021575928 s\n",
      "Latent Decoding Time 0.004279375076293945 s\n",
      "Wavelet Preparation Time 0.0001533031463623047 s\n",
      "Low to Highs conversion 0.05604863166809082 s\n",
      "Inverse DWT time elapsed 0.0028460025787353516 s\n",
      "mcubes.marching_cubes time 0.5514779090881348 s\n"
     ]
    },
    {
     "name": "stderr",
     "output_type": "stream",
     "text": [
      "Seed set to 42\n"
     ]
    },
    {
     "name": "stdout",
     "output_type": "stream",
     "text": [
      "export obj time 2.4562745094299316 s\n",
      "Time to save visualization from high lows to obj 3.0112900733947754 s\n",
      "Total Inference time 5.45025372505188\n",
      "Processing image 179: /home/ray/test_images/Unmellow_Yellow_Tieks_Neon_Patent_Leather_Ballet_Flats.jpg\n",
      "Extract Image 0.014948606491088867 s\n",
      "'DotDict' object has no attribute 'use_multiple_views_inferences'\n",
      "'DotDict' object has no attribute 'use_multiple_views_inferences'\n"
     ]
    },
    {
     "data": {
      "application/vnd.jupyter.widget-view+json": {
       "model_id": "e854f060ef9e4a098e41905cb3431b21",
       "version_major": 2,
       "version_minor": 0
      },
      "text/plain": [
       "  0%|          | 0/5 [00:00<?, ?it/s]"
      ]
     },
     "metadata": {},
     "output_type": "display_data"
    },
    {
     "name": "stdout",
     "output_type": "stream",
     "text": [
      "Latent Diffusion Time 2.3524742126464844 s\n",
      "Latent Decoding Time 0.004112958908081055 s\n",
      "Wavelet Preparation Time 0.00014519691467285156 s\n",
      "Low to Highs conversion 0.05626821517944336 s\n",
      "Inverse DWT time elapsed 0.002961397171020508 s\n",
      "mcubes.marching_cubes time 0.5516278743743896 s\n"
     ]
    },
    {
     "name": "stderr",
     "output_type": "stream",
     "text": [
      "Seed set to 42\n"
     ]
    },
    {
     "name": "stdout",
     "output_type": "stream",
     "text": [
      "export obj time 2.441554069519043 s\n",
      "Time to save visualization from high lows to obj 2.996903657913208 s\n",
      "Total Inference time 5.434294700622559\n",
      "Processing image 180: /home/ray/test_images/Weston_No_33_Signature_Sausage_Tonic_12_fl_oz.jpg\n",
      "Extract Image 0.014690160751342773 s\n",
      "'DotDict' object has no attribute 'use_multiple_views_inferences'\n",
      "'DotDict' object has no attribute 'use_multiple_views_inferences'\n"
     ]
    },
    {
     "data": {
      "application/vnd.jupyter.widget-view+json": {
       "model_id": "694e069cc67049e3a34580891bf90f0b",
       "version_major": 2,
       "version_minor": 0
      },
      "text/plain": [
       "  0%|          | 0/5 [00:00<?, ?it/s]"
      ]
     },
     "metadata": {},
     "output_type": "display_data"
    },
    {
     "name": "stdout",
     "output_type": "stream",
     "text": [
      "Latent Diffusion Time 2.3619794845581055 s\n",
      "Latent Decoding Time 0.004706382751464844 s\n",
      "Wavelet Preparation Time 0.00018835067749023438 s\n",
      "Low to Highs conversion 0.055704593658447266 s\n",
      "Inverse DWT time elapsed 0.0030198097229003906 s\n",
      "mcubes.marching_cubes time 0.5470757484436035 s\n"
     ]
    },
    {
     "name": "stderr",
     "output_type": "stream",
     "text": [
      "Seed set to 42\n"
     ]
    },
    {
     "name": "stdout",
     "output_type": "stream",
     "text": [
      "export obj time 0.3874545097351074 s\n",
      "Time to save visualization from high lows to obj 0.9381964206695557 s\n",
      "Total Inference time 3.3850080966949463\n",
      "Processing image 181: /home/ray/test_images/Whey_Protein_Vanilla.jpg\n",
      "Extract Image 0.014861583709716797 s\n",
      "'DotDict' object has no attribute 'use_multiple_views_inferences'\n",
      "'DotDict' object has no attribute 'use_multiple_views_inferences'\n"
     ]
    },
    {
     "data": {
      "application/vnd.jupyter.widget-view+json": {
       "model_id": "07e77c99b9ba4d9b8dcfba557e435aaa",
       "version_major": 2,
       "version_minor": 0
      },
      "text/plain": [
       "  0%|          | 0/5 [00:00<?, ?it/s]"
      ]
     },
     "metadata": {},
     "output_type": "display_data"
    },
    {
     "name": "stdout",
     "output_type": "stream",
     "text": [
      "Latent Diffusion Time 2.3587467670440674 s\n",
      "Latent Decoding Time 0.0044574737548828125 s\n",
      "Wavelet Preparation Time 0.00014138221740722656 s\n",
      "Low to Highs conversion 0.05575156211853027 s\n",
      "Inverse DWT time elapsed 0.003016233444213867 s\n",
      "mcubes.marching_cubes time 0.5554461479187012 s\n"
     ]
    },
    {
     "name": "stderr",
     "output_type": "stream",
     "text": [
      "Seed set to 42\n"
     ]
    },
    {
     "name": "stdout",
     "output_type": "stream",
     "text": [
      "export obj time 3.3360085487365723 s\n",
      "Time to save visualization from high lows to obj 3.895224094390869 s\n",
      "Total Inference time 6.338314533233643\n",
      "Processing image 182: /home/ray/test_images/Whey_Protein_Vanilla_12_Packets.jpg\n",
      "Extract Image 0.014667034149169922 s\n",
      "'DotDict' object has no attribute 'use_multiple_views_inferences'\n",
      "'DotDict' object has no attribute 'use_multiple_views_inferences'\n"
     ]
    },
    {
     "data": {
      "application/vnd.jupyter.widget-view+json": {
       "model_id": "2a2e5ee4d4344e00956cc1a90b315b3d",
       "version_major": 2,
       "version_minor": 0
      },
      "text/plain": [
       "  0%|          | 0/5 [00:00<?, ?it/s]"
      ]
     },
     "metadata": {},
     "output_type": "display_data"
    },
    {
     "name": "stdout",
     "output_type": "stream",
     "text": [
      "Latent Diffusion Time 2.362300157546997 s\n",
      "Latent Decoding Time 0.00427699089050293 s\n",
      "Wavelet Preparation Time 0.0001423358917236328 s\n",
      "Low to Highs conversion 0.0559237003326416 s\n",
      "Inverse DWT time elapsed 0.0031294822692871094 s\n",
      "mcubes.marching_cubes time 0.5580484867095947 s\n"
     ]
    },
    {
     "name": "stderr",
     "output_type": "stream",
     "text": [
      "Seed set to 42\n"
     ]
    },
    {
     "name": "stdout",
     "output_type": "stream",
     "text": [
      "export obj time 3.5693318843841553 s\n",
      "Time to save visualization from high lows to obj 4.131210803985596 s\n",
      "Total Inference time 6.578945636749268\n",
      "Processing image 183: /home/ray/test_images/Winning_Moves_1180_Aggravation_Board_Game.jpg\n",
      "Extract Image 0.014028310775756836 s\n",
      "'DotDict' object has no attribute 'use_multiple_views_inferences'\n",
      "'DotDict' object has no attribute 'use_multiple_views_inferences'\n"
     ]
    },
    {
     "data": {
      "application/vnd.jupyter.widget-view+json": {
       "model_id": "e5c43ae311234a02920b9ba9bd05f0e3",
       "version_major": 2,
       "version_minor": 0
      },
      "text/plain": [
       "  0%|          | 0/5 [00:00<?, ?it/s]"
      ]
     },
     "metadata": {},
     "output_type": "display_data"
    },
    {
     "name": "stdout",
     "output_type": "stream",
     "text": [
      "Latent Diffusion Time 2.3613505363464355 s\n",
      "Latent Decoding Time 0.004357576370239258 s\n",
      "Wavelet Preparation Time 0.0001480579376220703 s\n",
      "Low to Highs conversion 0.05606436729431152 s\n",
      "Inverse DWT time elapsed 0.003102540969848633 s\n",
      "mcubes.marching_cubes time 0.5564572811126709 s\n"
     ]
    },
    {
     "name": "stderr",
     "output_type": "stream",
     "text": [
      "Seed set to 42\n"
     ]
    },
    {
     "name": "stdout",
     "output_type": "stream",
     "text": [
      "export obj time 2.435364246368408 s\n",
      "Time to save visualization from high lows to obj 2.9956181049346924 s\n",
      "Total Inference time 5.44085955619812\n",
      "Processing image 184: /home/ray/test_images/Wishbone_Pencil_Case.jpg\n",
      "Extract Image 0.014963150024414062 s\n",
      "'DotDict' object has no attribute 'use_multiple_views_inferences'\n",
      "'DotDict' object has no attribute 'use_multiple_views_inferences'\n"
     ]
    },
    {
     "data": {
      "application/vnd.jupyter.widget-view+json": {
       "model_id": "a52c6026fc3e4a0e87e2b87e157f419c",
       "version_major": 2,
       "version_minor": 0
      },
      "text/plain": [
       "  0%|          | 0/5 [00:00<?, ?it/s]"
      ]
     },
     "metadata": {},
     "output_type": "display_data"
    },
    {
     "name": "stdout",
     "output_type": "stream",
     "text": [
      "Latent Diffusion Time 2.363520622253418 s\n",
      "Latent Decoding Time 0.004185914993286133 s\n",
      "Wavelet Preparation Time 0.0001537799835205078 s\n",
      "Low to Highs conversion 0.055985450744628906 s\n",
      "Inverse DWT time elapsed 0.0028319358825683594 s\n",
      "mcubes.marching_cubes time 0.5488226413726807 s\n"
     ]
    },
    {
     "name": "stderr",
     "output_type": "stream",
     "text": [
      "Seed set to 42\n"
     ]
    },
    {
     "name": "stdout",
     "output_type": "stream",
     "text": [
      "export obj time 2.150834083557129 s\n",
      "Time to save visualization from high lows to obj 2.702946186065674 s\n",
      "Total Inference time 5.1514811515808105\n",
      "Processing image 185: /home/ray/test_images/Womens_Authentic_Original_Boat_Shoe_in_Classic_Brown_Leather_cJSCWiH7QmB.jpg\n",
      "Extract Image 0.014609098434448242 s\n",
      "'DotDict' object has no attribute 'use_multiple_views_inferences'\n",
      "'DotDict' object has no attribute 'use_multiple_views_inferences'\n"
     ]
    },
    {
     "data": {
      "application/vnd.jupyter.widget-view+json": {
       "model_id": "a3a34a4afc2b4fe88f29c5a81f293ce1",
       "version_major": 2,
       "version_minor": 0
      },
      "text/plain": [
       "  0%|          | 0/5 [00:00<?, ?it/s]"
      ]
     },
     "metadata": {},
     "output_type": "display_data"
    },
    {
     "name": "stdout",
     "output_type": "stream",
     "text": [
      "Latent Diffusion Time 2.360722303390503 s\n",
      "Latent Decoding Time 0.004258632659912109 s\n",
      "Wavelet Preparation Time 0.00015401840209960938 s\n",
      "Low to Highs conversion 0.05619525909423828 s\n",
      "Inverse DWT time elapsed 0.002947568893432617 s\n",
      "mcubes.marching_cubes time 0.5499699115753174 s\n"
     ]
    },
    {
     "name": "stderr",
     "output_type": "stream",
     "text": [
      "Seed set to 42\n"
     ]
    },
    {
     "name": "stdout",
     "output_type": "stream",
     "text": [
      "export obj time 2.2079384326934814 s\n",
      "Time to save visualization from high lows to obj 2.761382818222046 s\n",
      "Total Inference time 5.207499265670776\n",
      "Processing image 186: /home/ray/test_images/Womens_Bluefish_2Eye_Boat_Shoe_in_Linen_Natural_Sparkle_Suede_w34KNQ41csH.jpg\n",
      "Extract Image 0.022924184799194336 s\n",
      "'DotDict' object has no attribute 'use_multiple_views_inferences'\n",
      "'DotDict' object has no attribute 'use_multiple_views_inferences'\n"
     ]
    },
    {
     "data": {
      "application/vnd.jupyter.widget-view+json": {
       "model_id": "9ff4bbbda50a497bb7ab7f70048014a2",
       "version_major": 2,
       "version_minor": 0
      },
      "text/plain": [
       "  0%|          | 0/5 [00:00<?, ?it/s]"
      ]
     },
     "metadata": {},
     "output_type": "display_data"
    },
    {
     "name": "stdout",
     "output_type": "stream",
     "text": [
      "Latent Diffusion Time 2.3632147312164307 s\n",
      "Latent Decoding Time 0.004651784896850586 s\n",
      "Wavelet Preparation Time 0.00015544891357421875 s\n",
      "Low to Highs conversion 0.05593419075012207 s\n",
      "Inverse DWT time elapsed 0.0028946399688720703 s\n",
      "mcubes.marching_cubes time 0.5542922019958496 s\n"
     ]
    },
    {
     "name": "stderr",
     "output_type": "stream",
     "text": [
      "Seed set to 42\n"
     ]
    },
    {
     "name": "stdout",
     "output_type": "stream",
     "text": [
      "export obj time 2.11291241645813 s\n",
      "Time to save visualization from high lows to obj 2.670795440673828 s\n",
      "Total Inference time 5.12904953956604\n",
      "Processing image 187: /home/ray/test_images/Womens_Canvas_Bahama_in_Black_vnJULsDVyq5.jpg\n",
      "Extract Image 0.014803409576416016 s\n",
      "'DotDict' object has no attribute 'use_multiple_views_inferences'\n",
      "'DotDict' object has no attribute 'use_multiple_views_inferences'\n"
     ]
    },
    {
     "data": {
      "application/vnd.jupyter.widget-view+json": {
       "model_id": "a44f96455fff4eeca8194a7c96db7ad9",
       "version_major": 2,
       "version_minor": 0
      },
      "text/plain": [
       "  0%|          | 0/5 [00:00<?, ?it/s]"
      ]
     },
     "metadata": {},
     "output_type": "display_data"
    },
    {
     "name": "stdout",
     "output_type": "stream",
     "text": [
      "Latent Diffusion Time 2.356628894805908 s\n",
      "Latent Decoding Time 0.004594326019287109 s\n",
      "Wavelet Preparation Time 0.00015211105346679688 s\n",
      "Low to Highs conversion 0.055991411209106445 s\n",
      "Inverse DWT time elapsed 0.003968715667724609 s\n",
      "mcubes.marching_cubes time 0.572026252746582 s\n"
     ]
    },
    {
     "name": "stderr",
     "output_type": "stream",
     "text": [
      "Seed set to 42\n"
     ]
    },
    {
     "name": "stdout",
     "output_type": "stream",
     "text": [
      "export obj time 2.251763343811035 s\n",
      "Time to save visualization from high lows to obj 2.8284530639648438 s\n",
      "Total Inference time 5.270182132720947\n",
      "Processing image 188: /home/ray/test_images/Womens_Canvas_Bahama_in_White_4UyOhP6rYGO.jpg\n",
      "Extract Image 0.01567983627319336 s\n",
      "'DotDict' object has no attribute 'use_multiple_views_inferences'\n",
      "'DotDict' object has no attribute 'use_multiple_views_inferences'\n"
     ]
    },
    {
     "data": {
      "application/vnd.jupyter.widget-view+json": {
       "model_id": "4f4a9b12b4f44fc4b171bfa0c40788d1",
       "version_major": 2,
       "version_minor": 0
      },
      "text/plain": [
       "  0%|          | 0/5 [00:00<?, ?it/s]"
      ]
     },
     "metadata": {},
     "output_type": "display_data"
    },
    {
     "name": "stdout",
     "output_type": "stream",
     "text": [
      "Latent Diffusion Time 2.3549001216888428 s\n",
      "Latent Decoding Time 0.004176139831542969 s\n",
      "Wavelet Preparation Time 0.00014281272888183594 s\n",
      "Low to Highs conversion 0.05592203140258789 s\n",
      "Inverse DWT time elapsed 0.0031239986419677734 s\n",
      "mcubes.marching_cubes time 0.5520448684692383 s\n"
     ]
    },
    {
     "name": "stderr",
     "output_type": "stream",
     "text": [
      "Seed set to 42\n"
     ]
    },
    {
     "name": "stdout",
     "output_type": "stream",
     "text": [
      "export obj time 2.228364944458008 s\n",
      "Time to save visualization from high lows to obj 2.7842280864715576 s\n",
      "Total Inference time 5.224226713180542\n",
      "Processing image 189: /home/ray/test_images/Womens_Canvas_Bahama_in_White_UfZPHGQpvz0.jpg\n",
      "Extract Image 0.014241933822631836 s\n",
      "'DotDict' object has no attribute 'use_multiple_views_inferences'\n",
      "'DotDict' object has no attribute 'use_multiple_views_inferences'\n"
     ]
    },
    {
     "data": {
      "application/vnd.jupyter.widget-view+json": {
       "model_id": "b96b9a7b8d334ab39b5d7288f9e2dd40",
       "version_major": 2,
       "version_minor": 0
      },
      "text/plain": [
       "  0%|          | 0/5 [00:00<?, ?it/s]"
      ]
     },
     "metadata": {},
     "output_type": "display_data"
    },
    {
     "name": "stdout",
     "output_type": "stream",
     "text": [
      "Latent Diffusion Time 2.3572046756744385 s\n",
      "Latent Decoding Time 0.004575252532958984 s\n",
      "Wavelet Preparation Time 0.00016736984252929688 s\n",
      "Low to Highs conversion 0.05661606788635254 s\n",
      "Inverse DWT time elapsed 0.0030107498168945312 s\n",
      "mcubes.marching_cubes time 0.550722599029541 s\n"
     ]
    },
    {
     "name": "stderr",
     "output_type": "stream",
     "text": [
      "Seed set to 42\n"
     ]
    },
    {
     "name": "stdout",
     "output_type": "stream",
     "text": [
      "export obj time 2.3407788276672363 s\n",
      "Time to save visualization from high lows to obj 2.8952391147613525 s\n",
      "Total Inference time 5.338126182556152\n",
      "Processing image 190: /home/ray/test_images/Womens_Hikerfish_Boot_in_Black_Leopard_bVSNY1Le1sm.jpg\n",
      "Extract Image 0.014757633209228516 s\n",
      "'DotDict' object has no attribute 'use_multiple_views_inferences'\n",
      "'DotDict' object has no attribute 'use_multiple_views_inferences'\n"
     ]
    },
    {
     "data": {
      "application/vnd.jupyter.widget-view+json": {
       "model_id": "b1157a20d3094f819d55306011849028",
       "version_major": 2,
       "version_minor": 0
      },
      "text/plain": [
       "  0%|          | 0/5 [00:00<?, ?it/s]"
      ]
     },
     "metadata": {},
     "output_type": "display_data"
    },
    {
     "name": "stdout",
     "output_type": "stream",
     "text": [
      "Latent Diffusion Time 2.3562521934509277 s\n",
      "Latent Decoding Time 0.004191875457763672 s\n",
      "Wavelet Preparation Time 0.00013828277587890625 s\n",
      "Low to Highs conversion 0.05586123466491699 s\n",
      "Inverse DWT time elapsed 0.002999544143676758 s\n",
      "mcubes.marching_cubes time 0.5523872375488281 s\n"
     ]
    },
    {
     "name": "stderr",
     "output_type": "stream",
     "text": [
      "Seed set to 42\n"
     ]
    },
    {
     "name": "stdout",
     "output_type": "stream",
     "text": [
      "export obj time 3.0486481189727783 s\n",
      "Time to save visualization from high lows to obj 3.6046769618988037 s\n",
      "Total Inference time 6.046034336090088\n",
      "Processing image 191: /home/ray/test_images/Womens_Sequin_Bahama_in_White_Sequin_V9K1hf24Oxe.jpg\n",
      "Extract Image 0.015510797500610352 s\n",
      "'DotDict' object has no attribute 'use_multiple_views_inferences'\n",
      "'DotDict' object has no attribute 'use_multiple_views_inferences'\n"
     ]
    },
    {
     "data": {
      "application/vnd.jupyter.widget-view+json": {
       "model_id": "dfb5f2adbddd4af0becd38f3b473ef0b",
       "version_major": 2,
       "version_minor": 0
      },
      "text/plain": [
       "  0%|          | 0/5 [00:00<?, ?it/s]"
      ]
     },
     "metadata": {},
     "output_type": "display_data"
    },
    {
     "name": "stdout",
     "output_type": "stream",
     "text": [
      "Latent Diffusion Time 2.35697340965271 s\n",
      "Latent Decoding Time 0.004221200942993164 s\n",
      "Wavelet Preparation Time 0.000152587890625 s\n",
      "Low to Highs conversion 0.05632948875427246 s\n",
      "Inverse DWT time elapsed 0.0030107498168945312 s\n",
      "mcubes.marching_cubes time 0.5535929203033447 s\n"
     ]
    },
    {
     "name": "stderr",
     "output_type": "stream",
     "text": [
      "Seed set to 42\n"
     ]
    },
    {
     "name": "stdout",
     "output_type": "stream",
     "text": [
      "export obj time 2.4846785068511963 s\n",
      "Time to save visualization from high lows to obj 3.041978597640991 s\n",
      "Total Inference time 5.484973669052124\n",
      "Processing image 192: /home/ray/test_images/Womens_Sequin_Bahama_in_White_Sequin_yGVsSA4tOwJ.jpg\n",
      "Extract Image 0.024776458740234375 s\n",
      "'DotDict' object has no attribute 'use_multiple_views_inferences'\n",
      "'DotDict' object has no attribute 'use_multiple_views_inferences'\n"
     ]
    },
    {
     "data": {
      "application/vnd.jupyter.widget-view+json": {
       "model_id": "dbfb99e35f364e65bec6dad03b199fb2",
       "version_major": 2,
       "version_minor": 0
      },
      "text/plain": [
       "  0%|          | 0/5 [00:00<?, ?it/s]"
      ]
     },
     "metadata": {},
     "output_type": "display_data"
    },
    {
     "name": "stdout",
     "output_type": "stream",
     "text": [
      "Latent Diffusion Time 2.3622641563415527 s\n",
      "Latent Decoding Time 0.004487037658691406 s\n",
      "Wavelet Preparation Time 0.00015044212341308594 s\n",
      "Low to Highs conversion 0.05590176582336426 s\n",
      "Inverse DWT time elapsed 0.0029799938201904297 s\n",
      "mcubes.marching_cubes time 0.5498816967010498 s\n"
     ]
    },
    {
     "name": "stderr",
     "output_type": "stream",
     "text": [
      "Seed set to 42\n"
     ]
    },
    {
     "name": "stdout",
     "output_type": "stream",
     "text": [
      "export obj time 2.0670900344848633 s\n",
      "Time to save visualization from high lows to obj 2.620610237121582 s\n",
      "Total Inference time 5.079131364822388\n",
      "Processing image 193: /home/ray/test_images/Womens_Teva_Capistrano_Bootie.jpg\n",
      "Extract Image 0.015051126480102539 s\n",
      "'DotDict' object has no attribute 'use_multiple_views_inferences'\n",
      "'DotDict' object has no attribute 'use_multiple_views_inferences'\n"
     ]
    },
    {
     "data": {
      "application/vnd.jupyter.widget-view+json": {
       "model_id": "7a69c6ccbf744e188c30dbf2bba6964b",
       "version_major": 2,
       "version_minor": 0
      },
      "text/plain": [
       "  0%|          | 0/5 [00:00<?, ?it/s]"
      ]
     },
     "metadata": {},
     "output_type": "display_data"
    },
    {
     "name": "stdout",
     "output_type": "stream",
     "text": [
      "Latent Diffusion Time 2.3616747856140137 s\n",
      "Latent Decoding Time 0.004391193389892578 s\n",
      "Wavelet Preparation Time 0.00015473365783691406 s\n",
      "Low to Highs conversion 0.05555248260498047 s\n",
      "Inverse DWT time elapsed 0.0030422210693359375 s\n",
      "mcubes.marching_cubes time 0.5602071285247803 s\n"
     ]
    },
    {
     "name": "stderr",
     "output_type": "stream",
     "text": [
      "Seed set to 42\n"
     ]
    },
    {
     "name": "stdout",
     "output_type": "stream",
     "text": [
      "export obj time 2.392871856689453 s\n",
      "Time to save visualization from high lows to obj 2.9568140506744385 s\n",
      "Total Inference time 5.403241395950317\n",
      "Processing image 194: /home/ray/test_images/Womens_Teva_Capistrano_Bootie_ldjRT9yZ5Ht.jpg\n",
      "Extract Image 0.015263795852661133 s\n",
      "'DotDict' object has no attribute 'use_multiple_views_inferences'\n",
      "'DotDict' object has no attribute 'use_multiple_views_inferences'\n"
     ]
    },
    {
     "data": {
      "application/vnd.jupyter.widget-view+json": {
       "model_id": "36b0c6d76a974ef18c76806cf8d2d991",
       "version_major": 2,
       "version_minor": 0
      },
      "text/plain": [
       "  0%|          | 0/5 [00:00<?, ?it/s]"
      ]
     },
     "metadata": {},
     "output_type": "display_data"
    },
    {
     "name": "stdout",
     "output_type": "stream",
     "text": [
      "Latent Diffusion Time 2.3591363430023193 s\n",
      "Latent Decoding Time 0.004351377487182617 s\n",
      "Wavelet Preparation Time 0.00014352798461914062 s\n",
      "Low to Highs conversion 0.05614137649536133 s\n",
      "Inverse DWT time elapsed 0.0031538009643554688 s\n",
      "mcubes.marching_cubes time 0.5565049648284912 s\n"
     ]
    },
    {
     "name": "stderr",
     "output_type": "stream",
     "text": [
      "Seed set to 42\n"
     ]
    },
    {
     "name": "stdout",
     "output_type": "stream",
     "text": [
      "export obj time 2.592473030090332 s\n",
      "Time to save visualization from high lows to obj 3.152744770050049 s\n",
      "Total Inference time 5.597533464431763\n",
      "Processing image 195: /home/ray/test_images/Xyli_Pure_Xylitol.jpg\n",
      "Extract Image 0.01483607292175293 s\n",
      "'DotDict' object has no attribute 'use_multiple_views_inferences'\n",
      "'DotDict' object has no attribute 'use_multiple_views_inferences'\n"
     ]
    },
    {
     "data": {
      "application/vnd.jupyter.widget-view+json": {
       "model_id": "19aa125d918d4744b46b49dbda48aa0b",
       "version_major": 2,
       "version_minor": 0
      },
      "text/plain": [
       "  0%|          | 0/5 [00:00<?, ?it/s]"
      ]
     },
     "metadata": {},
     "output_type": "display_data"
    },
    {
     "name": "stdout",
     "output_type": "stream",
     "text": [
      "Latent Diffusion Time 2.3554041385650635 s\n",
      "Latent Decoding Time 0.004271984100341797 s\n",
      "Wavelet Preparation Time 0.00014972686767578125 s\n",
      "Low to Highs conversion 0.05612373352050781 s\n",
      "Inverse DWT time elapsed 0.0028836727142333984 s\n",
      "mcubes.marching_cubes time 0.558152437210083 s\n"
     ]
    },
    {
     "name": "stderr",
     "output_type": "stream",
     "text": [
      "Seed set to 42\n"
     ]
    },
    {
     "name": "stdout",
     "output_type": "stream",
     "text": [
      "export obj time 3.1334738731384277 s\n",
      "Time to save visualization from high lows to obj 3.6951475143432617 s\n",
      "Total Inference time 6.135348320007324\n",
      "Processing image 196: /home/ray/test_images/adiZero_Slide_2_SC.jpg\n",
      "Extract Image 0.014481544494628906 s\n",
      "'DotDict' object has no attribute 'use_multiple_views_inferences'\n",
      "'DotDict' object has no attribute 'use_multiple_views_inferences'\n"
     ]
    },
    {
     "data": {
      "application/vnd.jupyter.widget-view+json": {
       "model_id": "3cb1f18cc6f146ee95f576ba007514dc",
       "version_major": 2,
       "version_minor": 0
      },
      "text/plain": [
       "  0%|          | 0/5 [00:00<?, ?it/s]"
      ]
     },
     "metadata": {},
     "output_type": "display_data"
    },
    {
     "name": "stdout",
     "output_type": "stream",
     "text": [
      "Latent Diffusion Time 2.357689380645752 s\n",
      "Latent Decoding Time 0.00439453125 s\n",
      "Wavelet Preparation Time 0.0001423358917236328 s\n",
      "Low to Highs conversion 0.05618691444396973 s\n",
      "Inverse DWT time elapsed 0.0029375553131103516 s\n",
      "mcubes.marching_cubes time 0.5568439960479736 s\n"
     ]
    },
    {
     "name": "stderr",
     "output_type": "stream",
     "text": [
      "Seed set to 42\n"
     ]
    },
    {
     "name": "stdout",
     "output_type": "stream",
     "text": [
      "export obj time 1.7638232707977295 s\n",
      "Time to save visualization from high lows to obj 2.3243110179901123 s\n",
      "Total Inference time 4.767024040222168\n",
      "Processing image 197: /home/ray/test_images/3D_Dollhouse_Lamp.jpg\n",
      "Extract Image 0.014897584915161133 s\n",
      "'DotDict' object has no attribute 'use_multiple_views_inferences'\n",
      "'DotDict' object has no attribute 'use_multiple_views_inferences'\n"
     ]
    },
    {
     "data": {
      "application/vnd.jupyter.widget-view+json": {
       "model_id": "4f4c9b0907f44459a32cc99d2098483a",
       "version_major": 2,
       "version_minor": 0
      },
      "text/plain": [
       "  0%|          | 0/5 [00:00<?, ?it/s]"
      ]
     },
     "metadata": {},
     "output_type": "display_data"
    },
    {
     "name": "stdout",
     "output_type": "stream",
     "text": [
      "Latent Diffusion Time 2.3558077812194824 s\n",
      "Latent Decoding Time 0.004360675811767578 s\n",
      "Wavelet Preparation Time 0.0001533031463623047 s\n",
      "Low to Highs conversion 0.055982112884521484 s\n",
      "Inverse DWT time elapsed 0.002819538116455078 s\n"
     ]
    },
    {
     "name": "stderr",
     "output_type": "stream",
     "text": [
      "Seed set to 42\n"
     ]
    },
    {
     "name": "stdout",
     "output_type": "stream",
     "text": [
      "mcubes.marching_cubes time 0.5429863929748535 s\n",
      "export obj time 0.14980173110961914 s\n",
      "Time to save visualization from high lows to obj 0.6959896087646484 s\n",
      "Total Inference time 3.1366851329803467\n",
      "Processing image 198: /home/ray/test_images/3D_Dollhouse_Sink.jpg\n",
      "Extract Image 0.014585256576538086 s\n",
      "'DotDict' object has no attribute 'use_multiple_views_inferences'\n",
      "'DotDict' object has no attribute 'use_multiple_views_inferences'\n"
     ]
    },
    {
     "data": {
      "application/vnd.jupyter.widget-view+json": {
       "model_id": "0e06869c085043999745a56725c86df1",
       "version_major": 2,
       "version_minor": 0
      },
      "text/plain": [
       "  0%|          | 0/5 [00:00<?, ?it/s]"
      ]
     },
     "metadata": {},
     "output_type": "display_data"
    },
    {
     "name": "stdout",
     "output_type": "stream",
     "text": [
      "Latent Diffusion Time 2.353607177734375 s\n",
      "Latent Decoding Time 0.004385471343994141 s\n",
      "Wavelet Preparation Time 0.00015664100646972656 s\n",
      "Low to Highs conversion 0.05572628974914551 s\n",
      "Inverse DWT time elapsed 0.002912759780883789 s\n",
      "mcubes.marching_cubes time 0.5680663585662842 s\n"
     ]
    },
    {
     "name": "stderr",
     "output_type": "stream",
     "text": [
      "Seed set to 42\n"
     ]
    },
    {
     "name": "stdout",
     "output_type": "stream",
     "text": [
      "export obj time 3.678048610687256 s\n",
      "Time to save visualization from high lows to obj 4.24971866607666 s\n",
      "Total Inference time 6.687522888183594\n",
      "Processing image 199: /home/ray/test_images/3D_Dollhouse_Sofa.jpg\n",
      "Extract Image 0.014864206314086914 s\n",
      "'DotDict' object has no attribute 'use_multiple_views_inferences'\n",
      "'DotDict' object has no attribute 'use_multiple_views_inferences'\n"
     ]
    },
    {
     "data": {
      "application/vnd.jupyter.widget-view+json": {
       "model_id": "64fc80cd29fa49b3803896bebcc1ba3e",
       "version_major": 2,
       "version_minor": 0
      },
      "text/plain": [
       "  0%|          | 0/5 [00:00<?, ?it/s]"
      ]
     },
     "metadata": {},
     "output_type": "display_data"
    },
    {
     "name": "stdout",
     "output_type": "stream",
     "text": [
      "Latent Diffusion Time 2.3583405017852783 s\n",
      "Latent Decoding Time 0.004839420318603516 s\n",
      "Wavelet Preparation Time 0.00016999244689941406 s\n",
      "Low to Highs conversion 0.06024599075317383 s\n",
      "Inverse DWT time elapsed 0.003017425537109375 s\n",
      "mcubes.marching_cubes time 0.5498392581939697 s\n"
     ]
    },
    {
     "name": "stderr",
     "output_type": "stream",
     "text": [
      "Seed set to 42\n"
     ]
    },
    {
     "name": "stdout",
     "output_type": "stream",
     "text": [
      "export obj time 2.2115001678466797 s\n",
      "Time to save visualization from high lows to obj 2.76503849029541 s\n",
      "Total Inference time 5.212965965270996\n",
      "Processing image 200: /home/ray/test_images/ASSORTED_VEGETABLE_SET.jpg\n",
      "Extract Image 0.015204429626464844 s\n",
      "'DotDict' object has no attribute 'use_multiple_views_inferences'\n",
      "'DotDict' object has no attribute 'use_multiple_views_inferences'\n"
     ]
    },
    {
     "data": {
      "application/vnd.jupyter.widget-view+json": {
       "model_id": "7aac62a8dd9c42b8881cdb9c709350d6",
       "version_major": 2,
       "version_minor": 0
      },
      "text/plain": [
       "  0%|          | 0/5 [00:00<?, ?it/s]"
      ]
     },
     "metadata": {},
     "output_type": "display_data"
    },
    {
     "name": "stdout",
     "output_type": "stream",
     "text": [
      "Latent Diffusion Time 2.355165719985962 s\n",
      "Latent Decoding Time 0.004666805267333984 s\n",
      "Wavelet Preparation Time 0.0001556873321533203 s\n",
      "Low to Highs conversion 0.0558321475982666 s\n",
      "Inverse DWT time elapsed 0.003088235855102539 s\n",
      "mcubes.marching_cubes time 0.5513570308685303 s\n"
     ]
    },
    {
     "name": "stderr",
     "output_type": "stream",
     "text": [
      "Seed set to 42\n"
     ]
    },
    {
     "name": "stdout",
     "output_type": "stream",
     "text": [
      "export obj time 1.9977202415466309 s\n",
      "Time to save visualization from high lows to obj 2.5528035163879395 s\n",
      "Total Inference time 4.993181228637695\n",
      "Processing image 201: /home/ray/test_images/Mens_Authentic_Original_Boat_Shoe_in_Navy_Leather_NHHQddDLQys.jpg\n",
      "Extract Image 0.015771865844726562 s\n",
      "'DotDict' object has no attribute 'use_multiple_views_inferences'\n",
      "'DotDict' object has no attribute 'use_multiple_views_inferences'\n"
     ]
    },
    {
     "data": {
      "application/vnd.jupyter.widget-view+json": {
       "model_id": "8861f0d92bf8495bb30053550b815530",
       "version_major": 2,
       "version_minor": 0
      },
      "text/plain": [
       "  0%|          | 0/5 [00:00<?, ?it/s]"
      ]
     },
     "metadata": {},
     "output_type": "display_data"
    },
    {
     "name": "stdout",
     "output_type": "stream",
     "text": [
      "Latent Diffusion Time 2.356088399887085 s\n",
      "Latent Decoding Time 0.0044252872467041016 s\n",
      "Wavelet Preparation Time 0.0001552104949951172 s\n",
      "Low to Highs conversion 0.05614519119262695 s\n",
      "Inverse DWT time elapsed 0.0030128955841064453 s\n",
      "mcubes.marching_cubes time 0.5606141090393066 s\n"
     ]
    },
    {
     "name": "stderr",
     "output_type": "stream",
     "text": [
      "Seed set to 42\n"
     ]
    },
    {
     "name": "stdout",
     "output_type": "stream",
     "text": [
      "export obj time 2.2256152629852295 s\n",
      "Time to save visualization from high lows to obj 2.78987193107605 s\n",
      "Total Inference time 5.232026100158691\n",
      "Processing image 202: /home/ray/test_images/Mens_Mako_Canoe_Moc_2Eye_Boat_Shoe_in_Coffee_9d05GG33QQQ.jpg\n",
      "Extract Image 0.01474905014038086 s\n",
      "'DotDict' object has no attribute 'use_multiple_views_inferences'\n",
      "'DotDict' object has no attribute 'use_multiple_views_inferences'\n"
     ]
    },
    {
     "data": {
      "application/vnd.jupyter.widget-view+json": {
       "model_id": "3c9db01b1e9146a3a727ca54efcca6ef",
       "version_major": 2,
       "version_minor": 0
      },
      "text/plain": [
       "  0%|          | 0/5 [00:00<?, ?it/s]"
      ]
     },
     "metadata": {},
     "output_type": "display_data"
    },
    {
     "name": "stdout",
     "output_type": "stream",
     "text": [
      "Latent Diffusion Time 2.356281042098999 s\n",
      "Latent Decoding Time 0.004518032073974609 s\n",
      "Wavelet Preparation Time 0.00016641616821289062 s\n",
      "Low to Highs conversion 0.05630683898925781 s\n",
      "Inverse DWT time elapsed 0.0030324459075927734 s\n",
      "mcubes.marching_cubes time 0.5704817771911621 s\n"
     ]
    },
    {
     "name": "stderr",
     "output_type": "stream",
     "text": [
      "Seed set to 42\n"
     ]
    },
    {
     "name": "stdout",
     "output_type": "stream",
     "text": [
      "export obj time 2.6740002632141113 s\n",
      "Time to save visualization from high lows to obj 3.248185396194458 s\n",
      "Total Inference time 5.6899542808532715\n",
      "Processing image 203: /home/ray/test_images/Womens_Bluefish_2Eye_Boat_Shoe_in_Linen_Oat.jpg\n",
      "Extract Image 0.014783143997192383 s\n",
      "'DotDict' object has no attribute 'use_multiple_views_inferences'\n",
      "'DotDict' object has no attribute 'use_multiple_views_inferences'\n"
     ]
    },
    {
     "data": {
      "application/vnd.jupyter.widget-view+json": {
       "model_id": "03ac7a2ccd6b4a3f92c6c834d347a36c",
       "version_major": 2,
       "version_minor": 0
      },
      "text/plain": [
       "  0%|          | 0/5 [00:00<?, ?it/s]"
      ]
     },
     "metadata": {},
     "output_type": "display_data"
    },
    {
     "name": "stdout",
     "output_type": "stream",
     "text": [
      "Latent Diffusion Time 2.356515645980835 s\n",
      "Latent Decoding Time 0.004499197006225586 s\n",
      "Wavelet Preparation Time 0.00015020370483398438 s\n",
      "Low to Highs conversion 0.05615639686584473 s\n",
      "Inverse DWT time elapsed 0.0030345916748046875 s\n",
      "mcubes.marching_cubes time 0.550227165222168 s\n"
     ]
    },
    {
     "name": "stderr",
     "output_type": "stream",
     "text": [
      "Seed set to 42\n"
     ]
    },
    {
     "name": "stdout",
     "output_type": "stream",
     "text": [
      "export obj time 2.259927272796631 s\n",
      "Time to save visualization from high lows to obj 2.8139185905456543 s\n",
      "Total Inference time 5.256227970123291\n",
      "Processing image 204: /home/ray/test_images/Womens_Bluefish_2Eye_Boat_Shoe_in_Tan.jpg\n",
      "Extract Image 0.028690576553344727 s\n",
      "'DotDict' object has no attribute 'use_multiple_views_inferences'\n",
      "'DotDict' object has no attribute 'use_multiple_views_inferences'\n"
     ]
    },
    {
     "data": {
      "application/vnd.jupyter.widget-view+json": {
       "model_id": "b875215db5264b918b475d22a1a77114",
       "version_major": 2,
       "version_minor": 0
      },
      "text/plain": [
       "  0%|          | 0/5 [00:00<?, ?it/s]"
      ]
     },
     "metadata": {},
     "output_type": "display_data"
    },
    {
     "name": "stdout",
     "output_type": "stream",
     "text": [
      "Latent Diffusion Time 2.3554415702819824 s\n",
      "Latent Decoding Time 0.0041959285736083984 s\n",
      "Wavelet Preparation Time 0.00014281272888183594 s\n",
      "Low to Highs conversion 0.05587005615234375 s\n",
      "Inverse DWT time elapsed 0.003105640411376953 s\n",
      "mcubes.marching_cubes time 0.5464165210723877 s\n"
     ]
    },
    {
     "name": "stderr",
     "output_type": "stream",
     "text": [
      "Seed set to 42\n"
     ]
    },
    {
     "name": "stdout",
     "output_type": "stream",
     "text": [
      "export obj time 1.4627628326416016 s\n",
      "Time to save visualization from high lows to obj 2.0129756927490234 s\n",
      "Total Inference time 4.468698024749756\n",
      "Processing image 205: /home/ray/test_images/3D_Dollhouse_Refrigerator.jpg\n",
      "Extract Image 0.014923334121704102 s\n",
      "'DotDict' object has no attribute 'use_multiple_views_inferences'\n",
      "'DotDict' object has no attribute 'use_multiple_views_inferences'\n"
     ]
    },
    {
     "data": {
      "application/vnd.jupyter.widget-view+json": {
       "model_id": "0cdd2e44a07a4256924f9924c37ccbb4",
       "version_major": 2,
       "version_minor": 0
      },
      "text/plain": [
       "  0%|          | 0/5 [00:00<?, ?it/s]"
      ]
     },
     "metadata": {},
     "output_type": "display_data"
    },
    {
     "name": "stdout",
     "output_type": "stream",
     "text": [
      "Latent Diffusion Time 2.352980136871338 s\n",
      "Latent Decoding Time 0.005385160446166992 s\n",
      "Wavelet Preparation Time 0.00019407272338867188 s\n",
      "Low to Highs conversion 0.055915117263793945 s\n",
      "Inverse DWT time elapsed 0.002947092056274414 s\n",
      "mcubes.marching_cubes time 0.5515491962432861 s\n"
     ]
    },
    {
     "name": "stderr",
     "output_type": "stream",
     "text": [
      "Seed set to 42\n"
     ]
    },
    {
     "name": "stdout",
     "output_type": "stream",
     "text": [
      "export obj time 2.499052047729492 s\n",
      "Time to save visualization from high lows to obj 3.0539960861206055 s\n",
      "Total Inference time 5.493595838546753\n",
      "Processing image 206: /home/ray/test_images/Air_Hogs_Wind_Flyers_Set_Airplane_Red.jpg\n",
      "Extract Image 0.014976978302001953 s\n",
      "'DotDict' object has no attribute 'use_multiple_views_inferences'\n",
      "'DotDict' object has no attribute 'use_multiple_views_inferences'\n"
     ]
    },
    {
     "data": {
      "application/vnd.jupyter.widget-view+json": {
       "model_id": "51d18a8e8df3491281f7b164143a823b",
       "version_major": 2,
       "version_minor": 0
      },
      "text/plain": [
       "  0%|          | 0/5 [00:00<?, ?it/s]"
      ]
     },
     "metadata": {},
     "output_type": "display_data"
    },
    {
     "name": "stdout",
     "output_type": "stream",
     "text": [
      "Latent Diffusion Time 2.3520419597625732 s\n",
      "Latent Decoding Time 0.004227399826049805 s\n",
      "Wavelet Preparation Time 0.00015234947204589844 s\n",
      "Low to Highs conversion 0.05630993843078613 s\n",
      "Inverse DWT time elapsed 0.0029578208923339844 s\n",
      "mcubes.marching_cubes time 0.5495591163635254 s\n"
     ]
    },
    {
     "name": "stderr",
     "output_type": "stream",
     "text": [
      "Seed set to 42\n"
     ]
    },
    {
     "name": "stdout",
     "output_type": "stream",
     "text": [
      "export obj time 0.7872292995452881 s\n",
      "Time to save visualization from high lows to obj 1.3404219150543213 s\n",
      "Total Inference time 3.778599739074707\n",
      "Processing image 207: /home/ray/test_images/BAKING_UTENSILS.jpg\n",
      "Extract Image 0.014739751815795898 s\n",
      "'DotDict' object has no attribute 'use_multiple_views_inferences'\n",
      "'DotDict' object has no attribute 'use_multiple_views_inferences'\n"
     ]
    },
    {
     "data": {
      "application/vnd.jupyter.widget-view+json": {
       "model_id": "93f9702ef78b4f31a2a280a959ce8845",
       "version_major": 2,
       "version_minor": 0
      },
      "text/plain": [
       "  0%|          | 0/5 [00:00<?, ?it/s]"
      ]
     },
     "metadata": {},
     "output_type": "display_data"
    },
    {
     "name": "stdout",
     "output_type": "stream",
     "text": [
      "Latent Diffusion Time 2.3519155979156494 s\n",
      "Latent Decoding Time 0.004203081130981445 s\n",
      "Wavelet Preparation Time 0.00014519691467285156 s\n",
      "Low to Highs conversion 0.05603289604187012 s\n",
      "Inverse DWT time elapsed 0.002825498580932617 s\n",
      "mcubes.marching_cubes time 0.5450563430786133 s\n"
     ]
    },
    {
     "name": "stderr",
     "output_type": "stream",
     "text": [
      "Seed set to 42\n"
     ]
    },
    {
     "name": "stdout",
     "output_type": "stream",
     "text": [
      "export obj time 1.0818736553192139 s\n",
      "Time to save visualization from high lows to obj 1.630411148071289 s\n",
      "Total Inference time 4.066830635070801\n",
      "Processing image 208: /home/ray/test_images/BIA_Porcelain_Ramekin_With_Glazed_Rim_35_45_oz_cup.jpg\n",
      "Extract Image 0.015581130981445312 s\n",
      "'DotDict' object has no attribute 'use_multiple_views_inferences'\n",
      "'DotDict' object has no attribute 'use_multiple_views_inferences'\n"
     ]
    },
    {
     "data": {
      "application/vnd.jupyter.widget-view+json": {
       "model_id": "decd099e08b54bfb97178a0be8ccd6fb",
       "version_major": 2,
       "version_minor": 0
      },
      "text/plain": [
       "  0%|          | 0/5 [00:00<?, ?it/s]"
      ]
     },
     "metadata": {},
     "output_type": "display_data"
    },
    {
     "name": "stdout",
     "output_type": "stream",
     "text": [
      "Latent Diffusion Time 2.3520994186401367 s\n",
      "Latent Decoding Time 0.004404306411743164 s\n",
      "Wavelet Preparation Time 0.00014638900756835938 s\n",
      "Low to Highs conversion 0.05598855018615723 s\n",
      "Inverse DWT time elapsed 0.002836465835571289 s\n",
      "mcubes.marching_cubes time 0.5773618221282959 s\n"
     ]
    },
    {
     "name": "stderr",
     "output_type": "stream",
     "text": [
      "Seed set to 42\n"
     ]
    },
    {
     "name": "stdout",
     "output_type": "stream",
     "text": [
      "export obj time 3.7588326930999756 s\n",
      "Time to save visualization from high lows to obj 4.3397040367126465 s\n",
      "Total Inference time 6.777408599853516\n",
      "Processing image 209: /home/ray/test_images/BREAKFAST_MENU.jpg\n",
      "Extract Image 0.015574455261230469 s\n",
      "'DotDict' object has no attribute 'use_multiple_views_inferences'\n",
      "'DotDict' object has no attribute 'use_multiple_views_inferences'\n"
     ]
    },
    {
     "data": {
      "application/vnd.jupyter.widget-view+json": {
       "model_id": "6ae150bd3e4f49aaba8d31c8fd30f690",
       "version_major": 2,
       "version_minor": 0
      },
      "text/plain": [
       "  0%|          | 0/5 [00:00<?, ?it/s]"
      ]
     },
     "metadata": {},
     "output_type": "display_data"
    },
    {
     "name": "stdout",
     "output_type": "stream",
     "text": [
      "Latent Diffusion Time 2.356724262237549 s\n",
      "Latent Decoding Time 0.004511833190917969 s\n",
      "Wavelet Preparation Time 0.00015926361083984375 s\n",
      "Low to Highs conversion 0.05599832534790039 s\n",
      "Inverse DWT time elapsed 0.002871990203857422 s\n",
      "mcubes.marching_cubes time 0.5557525157928467 s\n"
     ]
    },
    {
     "name": "stderr",
     "output_type": "stream",
     "text": [
      "Seed set to 42\n"
     ]
    },
    {
     "name": "stdout",
     "output_type": "stream",
     "text": [
      "export obj time 2.8098349571228027 s\n",
      "Time to save visualization from high lows to obj 3.369112253189087 s\n",
      "Total Inference time 5.811813831329346\n",
      "Processing image 210: /home/ray/test_images/Bradshaw_International_11642_7_Qt_MP_Plastic_Bowl.jpg\n",
      "Extract Image 0.014852762222290039 s\n",
      "'DotDict' object has no attribute 'use_multiple_views_inferences'\n",
      "'DotDict' object has no attribute 'use_multiple_views_inferences'\n"
     ]
    },
    {
     "data": {
      "application/vnd.jupyter.widget-view+json": {
       "model_id": "6275c556fd8e4008a1907f6c7ccf8c03",
       "version_major": 2,
       "version_minor": 0
      },
      "text/plain": [
       "  0%|          | 0/5 [00:00<?, ?it/s]"
      ]
     },
     "metadata": {},
     "output_type": "display_data"
    },
    {
     "name": "stdout",
     "output_type": "stream",
     "text": [
      "Latent Diffusion Time 2.35726261138916 s\n",
      "Latent Decoding Time 0.004845857620239258 s\n",
      "Wavelet Preparation Time 0.00015664100646972656 s\n",
      "Low to Highs conversion 0.05594515800476074 s\n",
      "Inverse DWT time elapsed 0.002984762191772461 s\n",
      "mcubes.marching_cubes time 0.5530457496643066 s\n"
     ]
    },
    {
     "name": "stderr",
     "output_type": "stream",
     "text": [
      "Seed set to 42\n"
     ]
    },
    {
     "name": "stdout",
     "output_type": "stream",
     "text": [
      "export obj time 3.671388626098633 s\n",
      "Time to save visualization from high lows to obj 4.2280707359313965 s\n",
      "Total Inference time 6.6708598136901855\n",
      "Processing image 211: /home/ray/test_images/Brother_LC_1053PKS_Ink_Cartridge_CyanMagentaYellow_1pack.jpg\n",
      "Extract Image 0.015308141708374023 s\n",
      "'DotDict' object has no attribute 'use_multiple_views_inferences'\n",
      "'DotDict' object has no attribute 'use_multiple_views_inferences'\n"
     ]
    },
    {
     "data": {
      "application/vnd.jupyter.widget-view+json": {
       "model_id": "3838a69951be460a95b74dd7f16f4ed9",
       "version_major": 2,
       "version_minor": 0
      },
      "text/plain": [
       "  0%|          | 0/5 [00:00<?, ?it/s]"
      ]
     },
     "metadata": {},
     "output_type": "display_data"
    },
    {
     "name": "stdout",
     "output_type": "stream",
     "text": [
      "Latent Diffusion Time 2.353989839553833 s\n",
      "Latent Decoding Time 0.0042705535888671875 s\n",
      "Wavelet Preparation Time 0.00015115737915039062 s\n",
      "Low to Highs conversion 0.05590009689331055 s\n",
      "Inverse DWT time elapsed 0.0031456947326660156 s\n",
      "mcubes.marching_cubes time 0.5543153285980225 s\n"
     ]
    },
    {
     "name": "stderr",
     "output_type": "stream",
     "text": [
      "Seed set to 42\n"
     ]
    },
    {
     "name": "stdout",
     "output_type": "stream",
     "text": [
      "export obj time 3.1707377433776855 s\n",
      "Time to save visualization from high lows to obj 3.7288811206817627 s\n",
      "Total Inference time 6.168194055557251\n",
      "Processing image 212: /home/ray/test_images/Brother_Printing_Cartridge_PC501.jpg\n",
      "Extract Image 0.014995574951171875 s\n",
      "'DotDict' object has no attribute 'use_multiple_views_inferences'\n",
      "'DotDict' object has no attribute 'use_multiple_views_inferences'\n"
     ]
    },
    {
     "data": {
      "application/vnd.jupyter.widget-view+json": {
       "model_id": "01c1ce3d1de34c4581ddebbd05af8410",
       "version_major": 2,
       "version_minor": 0
      },
      "text/plain": [
       "  0%|          | 0/5 [00:00<?, ?it/s]"
      ]
     },
     "metadata": {},
     "output_type": "display_data"
    },
    {
     "name": "stdout",
     "output_type": "stream",
     "text": [
      "Latent Diffusion Time 2.359760284423828 s\n",
      "Latent Decoding Time 0.004141807556152344 s\n",
      "Wavelet Preparation Time 0.00014209747314453125 s\n",
      "Low to Highs conversion 0.055930376052856445 s\n",
      "Inverse DWT time elapsed 0.0031359195709228516 s\n",
      "mcubes.marching_cubes time 0.5533382892608643 s\n"
     ]
    },
    {
     "name": "stderr",
     "output_type": "stream",
     "text": [
      "Seed set to 42\n"
     ]
    },
    {
     "name": "stdout",
     "output_type": "stream",
     "text": [
      "export obj time 3.5098931789398193 s\n",
      "Time to save visualization from high lows to obj 4.067095518112183 s\n",
      "Total Inference time 6.5116870403289795\n",
      "Processing image 213: /home/ray/test_images/CHICKEN_NESTING.jpg\n",
      "Extract Image 0.015353202819824219 s\n",
      "'DotDict' object has no attribute 'use_multiple_views_inferences'\n",
      "'DotDict' object has no attribute 'use_multiple_views_inferences'\n"
     ]
    },
    {
     "data": {
      "application/vnd.jupyter.widget-view+json": {
       "model_id": "2da13d1799fd4d7dbdb8b4b735fa1a72",
       "version_major": 2,
       "version_minor": 0
      },
      "text/plain": [
       "  0%|          | 0/5 [00:00<?, ?it/s]"
      ]
     },
     "metadata": {},
     "output_type": "display_data"
    },
    {
     "name": "stdout",
     "output_type": "stream",
     "text": [
      "Latent Diffusion Time 2.360593795776367 s\n",
      "Latent Decoding Time 0.004296064376831055 s\n",
      "Wavelet Preparation Time 0.00014495849609375 s\n",
      "Low to Highs conversion 0.05665397644042969 s\n",
      "Inverse DWT time elapsed 0.0035212039947509766 s\n",
      "mcubes.marching_cubes time 0.5502636432647705 s\n"
     ]
    },
    {
     "name": "stderr",
     "output_type": "stream",
     "text": [
      "Seed set to 42\n"
     ]
    },
    {
     "name": "stdout",
     "output_type": "stream",
     "text": [
      "export obj time 2.4342947006225586 s\n",
      "Time to save visualization from high lows to obj 2.9887490272521973 s\n",
      "Total Inference time 5.4354705810546875\n",
      "Processing image 214: /home/ray/test_images/CHILDREN_BEDROOM_CLASSIC.jpg\n",
      "Extract Image 0.016009092330932617 s\n",
      "'DotDict' object has no attribute 'use_multiple_views_inferences'\n",
      "'DotDict' object has no attribute 'use_multiple_views_inferences'\n"
     ]
    },
    {
     "data": {
      "application/vnd.jupyter.widget-view+json": {
       "model_id": "49d3adb846254a90849c50d4ef8a2a4b",
       "version_major": 2,
       "version_minor": 0
      },
      "text/plain": [
       "  0%|          | 0/5 [00:00<?, ?it/s]"
      ]
     },
     "metadata": {},
     "output_type": "display_data"
    },
    {
     "name": "stdout",
     "output_type": "stream",
     "text": [
      "Latent Diffusion Time 2.3559610843658447 s\n",
      "Latent Decoding Time 0.004313468933105469 s\n",
      "Wavelet Preparation Time 0.00014543533325195312 s\n",
      "Low to Highs conversion 0.05603313446044922 s\n",
      "Inverse DWT time elapsed 0.0028531551361083984 s\n",
      "mcubes.marching_cubes time 0.5547800064086914 s\n"
     ]
    },
    {
     "name": "stderr",
     "output_type": "stream",
     "text": [
      "Seed set to 42\n"
     ]
    },
    {
     "name": "stdout",
     "output_type": "stream",
     "text": [
      "export obj time 3.0316660404205322 s\n",
      "Time to save visualization from high lows to obj 3.5899922847747803 s\n",
      "Total Inference time 6.033308029174805\n",
      "Processing image 215: /home/ray/test_images/Calphalon_Kitchen_Essentials_12_Cast_Iron_Fry_Pan_Black.jpg\n",
      "Extract Image 0.014886140823364258 s\n",
      "'DotDict' object has no attribute 'use_multiple_views_inferences'\n",
      "'DotDict' object has no attribute 'use_multiple_views_inferences'\n"
     ]
    },
    {
     "data": {
      "application/vnd.jupyter.widget-view+json": {
       "model_id": "74d7d04b832b4daea680f816d5fd896a",
       "version_major": 2,
       "version_minor": 0
      },
      "text/plain": [
       "  0%|          | 0/5 [00:00<?, ?it/s]"
      ]
     },
     "metadata": {},
     "output_type": "display_data"
    },
    {
     "name": "stdout",
     "output_type": "stream",
     "text": [
      "Latent Diffusion Time 2.3607678413391113 s\n",
      "Latent Decoding Time 0.0041697025299072266 s\n",
      "Wavelet Preparation Time 0.0001404285430908203 s\n",
      "Low to Highs conversion 0.056262969970703125 s\n",
      "Inverse DWT time elapsed 0.0031175613403320312 s\n",
      "mcubes.marching_cubes time 0.5519595146179199 s\n"
     ]
    },
    {
     "name": "stderr",
     "output_type": "stream",
     "text": [
      "Seed set to 42\n"
     ]
    },
    {
     "name": "stdout",
     "output_type": "stream",
     "text": [
      "export obj time 3.2849831581115723 s\n",
      "Time to save visualization from high lows to obj 3.8407185077667236 s\n",
      "Total Inference time 6.2876482009887695\n",
      "Processing image 216: /home/ray/test_images/Chef_Style_Round_Cake_Pan_9_inch_pan.jpg\n",
      "Extract Image 0.015018701553344727 s\n",
      "'DotDict' object has no attribute 'use_multiple_views_inferences'\n",
      "'DotDict' object has no attribute 'use_multiple_views_inferences'\n"
     ]
    },
    {
     "data": {
      "application/vnd.jupyter.widget-view+json": {
       "model_id": "cea9eb277391415d8c6f4936da9339db",
       "version_major": 2,
       "version_minor": 0
      },
      "text/plain": [
       "  0%|          | 0/5 [00:00<?, ?it/s]"
      ]
     },
     "metadata": {},
     "output_type": "display_data"
    },
    {
     "name": "stdout",
     "output_type": "stream",
     "text": [
      "Latent Diffusion Time 2.361196517944336 s\n",
      "Latent Decoding Time 0.004198551177978516 s\n",
      "Wavelet Preparation Time 0.00014328956604003906 s\n",
      "Low to Highs conversion 0.05595898628234863 s\n",
      "Inverse DWT time elapsed 0.0031087398529052734 s\n",
      "mcubes.marching_cubes time 0.5542149543762207 s\n"
     ]
    },
    {
     "name": "stderr",
     "output_type": "stream",
     "text": [
      "Seed set to 42\n"
     ]
    },
    {
     "name": "stdout",
     "output_type": "stream",
     "text": [
      "export obj time 2.343017101287842 s\n",
      "Time to save visualization from high lows to obj 2.9010462760925293 s\n",
      "Total Inference time 5.3468382358551025\n",
      "Processing image 217: /home/ray/test_images/Circo_Fish_Toothbrush_Holder_14995988.jpg\n",
      "Extract Image 0.014939308166503906 s\n",
      "'DotDict' object has no attribute 'use_multiple_views_inferences'\n",
      "'DotDict' object has no attribute 'use_multiple_views_inferences'\n"
     ]
    },
    {
     "data": {
      "application/vnd.jupyter.widget-view+json": {
       "model_id": "16c97221e2ba4ca3b3e2545d586603a4",
       "version_major": 2,
       "version_minor": 0
      },
      "text/plain": [
       "  0%|          | 0/5 [00:00<?, ?it/s]"
      ]
     },
     "metadata": {},
     "output_type": "display_data"
    },
    {
     "name": "stdout",
     "output_type": "stream",
     "text": [
      "Latent Diffusion Time 2.3599159717559814 s\n",
      "Latent Decoding Time 0.004387617111206055 s\n",
      "Wavelet Preparation Time 0.00016307830810546875 s\n",
      "Low to Highs conversion 0.055947065353393555 s\n",
      "Inverse DWT time elapsed 0.002892732620239258 s\n",
      "mcubes.marching_cubes time 0.5592677593231201 s\n"
     ]
    },
    {
     "name": "stderr",
     "output_type": "stream",
     "text": [
      "Seed set to 42\n"
     ]
    },
    {
     "name": "stdout",
     "output_type": "stream",
     "text": [
      "export obj time 4.124996900558472 s\n",
      "Time to save visualization from high lows to obj 4.68790078163147 s\n",
      "Total Inference time 7.133396148681641\n",
      "Processing image 218: /home/ray/test_images/Cole_Hardware_Butter_Dish_Square_Red.jpg\n",
      "Extract Image 0.015001058578491211 s\n",
      "'DotDict' object has no attribute 'use_multiple_views_inferences'\n",
      "'DotDict' object has no attribute 'use_multiple_views_inferences'\n"
     ]
    },
    {
     "data": {
      "application/vnd.jupyter.widget-view+json": {
       "model_id": "d238f38f57ec40e6971bc70102d534b8",
       "version_major": 2,
       "version_minor": 0
      },
      "text/plain": [
       "  0%|          | 0/5 [00:00<?, ?it/s]"
      ]
     },
     "metadata": {},
     "output_type": "display_data"
    },
    {
     "name": "stdout",
     "output_type": "stream",
     "text": [
      "Latent Diffusion Time 2.358747720718384 s\n",
      "Latent Decoding Time 0.004492998123168945 s\n",
      "Wavelet Preparation Time 0.0001780986785888672 s\n",
      "Low to Highs conversion 0.05602097511291504 s\n",
      "Inverse DWT time elapsed 0.0028448104858398438 s\n",
      "mcubes.marching_cubes time 0.5553078651428223 s\n"
     ]
    }
   ],
   "source": [
    "### Scanned Objects by Google Research\n",
    "google_test_img_path = Path(os.path.expanduser('~/test_images'))  # Expands '~' to the full home directory path\n",
    "output_dir = os.path.expanduser('~/Obj_generated')\n",
    "\n",
    "for idx, image_path in enumerate(google_test_img_path.iterdir()):  # Enumerate to get the index\n",
    "        #if idx >= 3:  # Stop after processing the first 3 files\n",
    "            #break\n",
    "        print(f\"Processing image {idx + 1}: {image_path}\")\n",
    "\n",
    "\n",
    "\n",
    "        timer1 = time.time()\n",
    "        data = get_singleview_data(\n",
    "            image_file=Path(image_path),\n",
    "            image_transform=image_transform,\n",
    "            device=model.device,\n",
    "            image_over_white=False,\n",
    "        )\n",
    "        data_idx = 0\n",
    "        save_dir = Path(output_dir) \n",
    "\n",
    "        model.set_inference_fusion_params(\n",
    "            scale, diffusion_rescale_timestep\n",
    "        )\n",
    "\n",
    "        generate_3d_object(\n",
    "            model,\n",
    "            data,\n",
    "            data_idx,\n",
    "            scale,\n",
    "            diffusion_rescale_timestep,\n",
    "            save_dir,\n",
    "            output_format,\n",
    "            target_num_faces,\n",
    "            seed,\n",
    "        )\n",
    "        delta = time.time() - timer1\n",
    "        experiment.log_metric(\"Default Delta\", delta)\n",
    "        print('Total Inference time', delta)\n",
    "\n",
    "experiment.end()"
   ]
  },
  {
   "cell_type": "code",
   "execution_count": null,
   "metadata": {},
   "outputs": [],
   "source": []
  }
 ],
 "metadata": {
  "kernelspec": {
   "display_name": "wala",
   "language": "python",
   "name": "python3"
  },
  "language_info": {
   "codemirror_mode": {
    "name": "ipython",
    "version": 3
   },
   "file_extension": ".py",
   "mimetype": "text/x-python",
   "name": "python",
   "nbconvert_exporter": "python",
   "pygments_lexer": "ipython3",
   "version": "3.10.0"
  }
 },
 "nbformat": 4,
 "nbformat_minor": 2
}
